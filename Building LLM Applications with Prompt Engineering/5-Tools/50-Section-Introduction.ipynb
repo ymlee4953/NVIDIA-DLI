{
 "cells": [
  {
   "cell_type": "markdown",
   "id": "744d0a4f-6751-4683-91ed-b6639447a018",
   "metadata": {},
   "source": [
    "![NVIDIA](images/nvidia.png)"
   ]
  },
  {
   "cell_type": "markdown",
   "id": "688ebc37-2bdc-4094-9bad-671bd6d4faa5",
   "metadata": {},
   "source": [
    "# Section 5: Tool Use and Agents"
   ]
  },
  {
   "cell_type": "markdown",
   "id": "9e7fc446-f32a-4372-ad5b-49e08818859f",
   "metadata": {},
   "source": [
    "LLMs are capable to identify when an application ought to utilize functionality external to the LLM itself, and, how that external functionality ought to be invoked. Such components of functionality external to the LLM are referred to as tools, and the paradigm by which our LLM-applications identify when and how to use tools is called agents.\n",
    "\n",
    "Tool use and agents are a huge topic in their own right, but in this section we'd like to give you an introduction to their use in the context of LLM applications. By the time you complete this section you be able to create tools, as well as simple agents that can integrate their use into your LLM-based chains."
   ]
  },
  {
   "cell_type": "markdown",
   "id": "4bf92848-0eda-4fdf-8226-c48c017969f4",
   "metadata": {},
   "source": [
    "---"
   ]
  },
  {
   "cell_type": "markdown",
   "id": "10016277-0c6a-4de3-b7ca-aec1a8949228",
   "metadata": {},
   "source": [
    "## Section Table of Contents"
   ]
  },
  {
   "cell_type": "markdown",
   "id": "c7f938cd-c20c-4c6a-a09b-33b2437661fd",
   "metadata": {},
   "source": [
    "1. **Tool Calling:** In this notebook you learn to create tools, and make your LLM instances aware of their availability for use.\n",
    "2. **Agents:** In this notebook you will learn how to create an agent capable of reasoning about when tool use is appropriate, and integrating the result of tool use into its responses.\n",
    "3. **Workshop Conclusion:** In this final notebook we conclude the workshop with a summary of all you've done, instructions for getting a certificate for the workshop, a request for feedback, and recommendations for next steps."
   ]
  }
 ],
 "metadata": {
  "kernelspec": {
   "display_name": "Python 3 (ipykernel)",
   "language": "python",
   "name": "python3"
  },
  "language_info": {
   "codemirror_mode": {
    "name": "ipython",
    "version": 3
   },
   "file_extension": ".py",
   "mimetype": "text/x-python",
   "name": "python",
   "nbconvert_exporter": "python",
   "pygments_lexer": "ipython3",
   "version": "3.12.1"
  }
 },
 "nbformat": 4,
 "nbformat_minor": 5
}
