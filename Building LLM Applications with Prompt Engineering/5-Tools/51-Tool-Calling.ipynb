{
 "cells": [
  {
   "cell_type": "markdown",
   "id": "4cd044bd-3c9d-4ed2-8e39-1415e9c9b1e2",
   "metadata": {},
   "source": [
    "![NVIDIA](images/nvidia.png)"
   ]
  },
  {
   "cell_type": "markdown",
   "id": "ea1362ba-c05c-49a0-8201-44a495793227",
   "metadata": {},
   "source": [
    "# Tool Calling"
   ]
  },
  {
   "cell_type": "markdown",
   "id": "28013522",
   "metadata": {},
   "source": [
    "In this notebook you learn to augment your LLM with the ability to indicate that external, non-LLM related functionality ought to be utilized, a technique we call tool use."
   ]
  },
  {
   "cell_type": "markdown",
   "id": "69366671-11a4-4439-b6ad-cb89497ef5d4",
   "metadata": {},
   "source": [
    "---"
   ]
  },
  {
   "cell_type": "markdown",
   "id": "c08054f2",
   "metadata": {},
   "source": [
    "## Objectives"
   ]
  },
  {
   "cell_type": "markdown",
   "id": "a023bc7a-47b5-4508-957c-f3354c9fb363",
   "metadata": {},
   "source": [
    "By the time you complete this notebook you will:\n",
    "\n",
    "- Understand what a tool is in the context of LLM applications.\n",
    "- Be able to create tools.\n",
    "- Learn about how model recommendations about when and how to use a tool are materialized."
   ]
  },
  {
   "cell_type": "markdown",
   "id": "f4e9ea06-814f-43fd-9f59-ce67dfcb1bbb",
   "metadata": {},
   "source": [
    "---"
   ]
  },
  {
   "cell_type": "markdown",
   "id": "327550d4",
   "metadata": {},
   "source": [
    "## Imports"
   ]
  },
  {
   "cell_type": "code",
   "execution_count": null,
   "id": "75febe51",
   "metadata": {},
   "outputs": [],
   "source": [
    "from langchain_nvidia_ai_endpoints import ChatNVIDIA\n",
    "from langchain_core.prompts import ChatPromptTemplate\n",
    "from langchain_core.pydantic_v1 import BaseModel, Field\n",
    "from langchain_core.runnables import RunnableLambda\n",
    "import wikipediaapi"
   ]
  },
  {
   "cell_type": "markdown",
   "id": "9bc7aca5-1c4a-4cb0-bd28-d8a7636cc96d",
   "metadata": {},
   "source": [
    "---"
   ]
  },
  {
   "cell_type": "markdown",
   "id": "5c0e1244",
   "metadata": {},
   "source": [
    "## Create a Model Instance"
   ]
  },
  {
   "cell_type": "code",
   "execution_count": null,
   "id": "c2c05c82",
   "metadata": {},
   "outputs": [],
   "source": [
    "base_url = 'http://llama:8000/v1'\n",
    "model = 'meta/llama-3.1-8b-instruct'\n",
    "llm = ChatNVIDIA(base_url=base_url, model=model, temperature=0)"
   ]
  },
  {
   "cell_type": "markdown",
   "id": "64d304e5-6bbe-4beb-ba92-fa208fb4c2f4",
   "metadata": {},
   "source": [
    "---"
   ]
  },
  {
   "cell_type": "markdown",
   "id": "b90f280c-cb9d-40d2-a6de-72d33308364e",
   "metadata": {},
   "source": [
    "## LLMs Using Tools"
   ]
  },
  {
   "cell_type": "markdown",
   "id": "f2e1c0c3-669a-4fc2-b9e6-715b53764348",
   "metadata": {},
   "source": [
    "Throughout the workshop we've been exploring some of the amazing tasks that LLMs are capable of doing, but of course they aren't well-suited to every task. Whether it's for a task that a model would try to do but probably shouldn't, like math or other calculation-based tasks, or for a task that is downright impossible for an LLM, like making calls to external services, sometimes we want to augment our LLM-based applications to be able to use tools external to the LLM itself.\n",
    "\n",
    "You've done some of this already by creating custom runnables via `RunnableLambda` and including them in your chains. These custom runnables can perform arbitrary tasks, not necessarily using an LLM.\n",
    "\n",
    "Now we are going to look at a different powerful technique whereby we provide an LLM with a collection of functions, or \"tools\" that might be appropriate to use, depending on the user's input, and allow the LLM to decide when using one or several of the tools will be appropriate. Additionally, we will use the LLM to provide details about how the tool (or tools) it deems appropriate to use ought to be called.\n",
    "\n",
    "A lot of what you learned in the previous section around structured data generation applies to LLM tool calling: The LLM is able to generate output conforming to a specific structure. In the case of tool calling, the LLM will be generating its output to indicate which tool ought to be called, and what arguments ought to be passed to it."
   ]
  },
  {
   "cell_type": "markdown",
   "id": "dbe609bf-e066-45b0-9e33-d5b9959355c2",
   "metadata": {},
   "source": [
    "---"
   ]
  },
  {
   "cell_type": "markdown",
   "id": "ded3f40f-1e0b-4b52-a878-ee5978a60f94",
   "metadata": {},
   "source": [
    "## Simple Tool Creation"
   ]
  },
  {
   "cell_type": "markdown",
   "id": "edc4c6aa-9331-461a-aabb-b55d779384ae",
   "metadata": {},
   "source": [
    "To begin, we need to know how to create an LLM tool. Perhaps the easiest way is with the `tool` decorator, which we can apply to any function, converting the function into a tool."
   ]
  },
  {
   "cell_type": "code",
   "execution_count": null,
   "id": "3c97dd26-fc52-4470-a13f-86d5d225c3fd",
   "metadata": {},
   "outputs": [],
   "source": [
    "from langchain_core.tools import tool"
   ]
  },
  {
   "cell_type": "markdown",
   "id": "2a39e84c-0a17-41aa-8ca9-93a71b03248d",
   "metadata": {},
   "source": [
    "Here we apply the `tool` decorator to a very simple `add` function"
   ]
  },
  {
   "cell_type": "code",
   "execution_count": null,
   "id": "2632f300-ed9d-4f7a-b554-8563e0b627d2",
   "metadata": {},
   "outputs": [],
   "source": [
    "@tool\n",
    "def add(a: int, b: int) -> int:\n",
    "    \"\"\"Add two numbers\"\"\"\n",
    "    return a * b"
   ]
  },
  {
   "cell_type": "markdown",
   "id": "cbb75419-89e3-414a-8e18-84754b5db825",
   "metadata": {},
   "source": [
    "Since `add` is no longer a Python function, but rather a tool, it has some specific attributes associated with it that we can inspect. The first is its name, a string based on the name we used for the decorated Python function."
   ]
  },
  {
   "cell_type": "code",
   "execution_count": null,
   "id": "242b0738-7ced-4687-990c-62fa98a984fb",
   "metadata": {},
   "outputs": [],
   "source": [
    "add.name"
   ]
  },
  {
   "cell_type": "markdown",
   "id": "872a6bff-a4d2-40e0-99b3-754d9875e8b9",
   "metadata": {},
   "source": [
    "Next is a `description`, which you'll notice is created from the decorated function's docstring."
   ]
  },
  {
   "cell_type": "code",
   "execution_count": null,
   "id": "1c9e261c-96db-4300-b770-17f6902ec8ec",
   "metadata": {},
   "outputs": [],
   "source": [
    "add.description"
   ]
  },
  {
   "cell_type": "markdown",
   "id": "b46c8d76-9257-4e39-9e4a-dd2b9744530c",
   "metadata": {},
   "source": [
    "As was the case with Pydantic classes used for structured data output in the previous section, our docstrings are going to be used by LangChain under the hood to convey information to the LLM, and thus, not only is it important to add a meaningful docstring to your tools, but it is in fact required.\n",
    "\n",
    "Tools also have an `args` attribute. Because we used type hints on our definition above, we see that each arg has some additional information around its type associated with it."
   ]
  },
  {
   "cell_type": "code",
   "execution_count": null,
   "id": "cda028c6-7d53-43de-b083-42465b91c659",
   "metadata": {},
   "outputs": [],
   "source": [
    "add.args"
   ]
  },
  {
   "cell_type": "markdown",
   "id": "7cb217f8-0523-4acf-83bc-c876ea437869",
   "metadata": {},
   "source": [
    "---"
   ]
  },
  {
   "cell_type": "markdown",
   "id": "7e3f1b2a-700a-443e-ba92-330e1164f12e",
   "metadata": {},
   "source": [
    "## Invoking Tools"
   ]
  },
  {
   "cell_type": "markdown",
   "id": "70d634dd-d138-43c9-961c-757b654b58b2",
   "metadata": {},
   "source": [
    "Tools are not literal functions, and we cannot call them with `()` as we would a vanilla Python function. Trying to do so will throw an exception."
   ]
  },
  {
   "cell_type": "code",
   "execution_count": null,
   "id": "5ab49469-0a80-4771-afd3-faf7c3277f2c",
   "metadata": {},
   "outputs": [],
   "source": [
    "try:\n",
    "    add(3, 4)\n",
    "except AttributeError as e:\n",
    "    print(e)"
   ]
  },
  {
   "cell_type": "markdown",
   "id": "19d56682-dfb1-494d-8836-31069b393f33",
   "metadata": {},
   "source": [
    "Rather, tools have an `invoke` method, which we always supply with a dict mapping the decorated function's expected arguments to the actual values we want to pass in."
   ]
  },
  {
   "cell_type": "code",
   "execution_count": null,
   "id": "4a2209bf-c21d-48af-940e-201be537b4c1",
   "metadata": {},
   "outputs": [],
   "source": [
    "add.invoke({'a': 3, 'b': 5})"
   ]
  },
  {
   "cell_type": "markdown",
   "id": "28fd204f-6df5-427c-9e0c-4d3e547a589c",
   "metadata": {},
   "source": [
    "---"
   ]
  },
  {
   "cell_type": "markdown",
   "id": "d2f1a27d-8602-4e88-8423-eb129be675ca",
   "metadata": {},
   "source": [
    "## Pydantic Classes with Tools"
   ]
  },
  {
   "cell_type": "markdown",
   "id": "5728454a-ee75-4ccf-9930-23d173046ca4",
   "metadata": {},
   "source": [
    "Just as we used Pydantic classes in the previous section to articulate the specific structure of a data type we wanted the LLMs output to conform to, we also can use them to articulate the schema for the arguments that the LLM will recommend we pass to a given tool.\n",
    "\n",
    "Here we create a Pydantic class `Add` to specify the schema for the arguments that would be passed into the `add` tool. Using Pydantic gives us a great deal more control over the intended structure of a tool's argument schema, including field validation and more which we won't be covering today. At the least it gives us an easy and clean way to specify the schema, and makes it very simple to provide the LLM with additional information about how the tool should be called by adding descriptions to each of the schema's fields.\n",
    "\n",
    "It's worth mentioning that the `...` in the `Field` description indicates that the field is required."
   ]
  },
  {
   "cell_type": "code",
   "execution_count": null,
   "id": "b89161f0-90d2-462a-a8da-27a4f6a67723",
   "metadata": {},
   "outputs": [],
   "source": [
    "class Add(BaseModel):\n",
    "    \"\"\"Use when and if you need to add two numbers.\"\"\"\n",
    "    a: int = Field(..., description=\"First integer\")\n",
    "    b: int = Field(..., description=\"Second integer\")"
   ]
  },
  {
   "cell_type": "markdown",
   "id": "c5d557e3-24fb-4128-a146-90a083c6e895",
   "metadata": {},
   "source": [
    "Having defined a Pydantic class for the `add` tool's argument schema, we can associate it with the actual `add` tool by supplying it as the value to an `args_schema` argument passed into the `tool` decorator."
   ]
  },
  {
   "cell_type": "code",
   "execution_count": null,
   "id": "ec512ade-22c4-490c-a0e2-b466f830e694",
   "metadata": {},
   "outputs": [],
   "source": [
    "@tool(args_schema=Add)\n",
    "def add(a: int, b: int) -> int:\n",
    "    return a + b "
   ]
  },
  {
   "cell_type": "markdown",
   "id": "af3e6e75-f37b-478a-b314-2888ffd98a6a",
   "metadata": {},
   "source": [
    "You'll notice that we no longer supply a docstring directly to the tool definition, since we have provided it as part of the Pydantic class associated with it."
   ]
  },
  {
   "cell_type": "markdown",
   "id": "3537c7a0-5aa9-4ca7-a538-554fb9416733",
   "metadata": {},
   "source": [
    "---"
   ]
  },
  {
   "cell_type": "markdown",
   "id": "0c465c8e-0bfc-435c-881d-6abd2cdbc607",
   "metadata": {},
   "source": [
    "## Exercise: Make a Multiply Tool"
   ]
  },
  {
   "cell_type": "markdown",
   "id": "6570ece8-3a88-427a-8d04-56e597128c6e",
   "metadata": {},
   "source": [
    "As a simple exercise, create a multiply tool intended to multiply together 2 whole numbers. Use a Pydantic class to specify the tool's argument schema.\n",
    "\n",
    "Feel free to check out the _Solution_ below if you get stuck."
   ]
  },
  {
   "cell_type": "markdown",
   "id": "9daba044-e485-44fb-91a5-29db63764ce1",
   "metadata": {},
   "source": [
    "### Your Work Here"
   ]
  },
  {
   "cell_type": "code",
   "execution_count": null,
   "id": "40c7c163-5646-46c6-be87-b90671f4fac7",
   "metadata": {},
   "outputs": [],
   "source": []
  },
  {
   "cell_type": "markdown",
   "id": "61205215-0645-48ec-b968-250eb35cca56",
   "metadata": {
    "jp-MarkdownHeadingCollapsed": true
   },
   "source": [
    "### Solution"
   ]
  },
  {
   "cell_type": "code",
   "execution_count": null,
   "id": "c22172e4-41b5-400b-a48b-5c1a3ac96e8a",
   "metadata": {},
   "outputs": [],
   "source": [
    "class Multiply(BaseModel):\n",
    "    \"\"\"Use when and if you need to multiply to numbers.\"\"\"\n",
    "    a: int = Field(..., description=\"First integer\")\n",
    "    b: int = Field(..., description=\"Second integer\") "
   ]
  },
  {
   "cell_type": "code",
   "execution_count": null,
   "id": "b6beaa8c-c9af-44df-aa5e-161601c103ae",
   "metadata": {},
   "outputs": [],
   "source": [
    "@tool(args_schema=Multiply)\n",
    "def multiply(a: int, b: int) -> int:\n",
    "    return a * b "
   ]
  },
  {
   "cell_type": "markdown",
   "id": "261079a9-333c-46dc-aaa4-6dd0bb336035",
   "metadata": {},
   "source": [
    "---"
   ]
  },
  {
   "cell_type": "markdown",
   "id": "b5d2fb39-4b9d-4ba2-aa9f-a2e3b35485d9",
   "metadata": {},
   "source": [
    "## Binding Tools to a Model"
   ]
  },
  {
   "cell_type": "markdown",
   "id": "5a3c2382-e4aa-4821-b005-450b5f392b5c",
   "metadata": {},
   "source": [
    "Now that we have created a couple of LLM tools, we want to make an LLM aware that they are available to be used. The most straightforward way to do this is with the `bind_tools` method available on LLM instances, which expects a list of tool definitions. We already defined an LLM instance `llm` above, so let's construct a list containing our 2 tools and bind them to the LLM instance."
   ]
  },
  {
   "cell_type": "code",
   "execution_count": null,
   "id": "59d5ea4a-40c6-41e1-8e90-62f6f42306b5",
   "metadata": {},
   "outputs": [],
   "source": [
    "tools = [add, multiply]"
   ]
  },
  {
   "cell_type": "code",
   "execution_count": null,
   "id": "164b07ee-5f95-4df7-95f2-f4dc95c713f1",
   "metadata": {},
   "outputs": [],
   "source": [
    "llm_with_tools = llm.bind_tools(tools)"
   ]
  },
  {
   "cell_type": "markdown",
   "id": "9adbc02b-26a8-48a6-8612-a90e4dc885f3",
   "metadata": {},
   "source": [
    "When an LLM instance has had tools bound to it, we can still use it for non-tool related calls as we usually would. Here we provide a prompt that has nothing to do with addition or multiplication."
   ]
  },
  {
   "cell_type": "code",
   "execution_count": null,
   "id": "704c45e1-4030-4cd7-897e-14e70cdd0843",
   "metadata": {},
   "outputs": [],
   "source": [
    "response = llm_with_tools.invoke('Who are you?')"
   ]
  },
  {
   "cell_type": "markdown",
   "id": "381a2b4f-0843-456b-8c25-3d0b3b6b8a29",
   "metadata": {},
   "source": [
    "Looking at the response we see a typical `AIMessage` response from the LLM."
   ]
  },
  {
   "cell_type": "code",
   "execution_count": null,
   "id": "8d7cb047-834f-460f-9f13-a90164e46bff",
   "metadata": {},
   "outputs": [],
   "source": [
    "response"
   ]
  },
  {
   "cell_type": "markdown",
   "id": "4cd5e3f9-60d9-46df-8dd5-a54697e2e020",
   "metadata": {},
   "source": [
    "The content of the response is pretty much what we would expect."
   ]
  },
  {
   "cell_type": "code",
   "execution_count": null,
   "id": "00234722-8633-416e-93ec-20f71851c48f",
   "metadata": {},
   "outputs": [],
   "source": [
    "response.content"
   ]
  },
  {
   "cell_type": "markdown",
   "id": "ef8c3e2e-b0c3-4ff0-b567-bb8776774bec",
   "metadata": {},
   "source": [
    "If, however, we prompt the model with a prompt having to do with multiplication, a task for which we have bound a tool to manage, we see some very important differences."
   ]
  },
  {
   "cell_type": "code",
   "execution_count": null,
   "id": "30f3bbf2-718f-4b49-972b-44c3e4b86dc5",
   "metadata": {},
   "outputs": [],
   "source": [
    "response = llm_with_tools.invoke('What is 1234 times 5678?') "
   ]
  },
  {
   "cell_type": "code",
   "execution_count": null,
   "id": "16561769-c5ca-4f99-9b7d-986ef4d34a37",
   "metadata": {},
   "outputs": [],
   "source": [
    "response"
   ]
  },
  {
   "cell_type": "markdown",
   "id": "ff018de4-85f3-41c2-b699-ef77608e41f5",
   "metadata": {},
   "source": [
    "At a glance it appears that the content of the response is empty, which we can confirm here."
   ]
  },
  {
   "cell_type": "code",
   "execution_count": null,
   "id": "7f87c197-f24e-49c7-a667-145d9eab94e3",
   "metadata": {},
   "outputs": [],
   "source": [
    "response.content "
   ]
  },
  {
   "cell_type": "markdown",
   "id": "12e21cac-cfa8-4ba1-baaf-10acfbd8089b",
   "metadata": {},
   "source": [
    "However, there is a new property associated with the response that we haven't seen before: `tool_calls`."
   ]
  },
  {
   "cell_type": "code",
   "execution_count": null,
   "id": "22f33ffa-b5e4-4b41-9e39-39dae2962250",
   "metadata": {},
   "outputs": [],
   "source": [
    "response.tool_calls"
   ]
  },
  {
   "cell_type": "markdown",
   "id": "3fd83c83-e402-467a-abe5-0f83a09e3b5f",
   "metadata": {},
   "source": [
    "As you can see, `tool_calls` is a list containing, in this case, a single dict. The dict contains the name of one of the tools we've bound to the model (`multiply`) as well as an inner dict conforming to the arg schema associated with the tool, namely, two integer arguments `a` and `b`. Just like when we used the LLM to generate structured data, the LLM has conformed to our specification while supplying the details of the values, this time `1234` and `5678` which it was able to extract from user-provided prompt `\"What is 1234 times 5678?\"`."
   ]
  },
  {
   "cell_type": "markdown",
   "id": "145134f4-6a2f-4473-8ce5-1bfd9f0796d4",
   "metadata": {},
   "source": [
    "---"
   ]
  },
  {
   "cell_type": "markdown",
   "id": "25a1631a-8e96-444c-80c4-7f42466d7e88",
   "metadata": {},
   "source": [
    "## LLMs Don't Call Tools"
   ]
  },
  {
   "cell_type": "markdown",
   "id": "b55b7e34-6c6b-4a3f-b948-fecedb8ba646",
   "metadata": {},
   "source": [
    "As we just saw, our LLM is up to the task of indicating when a tool ought to be called, and of *supplying arguments* for how the tool ought to be called, but when we say the model is \"making a tool call,\" is is not actually invoking the tool."
   ]
  },
  {
   "cell_type": "markdown",
   "id": "1580cfc6-ccc7-40c4-9446-fd0960a29cd5",
   "metadata": {},
   "source": [
    "---"
   ]
  },
  {
   "cell_type": "markdown",
   "id": "590b91ea-2372-4a80-84ff-fb9dbea6a8da",
   "metadata": {},
   "source": [
    "## Actually Calling Tools"
   ]
  },
  {
   "cell_type": "markdown",
   "id": "ffc56126-3457-4ee5-831c-d9c704b6b38a",
   "metadata": {},
   "source": [
    "There are a lot of ways to actually call the tool(s) the model indicates we should with the arguments it supplies, and importantly, to supply the result of an actual tool invocation back to the model so that it can use what the tool returns in its response back to the prompt it was given. By far the most common way to do this is with something we call agents, a topic we will look at in the next notebook.\n",
    "\n",
    "As you'll see when we build agents in the next notebook, LangChain is going to be doing a lot of work under the hood and hidden from us. With that in mind we'd like to spend a little time here, even though using agents is a much better approach in general, showing how to actually invoke tools when a model indicates we should.\n",
    "\n",
    "Recall that the response we got back to our multiplication prompt from`llm_with_tools` contained a `tool_calls` property."
   ]
  },
  {
   "cell_type": "code",
   "execution_count": null,
   "id": "56cb7126-f3e9-4910-b6e9-e760561d0781",
   "metadata": {},
   "outputs": [],
   "source": [
    "response.tool_calls "
   ]
  },
  {
   "cell_type": "markdown",
   "id": "8b252643-595a-4532-8c99-5c22381ab719",
   "metadata": {},
   "source": [
    "Let's get a single `tool` call (and in this case the only tool call) out of the `tool_calls` list."
   ]
  },
  {
   "cell_type": "code",
   "execution_count": null,
   "id": "31641d61-bf9c-4f16-a275-f05dabc2e8c8",
   "metadata": {},
   "outputs": [],
   "source": [
    "tool_call = response.tool_calls[0] "
   ]
  },
  {
   "cell_type": "code",
   "execution_count": null,
   "id": "fb2211bf-13a5-4bd7-b1ab-408586a987f9",
   "metadata": {},
   "outputs": [],
   "source": [
    "tool_call "
   ]
  },
  {
   "cell_type": "markdown",
   "id": "d109a7f9-5f16-42bf-bcaa-b95d81e31cb7",
   "metadata": {},
   "source": [
    "As you'll recall `tool_call` contains the args intended to be passed to the actual tool invocation..."
   ]
  },
  {
   "cell_type": "code",
   "execution_count": null,
   "id": "2d17f0e6-7a19-4160-929d-17c496d4c305",
   "metadata": {},
   "outputs": [],
   "source": [
    "tool_call_args = tool_call[\"args\"] "
   ]
  },
  {
   "cell_type": "markdown",
   "id": "7793ca09-33da-4354-947e-370e8ec08453",
   "metadata": {},
   "source": [
    "... and a name field indicating which `tool` ought to be called."
   ]
  },
  {
   "cell_type": "code",
   "execution_count": null,
   "id": "88d8bb0d-ef2a-4436-b1e7-43fb61986338",
   "metadata": {},
   "outputs": [],
   "source": [
    "tool_to_call_name = tool_call[\"name\"]"
   ]
  },
  {
   "cell_type": "markdown",
   "id": "a1121a84-c74a-4a53-a25d-1b0c97a45201",
   "metadata": {},
   "source": [
    "This value is a string and matches the name field on the `tool` itself."
   ]
  },
  {
   "cell_type": "code",
   "execution_count": null,
   "id": "5db85429-7950-43f9-9eac-00891123c74e",
   "metadata": {},
   "outputs": [],
   "source": [
    "tool_to_call_name "
   ]
  },
  {
   "cell_type": "code",
   "execution_count": null,
   "id": "f5919132-aa98-4c11-a69d-65c73cd9fa72",
   "metadata": {},
   "outputs": [],
   "source": [
    "tool_to_call_name == multiply.name "
   ]
  },
  {
   "cell_type": "markdown",
   "id": "8e69e854-259c-4457-9fc8-4c727b1dbc68",
   "metadata": {},
   "source": [
    "The tool itself, however, is not a string, and we can't invoke `tool_to_call_name`. Therefore we need some way to map the tool name to the actual tool, in this case `multiply` (not a string). For this we'll create a simple mapping of tool name to actual tool, including both our `add` and `multiply` tools."
   ]
  },
  {
   "cell_type": "code",
   "execution_count": null,
   "id": "05e79ea6-9ae1-4b7f-bc8f-c0aca940216d",
   "metadata": {},
   "outputs": [],
   "source": [
    "tool_map = {\n",
    "    \"add\": add,\n",
    "    \"multiply\": multiply\n",
    "}"
   ]
  },
  {
   "cell_type": "markdown",
   "id": "e29b4700-1bc6-438a-ac1e-206e7556b578",
   "metadata": {},
   "source": [
    "With this map and the name of the tool, now we can get back the actual tool to call."
   ]
  },
  {
   "cell_type": "code",
   "execution_count": null,
   "id": "b78b12a2-6fc8-453a-bbe9-e4d338d37539",
   "metadata": {},
   "outputs": [],
   "source": [
    "tool_to_call = tool_map[tool_to_call_name]"
   ]
  },
  {
   "cell_type": "markdown",
   "id": "64964b13-9d5c-47d0-81dc-95b4a0d90349",
   "metadata": {},
   "source": [
    "We can print `tool_to_call` and `multiply` to compare that they are the same."
   ]
  },
  {
   "cell_type": "code",
   "execution_count": null,
   "id": "287b1818-838f-452d-b545-a807bc4d7117",
   "metadata": {},
   "outputs": [],
   "source": [
    "print(tool_to_call)"
   ]
  },
  {
   "cell_type": "code",
   "execution_count": null,
   "id": "1ba0d730-8124-4bfa-b24c-1ee3df761838",
   "metadata": {},
   "outputs": [],
   "source": [
    "print(multiply)"
   ]
  },
  {
   "cell_type": "code",
   "execution_count": null,
   "id": "8ed1ac8a-d0ea-4ecb-bbc8-f939339c184d",
   "metadata": {},
   "outputs": [],
   "source": [
    "tool_to_call is multiply"
   ]
  },
  {
   "cell_type": "markdown",
   "id": "84975184-6de3-4b09-b146-df77eb6fd7b9",
   "metadata": {},
   "source": [
    "Finally, we can test invoking our tool by invoking it with the supplied arguments."
   ]
  },
  {
   "cell_type": "code",
   "execution_count": null,
   "id": "6ad9d0f1-a448-4c98-b527-40969bf23e12",
   "metadata": {},
   "outputs": [],
   "source": [
    "tool_to_call.invoke(tool_call_args)"
   ]
  },
  {
   "cell_type": "code",
   "execution_count": null,
   "id": "865f03d5-3640-4c3d-88e3-82dab9f94bcd",
   "metadata": {},
   "outputs": [],
   "source": [
    "tool_to_call.invoke({'a': 1234, 'b': 5678})"
   ]
  },
  {
   "cell_type": "markdown",
   "id": "a837f228-6756-465f-99db-409be10cb88c",
   "metadata": {},
   "source": [
    "---"
   ]
  },
  {
   "cell_type": "markdown",
   "id": "03bd4b45-15bf-481a-b6bc-f07189f4a424",
   "metadata": {},
   "source": [
    "## Adding Actual Tool Calling to a Chain"
   ]
  },
  {
   "cell_type": "markdown",
   "id": "20630a4c-3272-41b2-ab40-1422c89e9940",
   "metadata": {},
   "source": [
    "That was a lot of detail, but we wanted you to understand what was going on when we provided you with the following function, which will expect a model response and if there is a tool call, go through the process we just walked through to actually invoke the tool with the LLM-supplied arguments and return the result of the actual tool invocation.\n",
    "\n",
    "In the case that the LLM did not indicate a tool call, then the function simply returns the content of the model's (non-tool call) response."
   ]
  },
  {
   "cell_type": "code",
   "execution_count": null,
   "id": "f793e3a3-e57c-4cc3-ace5-6cd826acb95a",
   "metadata": {},
   "outputs": [],
   "source": [
    "# Very naive implementation of actual tool calling.\n",
    "def call_tools(response):\n",
    "\n",
    "    if not response.tool_calls:\n",
    "        return response.content\n",
    "\n",
    "    tool_map = {\n",
    "        \"add\": add,\n",
    "        \"multiply\": multiply\n",
    "    }\n",
    "\n",
    "    # In this naive implementation, we are only supporting a single tool call.\n",
    "    tool_call = response.tool_calls[0]\n",
    "    selected_tool = tool_map[tool_call[\"name\"]]\n",
    "    args = tool_call[\"args\"]\n",
    "        \n",
    "    return selected_tool.invoke(args) "
   ]
  },
  {
   "cell_type": "markdown",
   "id": "8b9e8257-be84-4533-b7f5-583f6c02c12d",
   "metadata": {},
   "source": [
    "We ought now to be able to create a simple chain with our tool-bound LLM and a custom runnable using the `call_tools` function we just defined."
   ]
  },
  {
   "cell_type": "code",
   "execution_count": null,
   "id": "5229330c-9d10-4560-917b-889f529e9bd1",
   "metadata": {},
   "outputs": [],
   "source": [
    "chain = llm_with_tools | RunnableLambda(call_tools)"
   ]
  },
  {
   "cell_type": "markdown",
   "id": "f2cddf25-e088-44d2-9165-21e8695ea7c6",
   "metadata": {},
   "source": [
    "First, let's invoke the chain on a non add or multiply related prompt"
   ]
  },
  {
   "cell_type": "code",
   "execution_count": null,
   "id": "c6b9f0fb-c09a-44aa-81b4-5fe00d43fb98",
   "metadata": {},
   "outputs": [],
   "source": [
    "chain.invoke(\"Who are you?\")"
   ]
  },
  {
   "cell_type": "markdown",
   "id": "b6a109b7-62c4-484b-8473-a3290609f2ff",
   "metadata": {},
   "source": [
    "And now we'll try it with some multiplication."
   ]
  },
  {
   "cell_type": "code",
   "execution_count": null,
   "id": "1401e858-78d8-4ec4-8c26-083ab43333e7",
   "metadata": {},
   "outputs": [],
   "source": [
    "chain.invoke(\"What is the product of 1234 and 5678?\") "
   ]
  },
  {
   "cell_type": "code",
   "execution_count": null,
   "id": "6f8065bd-ec68-4d30-aa9b-a2e3ba8ec0e6",
   "metadata": {},
   "outputs": [],
   "source": [
    "1234 * 5678"
   ]
  },
  {
   "cell_type": "markdown",
   "id": "5db595ad-84c6-40e3-9b81-635abb76178a",
   "metadata": {},
   "source": [
    "And now we'll try some addition."
   ]
  },
  {
   "cell_type": "code",
   "execution_count": null,
   "id": "f0d8ed05-b3df-4599-9711-1ce10936d666",
   "metadata": {},
   "outputs": [],
   "source": [
    "chain.invoke(\"What 1234567 plus 10111213?\") "
   ]
  },
  {
   "cell_type": "code",
   "execution_count": null,
   "id": "ea202641-af92-4367-a569-5fb002ed0179",
   "metadata": {},
   "outputs": [],
   "source": [
    "1234567 + 10111213"
   ]
  },
  {
   "cell_type": "markdown",
   "id": "5e86aa95-b706-4594-91bc-bdde1bba8993",
   "metadata": {},
   "source": [
    "---"
   ]
  },
  {
   "cell_type": "markdown",
   "id": "863e4f58-0f93-4cdd-895d-8a9c4ed4f5cf",
   "metadata": {},
   "source": [
    "## Tool Calling is Not Perfect"
   ]
  },
  {
   "cell_type": "markdown",
   "id": "348cf632-18c5-45ef-8adb-b918cbce3d57",
   "metadata": {},
   "source": [
    "Let's make the problem a bit more difficult for the model by providing it an addition problem to perform stated mostly in natural language rather than numbers."
   ]
  },
  {
   "cell_type": "code",
   "execution_count": null,
   "id": "a6466ffe-44b0-46aa-99e7-807524da9f25",
   "metadata": {},
   "outputs": [],
   "source": [
    "chain.invoke(\"What is 9 million and 12 plus thirteen thousand three hundred and sixty three?\")"
   ]
  },
  {
   "cell_type": "code",
   "execution_count": null,
   "id": "3e6409f2-d413-460c-bbc3-545f901bbbfb",
   "metadata": {},
   "outputs": [],
   "source": [
    "9000012 + 13363"
   ]
  },
  {
   "cell_type": "markdown",
   "id": "fb794dab-129c-41ba-901d-7671feade3c3",
   "metadata": {},
   "source": [
    "In this case we can see that we did not get the correct answer out of our chain. Let's look at the `tool_calls` property when invoking `llm_with_tools` on the same prompt to get more information about what might have gone wrong."
   ]
  },
  {
   "cell_type": "code",
   "execution_count": null,
   "id": "b0983b17-8ec7-496d-9f7a-485df537fb6f",
   "metadata": {},
   "outputs": [],
   "source": [
    "llm_with_tools.invoke(\"What is 9 million and 12 plus thirteen thousand three hundred and sixty three?\").tool_calls"
   ]
  },
  {
   "cell_type": "markdown",
   "id": "86422407-49c3-4012-b04a-18bdc2e913f4",
   "metadata": {},
   "source": [
    "If we look at the `args` property we see that the model set `a` to `9000000` instead of `9000012`, which resulted in the `add` tool adding the wrong numbers and returning the wrong result.\n",
    "\n",
    "The main takeaway here is that tool calling is powerful, and can supply our applications with functionality that an LLM is not well-suited to. However, all of the same considerations we've been making throughout the course regarding hallucination, etc. still apply when using tools."
   ]
  },
  {
   "cell_type": "markdown",
   "id": "e5d0db66-05e0-4173-ba8e-30cb755eecfc",
   "metadata": {},
   "source": [
    "---"
   ]
  },
  {
   "cell_type": "markdown",
   "id": "ff3902b9-c803-44ec-81dd-9bf0854d4a40",
   "metadata": {},
   "source": [
    "## Exercise: Build a Tool to Query Wikipedia"
   ]
  },
  {
   "cell_type": "markdown",
   "id": "2f376862-3658-4098-8dca-b2c8f318c505",
   "metadata": {},
   "source": [
    "For this exercise you'll create and utilize a tool that can use the Wikipedia API.\n",
    "\n",
    "The following function takes a given topic and returns either the first paragraph of the topic's Wikipedia summary, or a message that a Wikipedia page for the topic could not be found."
   ]
  },
  {
   "cell_type": "code",
   "execution_count": null,
   "id": "04d1c1fc-28c2-4581-b720-ad32faaf3e16",
   "metadata": {},
   "outputs": [],
   "source": [
    "def get_wikipedia_intro(topic):\n",
    "    user_agent = 'MyApp/1.0 (myemail@example.com)'\n",
    "    wiki_wiki = wikipediaapi.Wikipedia(user_agent=user_agent)\n",
    "    page = wiki_wiki.page(topic)\n",
    "    if page.exists():\n",
    "        return page.summary.split('\\n')[0]  # Get the first paragraph of the summary\n",
    "    else:\n",
    "        return f\"No Wikipedia page found for '{topic}'\" "
   ]
  },
  {
   "cell_type": "markdown",
   "id": "ed300479-b54c-400a-a414-19b814b568bc",
   "metadata": {},
   "source": [
    "We want to use the tool you create out of this function to augment an LLM by allowing it to use the tool when it is asked about a topic too recent for it to actually know anything about.\n",
    "\n",
    "Use the following approach:\n",
    "- Create a tool out of the above function, being sure to give an explicit use case for it in its schema.\n",
    "- Bind the tool to your LLM.\n",
    "- Construct a chain with your tool-bound LLM and a custom runnable made out of the `call_tools` function immediately below (which contains a mapping to `get_wikipedia_intro`.\n",
    "- Invoke your chain with a prompt about something the LLM itself could not know about, like the 2024 Summer Olympics.\n",
    "\n",
    "\n",
    "Feel free to check out the Solution below if you get stuck."
   ]
  },
  {
   "cell_type": "code",
   "execution_count": null,
   "id": "c7aa0d12-62e3-4552-8c55-46e2bf85a18c",
   "metadata": {},
   "outputs": [],
   "source": [
    "def call_tools(response):\n",
    "\n",
    "    if not response.tool_calls:\n",
    "        return response.content\n",
    "\n",
    "    tool_map = {\n",
    "        \"get_wikipedia_intro\": get_wikipedia_intro\n",
    "    }\n",
    "    \n",
    "    for tool_call in response.tool_calls:\n",
    "        selected_tool = tool_map[tool_call[\"name\"]]\n",
    "        args = tool_call[\"args\"]\n",
    "        \n",
    "        return selected_tool.invoke(args) "
   ]
  },
  {
   "cell_type": "markdown",
   "id": "2ae13db5-74c9-44d2-9853-64679a8b429f",
   "metadata": {},
   "source": [
    "### Your Work Here"
   ]
  },
  {
   "cell_type": "code",
   "execution_count": null,
   "id": "1ecee16a-fe69-43c3-85c0-bf391876a544",
   "metadata": {},
   "outputs": [],
   "source": []
  },
  {
   "cell_type": "markdown",
   "id": "9b977501-701b-47e7-8e7b-0fa782e4b4b0",
   "metadata": {
    "jp-MarkdownHeadingCollapsed": true
   },
   "source": [
    "### Solution"
   ]
  },
  {
   "cell_type": "code",
   "execution_count": null,
   "id": "0effa9e3-a46d-4acc-b758-7da41a145ffe",
   "metadata": {},
   "outputs": [],
   "source": [
    "class GetWikipediaIntro(BaseModel):\n",
    "    \"\"\"Look up information for events that happened after the year 2022.\"\"\"\n",
    "    topic: str = Field(..., description=\"Topic to get more info about\") "
   ]
  },
  {
   "cell_type": "code",
   "execution_count": null,
   "id": "bc4930c9-40b8-4044-9ae6-f4e100924b45",
   "metadata": {},
   "outputs": [],
   "source": [
    "@tool(args_schema=GetWikipediaIntro)\n",
    "def get_wikipedia_intro(topic):\n",
    "    user_agent = 'MyApp/1.0 (myemail@example.com)'\n",
    "    wiki_wiki = wikipediaapi.Wikipedia(user_agent=user_agent)\n",
    "    page = wiki_wiki.page(topic)\n",
    "    if page.exists():\n",
    "        return page.summary.split('\\n')[0]  # Get the first paragraph of the summary\n",
    "    else:\n",
    "        return f\"No Wikipedia page found for '{topic}'\" "
   ]
  },
  {
   "cell_type": "code",
   "execution_count": null,
   "id": "75bc7210-2347-4c08-9529-a1e749e9be99",
   "metadata": {},
   "outputs": [],
   "source": [
    "llm_with_tools = llm.bind_tools([get_wikipedia_intro]) "
   ]
  },
  {
   "cell_type": "code",
   "execution_count": null,
   "id": "4449ce2e-6994-4630-adeb-ec369475e891",
   "metadata": {},
   "outputs": [],
   "source": [
    "chain = llm_with_tools | RunnableLambda(call_tools) "
   ]
  },
  {
   "cell_type": "code",
   "execution_count": null,
   "id": "5093efca-8dfe-4765-9794-0b8c3202756c",
   "metadata": {},
   "outputs": [],
   "source": [
    "chain.invoke(\"Give me a short summary about the 2024 Summer Olympics\") "
   ]
  },
  {
   "cell_type": "markdown",
   "id": "2a4167d4-311c-42bd-8114-faa129ba6997",
   "metadata": {},
   "source": [
    "---"
   ]
  },
  {
   "cell_type": "markdown",
   "id": "0e0180ae-c224-41ca-8111-e2e0091e123a",
   "metadata": {},
   "source": [
    "## Summary"
   ]
  },
  {
   "cell_type": "markdown",
   "id": "a5cb5233-a5f4-491c-9db9-ca7d5a31bb95",
   "metadata": {},
   "source": [
    "In this notebook you learned how to create tools for tasks an LLM is not well suited for. You also got to see the results, in a naive chain, of actually invoking a tool. In the next notebook we'll introduce agents, a much more powerful method of orchestrating tool use, allowing models to reason about tool use, and provide the results of actually calling tools as inputs back to the model in service of composing a helpful response."
   ]
  }
 ],
 "metadata": {
  "kernelspec": {
   "display_name": "Python 3 (ipykernel)",
   "language": "python",
   "name": "python3"
  },
  "language_info": {
   "codemirror_mode": {
    "name": "ipython",
    "version": 3
   },
   "file_extension": ".py",
   "mimetype": "text/x-python",
   "name": "python",
   "nbconvert_exporter": "python",
   "pygments_lexer": "ipython3",
   "version": "3.12.1"
  }
 },
 "nbformat": 4,
 "nbformat_minor": 5
}
