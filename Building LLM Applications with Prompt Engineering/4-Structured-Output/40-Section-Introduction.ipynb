{
 "cells": [
  {
   "cell_type": "markdown",
   "id": "744d0a4f-6751-4683-91ed-b6639447a018",
   "metadata": {},
   "source": [
    "![NVIDIA](images/nvidia.png)"
   ]
  },
  {
   "cell_type": "markdown",
   "id": "688ebc37-2bdc-4094-9bad-671bd6d4faa5",
   "metadata": {},
   "source": [
    "# Section 4: Structured Output"
   ]
  },
  {
   "cell_type": "markdown",
   "id": "c67fadf7-f01e-439d-b592-9980dd44364d",
   "metadata": {},
   "source": [
    "In this section you'll learn about some real workhorse techniques that will allow you to create chains capable not only of generating structured output, but of ingesting free form text and performing sophisticated data extraction and tagging. You'll be using the incredibly popular data validation library Pydantic to assist your work, and by the time you complete the section will have a tool in your tool belt that you will be able to apply in a vast number of LLM-based applications."
   ]
  },
  {
   "cell_type": "markdown",
   "id": "4bf92848-0eda-4fdf-8226-c48c017969f4",
   "metadata": {},
   "source": [
    "---"
   ]
  },
  {
   "cell_type": "markdown",
   "id": "10016277-0c6a-4de3-b7ca-aec1a8949228",
   "metadata": {},
   "source": [
    "## Section Table of Contents"
   ]
  },
  {
   "cell_type": "markdown",
   "id": "c7f938cd-c20c-4c6a-a09b-33b2437661fd",
   "metadata": {},
   "source": [
    "1. **Structured Ouput:** In this notebook we introduce using LLMs to generate structured output, and explore some basic methods for using LLMs to generate data in batch for downstream use.\n",
    "2. **Structured Output With Pydantic:** In this notebook you will drastically upgrade your ability to generate structured output through a combination of Pydantic classes and LangChain's `JsonOutputParser`.\n",
    "3. **Document Tagging:** In this notebook you'll extend your skill set of generating structure data by learning how to extract data and tag it as you specify out of long form text."
   ]
  }
 ],
 "metadata": {
  "kernelspec": {
   "display_name": "Python 3 (ipykernel)",
   "language": "python",
   "name": "python3"
  },
  "language_info": {
   "codemirror_mode": {
    "name": "ipython",
    "version": 3
   },
   "file_extension": ".py",
   "mimetype": "text/x-python",
   "name": "python",
   "nbconvert_exporter": "python",
   "pygments_lexer": "ipython3",
   "version": "3.12.1"
  }
 },
 "nbformat": 4,
 "nbformat_minor": 5
}
