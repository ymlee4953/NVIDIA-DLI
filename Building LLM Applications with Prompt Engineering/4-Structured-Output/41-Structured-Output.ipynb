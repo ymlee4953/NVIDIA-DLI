{
 "cells": [
  {
   "cell_type": "markdown",
   "id": "4504477f-ab53-4788-9252-4ea5aa90ff00",
   "metadata": {},
   "source": [
    "![NVIDIA](images/nvidia.png)"
   ]
  },
  {
   "cell_type": "markdown",
   "id": "7a5007b4-ca32-4563-a8ed-e5cc62411f8b",
   "metadata": {},
   "source": [
    "# Structured Output"
   ]
  },
  {
   "cell_type": "markdown",
   "id": "28013522",
   "metadata": {},
   "source": [
    "In this notebook we introduce using LLMs to generate structured output, and explore some basic methods for generating data in batch for downstream use."
   ]
  },
  {
   "cell_type": "markdown",
   "id": "69366671-11a4-4439-b6ad-cb89497ef5d4",
   "metadata": {},
   "source": [
    "---"
   ]
  },
  {
   "cell_type": "markdown",
   "id": "c08054f2",
   "metadata": {},
   "source": [
    "## Objectives"
   ]
  },
  {
   "cell_type": "markdown",
   "id": "a023bc7a-47b5-4508-957c-f3354c9fb363",
   "metadata": {},
   "source": [
    "By the time you complete this notebook you will:\n",
    "\n",
    "- Learn about the value of getting LLMs to generate structured output.\n",
    "- Prompt your model to generate structured output.\n",
    "- Use the chat model to batch process inputs into structured data."
   ]
  },
  {
   "cell_type": "markdown",
   "id": "f4e9ea06-814f-43fd-9f59-ce67dfcb1bbb",
   "metadata": {},
   "source": [
    "---"
   ]
  },
  {
   "cell_type": "markdown",
   "id": "327550d4",
   "metadata": {},
   "source": [
    "## Imports"
   ]
  },
  {
   "cell_type": "code",
   "execution_count": null,
   "id": "75febe51",
   "metadata": {},
   "outputs": [],
   "source": [
    "from langchain_nvidia_ai_endpoints import ChatNVIDIA\n",
    "from langchain_core.prompts import ChatPromptTemplate\n",
    "from langchain_core.output_parsers import StrOutputParser, SimpleJsonOutputParser\n",
    "from langchain_core.runnables import RunnableLambda"
   ]
  },
  {
   "cell_type": "markdown",
   "id": "9bc7aca5-1c4a-4cb0-bd28-d8a7636cc96d",
   "metadata": {},
   "source": [
    "---"
   ]
  },
  {
   "cell_type": "markdown",
   "id": "5c0e1244",
   "metadata": {},
   "source": [
    "## Create a Model Instance"
   ]
  },
  {
   "cell_type": "code",
   "execution_count": null,
   "id": "c2c05c82",
   "metadata": {},
   "outputs": [],
   "source": [
    "base_url = 'http://llama:8000/v1'\n",
    "model = 'meta/llama-3.1-8b-instruct'\n",
    "llm = ChatNVIDIA(base_url=base_url, model=model, temperature=0)"
   ]
  },
  {
   "cell_type": "markdown",
   "id": "64d304e5-6bbe-4beb-ba92-fa208fb4c2f4",
   "metadata": {},
   "source": [
    "---"
   ]
  },
  {
   "cell_type": "markdown",
   "id": "b90f280c-cb9d-40d2-a6de-72d33308364e",
   "metadata": {},
   "source": [
    "## LLMs and Highly Structured Data Formats"
   ]
  },
  {
   "cell_type": "markdown",
   "id": "7b91ccfc-b83a-4ee9-8848-d52ad2ff1a5b",
   "metadata": {},
   "source": [
    "A very common task we would like LLMs to perform is to generate outputs in a highly structured format. These formats could be as common as JSON, or a Python list, or some custom structure unique to our needs like a custom report or document structure, just to name a few examples.\n",
    "\n",
    "Over time, as LLMs have gotten better, their ability to generate highly structured data has improved drastically, even for small LLMs (like the 8B model we are using today), but still, and especially when generating structures with highly-specific formatting requirements, like JSON (or code of any type for that matter), it can take some prompt engineering efforts to get the model to consistently produce what we need.\n",
    "\n",
    "Let's work on a very common task: getting a model to produce structured JSON. JSON is a great structure in the context of many applications as it can be used in many downstream tasks either directly, or by converting the JSON to a large variety of other usable formats like Python dicts, data frames and many many more."
   ]
  },
  {
   "cell_type": "markdown",
   "id": "cbc17361-3bce-48e2-bfc1-11dcf16be24c",
   "metadata": {},
   "source": [
    "---"
   ]
  },
  {
   "cell_type": "markdown",
   "id": "3761f476-ea4b-4c37-9fbb-08095ac34599",
   "metadata": {},
   "source": [
    "## A Simple JSON Object"
   ]
  },
  {
   "cell_type": "markdown",
   "id": "1a7f48d8-f84b-49c1-ac6b-972a96df2ecc",
   "metadata": {},
   "source": [
    "In the spirit of iterative prompt development, let's start simply by engineering a prompt instructing the model to construct a JSON object. For our example we'll ask the model to create a simple JSON object representing details about the city of Santa Clara."
   ]
  },
  {
   "cell_type": "code",
   "execution_count": null,
   "id": "e7deb0fb-7185-472e-9d6e-c26a65b1fa07",
   "metadata": {},
   "outputs": [],
   "source": [
    "prompt = '''\\\n",
    "Make a JSON object representing the city Santa Clara. \\\n",
    "It should have fields for: \\\n",
    "- The name of the city \\\n",
    "- The country the city is located in.'''"
   ]
  },
  {
   "cell_type": "code",
   "execution_count": null,
   "id": "53a5546b-4422-414c-b158-9e57440a01ab",
   "metadata": {},
   "outputs": [],
   "source": [
    "print(llm.invoke(prompt).content)"
   ]
  },
  {
   "cell_type": "markdown",
   "id": "6dc133a3-8dca-41a9-9511-a88f0bb972c8",
   "metadata": {},
   "source": [
    "We got back some conversational text from the model that is not desired, but in the response is a very nice looking JSON object, which is great.\n",
    "\n",
    "As an aside, LLMs are rapidly getting much better at generating structured output, and we expect them to continue getting better and better. Even several months ago (at the time of writing this in the summer of 2024), using Llama 3.1's predecessor Llama 2, getting back such a nice response out of an 8B model with such a simple prompt was just not going to happen.\n",
    "\n",
    "However, we still have work to do, so let's iterate on our prompt to see if we can get rid of the conversational text."
   ]
  },
  {
   "cell_type": "code",
   "execution_count": null,
   "id": "dd722367-07f3-4c89-8a12-c4192b3b4701",
   "metadata": {},
   "outputs": [],
   "source": [
    "prompt = '''\\\n",
    "Make a JSON object representing the city Santa Clara. \\\n",
    "It should have fields for:\n",
    "- The name of the city\n",
    "- The country the city is located in.\n",
    "\n",
    "Only return the JSON. Never return non-JSON text.'''"
   ]
  },
  {
   "cell_type": "code",
   "execution_count": null,
   "id": "30cedd94-cd95-400a-a933-a5f8be956f61",
   "metadata": {},
   "outputs": [],
   "source": [
    "print(llm.invoke(prompt).content)"
   ]
  },
  {
   "cell_type": "markdown",
   "id": "1e69fa90-fc52-4d75-bb54-605198a3b6da",
   "metadata": {},
   "source": [
    "This is getting closer, but for our purpose, let's see if we can get rid of the backticks wrapper too."
   ]
  },
  {
   "cell_type": "code",
   "execution_count": null,
   "id": "084f12e9-e99a-422e-9025-64caf70d1d61",
   "metadata": {},
   "outputs": [],
   "source": [
    "prompt = '''\\\n",
    "Make a JSON object representing the city Santa Clara. \\\n",
    "It should have fields for:\n",
    "- The name of the city\n",
    "- The country the city is located in.\n",
    "\n",
    "Only return the JSON. Never return non-JSON text including backtack wrappers around the JSON.'''"
   ]
  },
  {
   "cell_type": "code",
   "execution_count": null,
   "id": "75ef297d-70e1-4e50-a91d-31159228ea0a",
   "metadata": {},
   "outputs": [],
   "source": [
    "print(llm.invoke(prompt).content)"
   ]
  },
  {
   "cell_type": "markdown",
   "id": "7a246f7c-5654-42bc-9eec-5ee51286fd0f",
   "metadata": {},
   "source": [
    "That's what we want. Just to sanity check our work, let's load the model's response into a Python dict and try to iterate over it."
   ]
  },
  {
   "cell_type": "code",
   "execution_count": null,
   "id": "0b881457-22ab-4917-ba6e-fcba535fc62f",
   "metadata": {},
   "outputs": [],
   "source": [
    "json_city = llm.invoke(prompt).content"
   ]
  },
  {
   "cell_type": "code",
   "execution_count": null,
   "id": "6da66c5b-aef3-4c67-8c9a-ce3e5dd5f6b7",
   "metadata": {},
   "outputs": [],
   "source": [
    "import json\n",
    "python_city = json.loads(json_city)\n",
    "\n",
    "for k, v in python_city.items():\n",
    "    print(f'{k}: {v}')"
   ]
  },
  {
   "cell_type": "markdown",
   "id": "32422991-108c-4d65-917d-072d7a1453ed",
   "metadata": {},
   "source": [
    "---"
   ]
  },
  {
   "cell_type": "markdown",
   "id": "d6bc7b0d-d527-4b43-a962-191a0b35599e",
   "metadata": {},
   "source": [
    "## Make a Template Out of the Prompt"
   ]
  },
  {
   "cell_type": "markdown",
   "id": "3529afe1-6c2d-4a41-b066-305c53076997",
   "metadata": {},
   "source": [
    "Next let's convert our prompt to be a prompt template so we can parameterize the city name."
   ]
  },
  {
   "cell_type": "code",
   "execution_count": null,
   "id": "bca5f55f-8ff5-4a5e-8dc7-d007f4b448c1",
   "metadata": {},
   "outputs": [],
   "source": [
    "json_city_template = ChatPromptTemplate.from_template('''\\\n",
    "Make a JSON object representing the city {city_name}. \\\n",
    "It should have fields for:\n",
    "- The name of the city\n",
    "- The country the city is located in.\n",
    "\n",
    "Only return the JSON. Never return non-JSON text including backtack wrappers around the JSON.''')"
   ]
  },
  {
   "cell_type": "markdown",
   "id": "aa43f902-fd80-4df1-a02b-50ff189c8da5",
   "metadata": {},
   "source": [
    "Next we'll compose a simple chain."
   ]
  },
  {
   "cell_type": "code",
   "execution_count": null,
   "id": "4540585b-382e-4883-96e2-8e8b65c49ad3",
   "metadata": {},
   "outputs": [],
   "source": [
    "parser = StrOutputParser()"
   ]
  },
  {
   "cell_type": "code",
   "execution_count": null,
   "id": "6bc875aa-052a-4309-9f70-4260cf836a2e",
   "metadata": {},
   "outputs": [],
   "source": [
    "chain = json_city_template | llm | parser"
   ]
  },
  {
   "cell_type": "code",
   "execution_count": null,
   "id": "e2639dc1-b61b-442e-9817-a962cb0f7af1",
   "metadata": {},
   "outputs": [],
   "source": [
    "print(chain.invoke({'city_name': 'Santa Clara'}))"
   ]
  },
  {
   "cell_type": "markdown",
   "id": "2f88128a-052d-449e-b062-36904224fa42",
   "metadata": {},
   "source": [
    "This also looks good."
   ]
  },
  {
   "cell_type": "markdown",
   "id": "829bf90f-a3bf-4f3f-b189-181e41592b08",
   "metadata": {},
   "source": [
    "---"
   ]
  },
  {
   "cell_type": "markdown",
   "id": "8fe0354d-f090-45ce-93ef-27f49afd2f21",
   "metadata": {},
   "source": [
    "## Simple JSON Parsing"
   ]
  },
  {
   "cell_type": "markdown",
   "id": "c68beca4-cad6-4f8a-9db9-bf028a3b6f5f",
   "metadata": {},
   "source": [
    "To confirm that we can load the JSON object as a Python dict, we can use a custom runnable to parse the model response directly to a Python dict."
   ]
  },
  {
   "cell_type": "code",
   "execution_count": null,
   "id": "66697fd4-e899-4692-bb92-6f1e0d845482",
   "metadata": {},
   "outputs": [],
   "source": [
    "parse_to_dict = RunnableLambda(lambda response: json.loads(response.content))"
   ]
  },
  {
   "cell_type": "markdown",
   "id": "d2caa07f-0074-40c9-b116-746643b5d64d",
   "metadata": {},
   "source": [
    "We'll re-compose our chain to use this custom parser."
   ]
  },
  {
   "cell_type": "code",
   "execution_count": null,
   "id": "c1b9db38-4d55-4c72-b55a-f6b23278ed14",
   "metadata": {},
   "outputs": [],
   "source": [
    "chain = json_city_template | llm | parse_to_dict"
   ]
  },
  {
   "cell_type": "code",
   "execution_count": null,
   "id": "6bde65d3-a70b-4889-bfe7-a6d35aefb65b",
   "metadata": {},
   "outputs": [],
   "source": [
    "chain.invoke({'city_name': 'Santa Clara'})"
   ]
  },
  {
   "cell_type": "markdown",
   "id": "a9a88b27-cab3-4f35-b227-97a8ee36387c",
   "metadata": {},
   "source": [
    "This appears to work great.\n",
    "\n",
    "As a small improvement, rather than creating our own parser, LangChain provides `SimpleJsonOutputParser` for just this use case. Let's reconstruct our chain using it."
   ]
  },
  {
   "cell_type": "code",
   "execution_count": null,
   "id": "ddc34726-5664-4508-8617-121aad93f06d",
   "metadata": {},
   "outputs": [],
   "source": [
    "from langchain_core.output_parsers import SimpleJsonOutputParser"
   ]
  },
  {
   "cell_type": "code",
   "execution_count": null,
   "id": "547b9db0-2437-49ef-9eae-1a1f9a28ebb4",
   "metadata": {},
   "outputs": [],
   "source": [
    "json_parser = SimpleJsonOutputParser()"
   ]
  },
  {
   "cell_type": "code",
   "execution_count": null,
   "id": "3fd9e216-bbe3-44b6-a383-9d8c35d1e89b",
   "metadata": {},
   "outputs": [],
   "source": [
    "chain = json_city_template | llm | json_parser"
   ]
  },
  {
   "cell_type": "code",
   "execution_count": null,
   "id": "8ac73dd0-3ca6-4e52-84a7-c78fac10fc5c",
   "metadata": {},
   "outputs": [],
   "source": [
    "chain.invoke({'city_name': 'Santa Clara'})"
   ]
  },
  {
   "cell_type": "markdown",
   "id": "fe111a23-5a10-47df-816d-f28215f7c4a8",
   "metadata": {},
   "source": [
    "---"
   ]
  },
  {
   "cell_type": "markdown",
   "id": "02379f99-7660-446b-a530-4ad2bccffc35",
   "metadata": {},
   "source": [
    "## Batch on Multiple Inputs"
   ]
  },
  {
   "cell_type": "markdown",
   "id": "bf4a9705-9599-4895-ab81-ab399cb54547",
   "metadata": {},
   "source": [
    "So far so good, but continuing in the spirit of iterative prompt development, now let's try our chain on several different inputs."
   ]
  },
  {
   "cell_type": "code",
   "execution_count": null,
   "id": "77bf61fe-d066-4b9f-8c91-1d7d77d6f17f",
   "metadata": {},
   "outputs": [],
   "source": [
    "city_names = [\n",
    "    {'city_name': 'Santa Clara'},\n",
    "    {'city_name': 'Busan'},\n",
    "    {'city_name': 'Cairo'},\n",
    "    {'city_name': 'Perth'}\n",
    "]"
   ]
  },
  {
   "cell_type": "code",
   "execution_count": null,
   "id": "27edf810-0d3c-4ccb-940c-2c8ae4bb8e20",
   "metadata": {},
   "outputs": [],
   "source": [
    "city_details = chain.batch(city_names)"
   ]
  },
  {
   "cell_type": "code",
   "execution_count": null,
   "id": "bb06ebb9-88b6-44af-8cf6-5d619ea80eb6",
   "metadata": {},
   "outputs": [],
   "source": [
    "city_details"
   ]
  },
  {
   "cell_type": "code",
   "execution_count": null,
   "id": "eba7a6dd-8aba-4dd7-a968-68165a81c8bf",
   "metadata": {},
   "outputs": [],
   "source": [
    "for city in city_details:\n",
    "    print(f'City: {city['name']}\\nCountry: {city['country']}\\n')"
   ]
  },
  {
   "cell_type": "markdown",
   "id": "59c706d5-1481-4db5-aada-8d1a6771610a",
   "metadata": {},
   "source": [
    "---"
   ]
  },
  {
   "cell_type": "markdown",
   "id": "b61ede53-e516-4a01-9c51-6a732389cdb4",
   "metadata": {},
   "source": [
    "## Structure and Generation"
   ]
  },
  {
   "cell_type": "markdown",
   "id": "596471e7-85f3-4d52-b8ae-f33934b7492c",
   "metadata": {},
   "source": [
    "Since we've been using LLMs to generate content throughout the workshop this might be obvious, but it's worth highlighting: not only are we using the LLM as a means to structure data that we provide it, be we are combining this with its generative capabilities.\n",
    "\n",
    "In the example we just worked through our input data was the name of a city, which we wanted structured into JSON. But more than just structuring the information we provided (the name of the city) we used the generative capabilities of the model to extend the structured data with the country that the city is located in, which we did not provide ourselves.\n",
    "\n",
    "Generating structured output/data that has been augmented with the generative capacity of an LLM is tremendously powerful."
   ]
  },
  {
   "cell_type": "markdown",
   "id": "cc983b10-0959-4aa3-8af2-9e7a992ee3a2",
   "metadata": {},
   "source": [
    "---"
   ]
  },
  {
   "cell_type": "markdown",
   "id": "990842c9-79f9-4fba-9c33-f1439e3f47a2",
   "metadata": {},
   "source": [
    "## Exercise: Generate a List of Book Details"
   ]
  },
  {
   "cell_type": "markdown",
   "id": "563cd9a5-d0db-4381-b04c-9fa115537c09",
   "metadata": {},
   "source": [
    "Using the techniques you've learned thus far, generate a python list containing dictionaries that each contain details about the following books.\n",
    "\n",
    "Each dict should have the book's title, author, and year of original publication.\n",
    "\n",
    "Feel free to check out the *Solution* below if you get stuck."
   ]
  },
  {
   "cell_type": "code",
   "execution_count": null,
   "id": "90f83842-02fb-401e-a51c-b1a9b7234754",
   "metadata": {},
   "outputs": [],
   "source": [
    "sci_fi_books = [\n",
    "    {\"book_title\": \"Dune\"},\n",
    "    {\"book_title\": \"Neuromancer\"},\n",
    "    {\"book_title\": \"Snow Crash\"},\n",
    "    {\"book_title\": \"The Left Hand of Darkness\"},\n",
    "    {\"book_title\": \"Foundation\"}\n",
    "]"
   ]
  },
  {
   "cell_type": "markdown",
   "id": "f8884745-98f0-4911-beba-a998b2ffa3c6",
   "metadata": {},
   "source": [
    "### Your Work Here"
   ]
  },
  {
   "cell_type": "code",
   "execution_count": null,
   "id": "52571a47-af4a-439d-971f-5cc408770789",
   "metadata": {},
   "outputs": [],
   "source": []
  },
  {
   "cell_type": "markdown",
   "id": "80da3004-b499-40e8-b3db-eb9254eeed1a",
   "metadata": {
    "jp-MarkdownHeadingCollapsed": true
   },
   "source": [
    "### Solution"
   ]
  },
  {
   "cell_type": "code",
   "execution_count": null,
   "id": "a73145fa-fc8d-4916-ae20-99a50d108676",
   "metadata": {},
   "outputs": [],
   "source": [
    "book_template = ChatPromptTemplate.from_template('''\\\n",
    "Make a JSON object representing the details of the following book: {book_title}. \\\n",
    "It should have fields for:\n",
    "- The title of the book.\n",
    "- The author of the book.\n",
    "- The year the book was originally published.\n",
    "\n",
    "Only return the JSON. Never return non-JSON text including backtack wrappers around the JSON.''')"
   ]
  },
  {
   "cell_type": "code",
   "execution_count": null,
   "id": "2f4daf92-4b12-4e7a-a532-e626f610b89f",
   "metadata": {},
   "outputs": [],
   "source": [
    "chain = book_template | llm | json_parser"
   ]
  },
  {
   "cell_type": "code",
   "execution_count": null,
   "id": "2420bb95-611a-4ee9-be52-3eec57832c6c",
   "metadata": {},
   "outputs": [],
   "source": [
    "chain.batch(sci_fi_books)"
   ]
  },
  {
   "cell_type": "markdown",
   "id": "fab1589c-879c-4477-aeb2-b7691ce927bf",
   "metadata": {},
   "source": [
    "---"
   ]
  },
  {
   "cell_type": "markdown",
   "id": "0e0180ae-c224-41ca-8111-e2e0091e123a",
   "metadata": {},
   "source": [
    "## Summary"
   ]
  },
  {
   "cell_type": "markdown",
   "id": "a5cb5233-a5f4-491c-9db9-ca7d5a31bb95",
   "metadata": {},
   "source": [
    "In this notebook you began approaching the technique of LLMs generating structured output. In the next notebook you're going to drastically increase your capabilities in this arena by using Pydantic classes and LangChain's JsonOutputParser."
   ]
  }
 ],
 "metadata": {
  "kernelspec": {
   "display_name": "Python 3 (ipykernel)",
   "language": "python",
   "name": "python3"
  },
  "language_info": {
   "codemirror_mode": {
    "name": "ipython",
    "version": 3
   },
   "file_extension": ".py",
   "mimetype": "text/x-python",
   "name": "python",
   "nbconvert_exporter": "python",
   "pygments_lexer": "ipython3",
   "version": "3.12.1"
  }
 },
 "nbformat": 4,
 "nbformat_minor": 5
}
