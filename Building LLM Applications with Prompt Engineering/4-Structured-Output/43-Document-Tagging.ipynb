{
 "cells": [
  {
   "cell_type": "markdown",
   "id": "e3e7c50e-dc4c-4446-8a2b-973d40ebcf78",
   "metadata": {},
   "source": [
    "![NVIDIA](images/nvidia.png)"
   ]
  },
  {
   "cell_type": "markdown",
   "id": "67e5fec6-5c37-40c0-844c-1feabd9067db",
   "metadata": {},
   "source": [
    "# Document Tagging"
   ]
  },
  {
   "cell_type": "markdown",
   "id": "28013522",
   "metadata": {},
   "source": [
    "In this notebook you'll extend your skill set of generating structure data by learning how to extract data and tag it as you specify out of long form text."
   ]
  },
  {
   "cell_type": "markdown",
   "id": "69366671-11a4-4439-b6ad-cb89497ef5d4",
   "metadata": {},
   "source": [
    "---"
   ]
  },
  {
   "cell_type": "markdown",
   "id": "c08054f2",
   "metadata": {},
   "source": [
    "## Objectives"
   ]
  },
  {
   "cell_type": "markdown",
   "id": "a023bc7a-47b5-4508-957c-f3354c9fb363",
   "metadata": {},
   "source": [
    "By the time you complete this notebook you will:\n",
    "\n",
    "- Be able to construct Pydantic classes that represent collections of other Pydantic classes.\n",
    "- Perform extraction and tagging against long-form text."
   ]
  },
  {
   "cell_type": "markdown",
   "id": "f4e9ea06-814f-43fd-9f59-ce67dfcb1bbb",
   "metadata": {},
   "source": [
    "---"
   ]
  },
  {
   "cell_type": "markdown",
   "id": "327550d4",
   "metadata": {},
   "source": [
    "## Imports"
   ]
  },
  {
   "cell_type": "code",
   "execution_count": null,
   "id": "75febe51",
   "metadata": {},
   "outputs": [],
   "source": [
    "from typing import List\n",
    "from pprint import pprint\n",
    "\n",
    "from langchain_nvidia_ai_endpoints import ChatNVIDIA\n",
    "from langchain_core.prompts import ChatPromptTemplate\n",
    "from langchain_core.output_parsers import JsonOutputParser\n",
    "from langchain_core.pydantic_v1 import BaseModel, Field"
   ]
  },
  {
   "cell_type": "markdown",
   "id": "9bc7aca5-1c4a-4cb0-bd28-d8a7636cc96d",
   "metadata": {},
   "source": [
    "---"
   ]
  },
  {
   "cell_type": "markdown",
   "id": "5c0e1244",
   "metadata": {},
   "source": [
    "## Create a Model Instance"
   ]
  },
  {
   "cell_type": "code",
   "execution_count": null,
   "id": "c2c05c82",
   "metadata": {},
   "outputs": [],
   "source": [
    "base_url = 'http://llama:8000/v1'\n",
    "model = 'meta/llama-3.1-8b-instruct'\n",
    "llm = ChatNVIDIA(base_url=base_url, model=model, temperature=0)"
   ]
  },
  {
   "cell_type": "markdown",
   "id": "64d304e5-6bbe-4beb-ba92-fa208fb4c2f4",
   "metadata": {},
   "source": [
    "---"
   ]
  },
  {
   "cell_type": "markdown",
   "id": "904aad3a-e5b2-4767-b8d1-12f52c5608c8",
   "metadata": {},
   "source": [
    "## Document Tagging"
   ]
  },
  {
   "cell_type": "markdown",
   "id": "4bfc1320-b286-497b-9066-a432f714f932",
   "metadata": {},
   "source": [
    "Knowing what you already do about creating Pydantic specifications for structured data generation, you are going to have an easy time extending this skill to being able to extract and tag data out of long form text.\n",
    "\n",
    "To learn the technique let's assume that we want to extract the name of any piece of fruit mentioned in a piece of text. We'll begin, as we have been, by defining a schema for our data, and instantiating a parser that, in conjunction with a prompt using its format instructions, will be able to parse structured data out of our prompt and what the LLM can ascertain about it."
   ]
  },
  {
   "cell_type": "code",
   "execution_count": null,
   "id": "ec9bf3c2-6c18-4862-9989-3ba4e0495d58",
   "metadata": {},
   "outputs": [],
   "source": [
    "class Fruit(BaseModel):\n",
    "    \"\"\"The name of a piece of fruit.\"\"\"\n",
    "\n",
    "    name: str = Field(description=\"The name of the piece of fruit\")"
   ]
  },
  {
   "cell_type": "code",
   "execution_count": null,
   "id": "86537f49-42e6-4733-bd2a-ec1659dab95f",
   "metadata": {},
   "outputs": [],
   "source": [
    "parser = JsonOutputParser(pydantic_object=Fruit)"
   ]
  },
  {
   "cell_type": "code",
   "execution_count": null,
   "id": "cfaccf13-ff8b-4d89-a550-944a6d99e085",
   "metadata": {},
   "outputs": [],
   "source": [
    "format_instructions = parser.get_format_instructions()"
   ]
  },
  {
   "cell_type": "code",
   "execution_count": null,
   "id": "bebcba07-4692-4a3a-8110-bf8a3942d515",
   "metadata": {},
   "outputs": [],
   "source": [
    "template = ChatPromptTemplate.from_messages([\n",
    "    (\"system\", \"You are an AI that generates JSON and only JSON according to the instructions provided to you.\"),\n",
    "    (\"human\", (\n",
    "        \"Generate JSON about the user input according to the provided format instructions.\\n\" +\n",
    "        \"Input: {input}\\n\" +\n",
    "        \"Format instructions {format_instructions}\")\n",
    "    )\n",
    "])"
   ]
  },
  {
   "cell_type": "code",
   "execution_count": null,
   "id": "4e0b97af-c0d8-47d6-938a-88059904fcc0",
   "metadata": {},
   "outputs": [],
   "source": [
    "template_with_format_instructions = template.partial(format_instructions=format_instructions)"
   ]
  },
  {
   "cell_type": "code",
   "execution_count": null,
   "id": "226014ec-eeea-4e6a-b551-37a3466a0fdc",
   "metadata": {},
   "outputs": [],
   "source": [
    "chain = template_with_format_instructions | llm | parser"
   ]
  },
  {
   "cell_type": "markdown",
   "id": "0589d6b5-87a2-400e-bde6-6cd06b948b13",
   "metadata": {},
   "source": [
    "And now we do something slightly different than what we did in the previous notebook. Instead of providing a single entity meant to be transformed into a structured data entity, we provide free form text.\n",
    "\n",
    "Given the simplicity of the following statement, however, it should come as no surprise that our chain is well-capable to identify and capture the single piece of fruit mentioned."
   ]
  },
  {
   "cell_type": "code",
   "execution_count": null,
   "id": "e90a1b41-50a7-4229-b35b-4b345d02cafd",
   "metadata": {},
   "outputs": [],
   "source": [
    "chain.invoke({\"input\": \"An apple fell from the tree.\"})"
   ]
  },
  {
   "cell_type": "markdown",
   "id": "0a1df552-801f-4415-87b9-02c35d308a4c",
   "metadata": {},
   "source": [
    "---"
   ]
  },
  {
   "cell_type": "markdown",
   "id": "71cd53a0-f171-40aa-b654-230e696382dc",
   "metadata": {},
   "source": [
    "## Lists of Structured Data"
   ]
  },
  {
   "cell_type": "markdown",
   "id": "ff58e843-532c-4e82-8f7c-02d5dd70ae63",
   "metadata": {},
   "source": [
    "When it comes to extracting and tagging multiple data entities out of free form text, the ingredient that we are missing is the ability to specify that rather than capture a single data type for a piece of given text, that we wish to extract a **list** of some defined entity.\n",
    "\n",
    "Using Pydantic, along with Python's `typing.List`, this is rather straightforward: we create a new Pydantic class, with a helpful docstring, that is comprised of a `List` of a another Pydantic class."
   ]
  },
  {
   "cell_type": "code",
   "execution_count": null,
   "id": "cce15633-4ba2-467c-8198-b65b52ac69f1",
   "metadata": {},
   "outputs": [],
   "source": [
    "from typing import List"
   ]
  },
  {
   "cell_type": "code",
   "execution_count": null,
   "id": "d365c282-a8cd-4017-a3c7-b839037d10c7",
   "metadata": {},
   "outputs": [],
   "source": [
    "class Fruits(BaseModel):\n",
    "    \"\"\"The names of fruits\"\"\"\n",
    "    fruits: List[Fruit]"
   ]
  },
  {
   "cell_type": "markdown",
   "id": "218cefb7-2732-4e56-8b7e-1919ab70d13e",
   "metadata": {},
   "source": [
    "With the list-bearing `Fruits` class now at our disposal, we can construct a parser and chain as usual."
   ]
  },
  {
   "cell_type": "code",
   "execution_count": null,
   "id": "bf18ef8b-c4cb-4d9f-8a98-ae5a29e01e3c",
   "metadata": {},
   "outputs": [],
   "source": [
    "parser = JsonOutputParser(pydantic_object=Fruits)"
   ]
  },
  {
   "cell_type": "code",
   "execution_count": null,
   "id": "4c155a94-33c9-4445-b844-7b5dac9c1161",
   "metadata": {},
   "outputs": [],
   "source": [
    "format_instructions = parser.get_format_instructions()"
   ]
  },
  {
   "cell_type": "code",
   "execution_count": null,
   "id": "917c1967-b7b3-4a90-9f97-731284a88bbf",
   "metadata": {},
   "outputs": [],
   "source": [
    "template_with_format_instructions = template.partial(format_instructions=format_instructions)"
   ]
  },
  {
   "cell_type": "code",
   "execution_count": null,
   "id": "d34a9aad-e0bf-4245-a667-690d48ebafd0",
   "metadata": {},
   "outputs": [],
   "source": [
    "chain = template_with_format_instructions | llm | parser"
   ]
  },
  {
   "cell_type": "markdown",
   "id": "6fcd7c00-18b3-4839-800a-62f78fb252d9",
   "metadata": {},
   "source": [
    "But now when we pass a longer piece of text containing multiple pieces of fruit, we can see we are able to extract and tag them all."
   ]
  },
  {
   "cell_type": "code",
   "execution_count": null,
   "id": "b7f6a82a-bcfa-49b2-9ccd-707ec2365eeb",
   "metadata": {},
   "outputs": [],
   "source": [
    "chain.invoke({\"input\": \"An apple fell from the tree. It hit the ground right next to a banana peel.\"})"
   ]
  },
  {
   "cell_type": "markdown",
   "id": "036294f4-a966-4050-97e3-d90ee2d724b4",
   "metadata": {},
   "source": [
    "---"
   ]
  },
  {
   "cell_type": "markdown",
   "id": "e16bf9db-dd43-44ab-8d8d-fbeda2446d5d",
   "metadata": {},
   "source": [
    "## Exercise: Do Document Tagging for Apollo Story"
   ]
  },
  {
   "cell_type": "markdown",
   "id": "cf3f1e5f-bc91-47bc-8de5-0560fe39ef29",
   "metadata": {},
   "source": [
    "Below is an account of the Apollo 11 landing. Your goal for this exercise is to extract and tag several entities from within the account.\n",
    "\n",
    "Specifically, you should extract and tag the following:\n",
    "- Details about the entire landing which will include\n",
    "    - A list of any crew members mentioned in the account. For each crew member you should capture their:\n",
    "        - name\n",
    "        - role during the mission\n",
    "    - A list of parts and modules belonging to any spacecraft mentioned in the account. For each part of a spacecraft extracted you should capture its:\n",
    "        - name\n",
    "        - the specific part or module of the spacecraft that it is\n",
    "    - A list of any significant quotes made during the account. For each significant quote you should extract and tag:\n",
    "        - the quote itself\n",
    "        - The name of the speaker of the quote\n",
    "\n",
    "Feel free to jump right in if you'd like. If you prefer, you can also expand the _Walkthrough_ section below for step by step guidance on this exercise."
   ]
  },
  {
   "cell_type": "code",
   "execution_count": null,
   "id": "3f63a428-286b-44b6-b66b-91ed4c278276",
   "metadata": {},
   "outputs": [],
   "source": [
    "apollo_story = \"\"\"\n",
    "On July 20, 1969, Apollo 11, the first manned mission to land on the Moon, successfully touched down in the Sea of Tranquility. \\\n",
    "The crew consisted of Neil Armstrong, who served as the mission commander, \\\n",
    "Edwin 'Buzz' Aldrin, the lunar module pilot, and Michael Collins, the command module pilot.\n",
    "\n",
    "The spacecraft consisted of two main parts: the command module Columbia and the lunar module Eagle. \\\n",
    "As Armstrong stepped onto the lunar surface, he famously declared, \"That's one small step for man, one giant leap for mankind.\"\n",
    "\n",
    "Buzz Aldrin also descended onto the Moon's surface, where he and Armstrong conducted experiments and collected samples. \\\n",
    "Michael Collins remained in lunar orbit aboard Columbia, ensuring the successful return of his fellow astronauts.\n",
    "\n",
    "The mission was a pivotal moment in space exploration and remains a significant achievement in human history.\n",
    "\"\"\""
   ]
  },
  {
   "cell_type": "markdown",
   "id": "b7bc4ee0-39f6-47ae-90d9-5bfd135e24f2",
   "metadata": {},
   "source": [
    "### Your Work Here"
   ]
  },
  {
   "cell_type": "code",
   "execution_count": null,
   "id": "c4075357-b799-4338-86b3-c8784e6adbb7",
   "metadata": {},
   "outputs": [],
   "source": []
  },
  {
   "cell_type": "markdown",
   "id": "cc983b10-0959-4aa3-8af2-9e7a992ee3a2",
   "metadata": {},
   "source": [
    "---"
   ]
  },
  {
   "cell_type": "markdown",
   "id": "b90f280c-cb9d-40d2-a6de-72d33308364e",
   "metadata": {
    "jp-MarkdownHeadingCollapsed": true
   },
   "source": [
    "## Walkthrough"
   ]
  },
  {
   "cell_type": "markdown",
   "id": "d1b19c1e-a54c-4853-bb27-9f967fc0c505",
   "metadata": {},
   "source": [
    "### Define Crew Member Details"
   ]
  },
  {
   "cell_type": "markdown",
   "id": "ba873d2f-831a-4ab7-b72b-d1c6ea59d005",
   "metadata": {},
   "source": [
    "Following the guidelines above, create a class that represents the details of a given crew member.\n",
    "\n",
    "Feel free to check out the Solution below if you get stuck."
   ]
  },
  {
   "cell_type": "markdown",
   "id": "bb3e5c26-2020-43d1-a96e-c9b7addf8fa2",
   "metadata": {},
   "source": [
    "### Your Work Here"
   ]
  },
  {
   "cell_type": "code",
   "execution_count": null,
   "id": "4bdbcc11-541f-4ea2-92c2-8b2345df238e",
   "metadata": {},
   "outputs": [],
   "source": []
  },
  {
   "cell_type": "markdown",
   "id": "d5de480b-62a8-433e-b57c-b96cbe0b042a",
   "metadata": {
    "jp-MarkdownHeadingCollapsed": true
   },
   "source": [
    "### Solution"
   ]
  },
  {
   "cell_type": "code",
   "execution_count": null,
   "id": "e18d395c-97b7-4417-a81b-b2a42ad62852",
   "metadata": {},
   "outputs": [],
   "source": [
    "class CrewMember(BaseModel):\n",
    "    \"\"\"Details of a crew member\"\"\"\n",
    "    name: str = Field(description=\"Name of the crew member\")\n",
    "    role: str = Field(description=\"Role of the crew member in the mission\")"
   ]
  },
  {
   "cell_type": "markdown",
   "id": "44daff6b-4553-4a18-8f28-ad7c0a235ed6",
   "metadata": {},
   "source": [
    "### Define Spacecraft Details"
   ]
  },
  {
   "cell_type": "markdown",
   "id": "ae6491ce-4927-4227-a9aa-a43e5d994c44",
   "metadata": {},
   "source": [
    "Following the guidelines above, create a class that represents the details of the spacecraft mentioned in the account.\n",
    "\n",
    "Feel free to check out the Solution below if you get stuck."
   ]
  },
  {
   "cell_type": "markdown",
   "id": "3da4cdb8-c718-4c1a-942a-15fa0cc30098",
   "metadata": {},
   "source": [
    "### Your Work Here"
   ]
  },
  {
   "cell_type": "code",
   "execution_count": null,
   "id": "9f0b2a76-bf43-49ce-8770-6c4ca980360c",
   "metadata": {},
   "outputs": [],
   "source": []
  },
  {
   "cell_type": "markdown",
   "id": "0805bf64-8ebd-4376-93c4-bf7b77ecb197",
   "metadata": {
    "jp-MarkdownHeadingCollapsed": true
   },
   "source": [
    "### Solution"
   ]
  },
  {
   "cell_type": "code",
   "execution_count": null,
   "id": "72487774-74ff-49ab-aa52-1c49531631cc",
   "metadata": {},
   "outputs": [],
   "source": [
    "class SpacecraftDetail(BaseModel):\n",
    "    \"\"\"Details of the spacecraft\"\"\"\n",
    "    name: str = Field(description=\"Name of the spacecraft\")\n",
    "    part: str = Field(description=\"Specific part or module of the spacecraft\")"
   ]
  },
  {
   "cell_type": "markdown",
   "id": "3a0d41e6-745f-4e7b-b75c-0691990c8008",
   "metadata": {},
   "source": [
    "### Define Significant Quotes"
   ]
  },
  {
   "cell_type": "markdown",
   "id": "ad3e4111-5905-4ef6-944d-03488e38ef79",
   "metadata": {},
   "source": [
    "Following the guidelines above, create a class that represents the details any significant quote made in the account.\n",
    "\n",
    "Feel free to check out the Solution below if you get stuck."
   ]
  },
  {
   "cell_type": "markdown",
   "id": "04d6a635-1dbf-4094-ad8c-590fb6e5d8d1",
   "metadata": {},
   "source": [
    "### Your Work Here"
   ]
  },
  {
   "cell_type": "code",
   "execution_count": null,
   "id": "3750cfff-9899-49c6-baf3-1962d2361303",
   "metadata": {},
   "outputs": [],
   "source": []
  },
  {
   "cell_type": "markdown",
   "id": "ed020489-044a-4811-943f-43fbf31ccd42",
   "metadata": {
    "jp-MarkdownHeadingCollapsed": true
   },
   "source": [
    "### Solution"
   ]
  },
  {
   "cell_type": "code",
   "execution_count": null,
   "id": "76bd0eb0-934a-49a1-956a-9966ecfa4f85",
   "metadata": {},
   "outputs": [],
   "source": [
    "class SignificantQuote(BaseModel):\n",
    "    \"\"\"Details of a significant quote\"\"\"\n",
    "    quote: str = Field(description=\"The quote\")\n",
    "    speaker: str = Field(description=\"Name of the person who said the quote\")"
   ]
  },
  {
   "cell_type": "markdown",
   "id": "04c2e971-accb-4158-9400-baca9af96d86",
   "metadata": {},
   "source": [
    "### Define Combined Details About the Entire Landing"
   ]
  },
  {
   "cell_type": "markdown",
   "id": "222f1aeb-da39-419f-8078-e33687d21556",
   "metadata": {},
   "source": [
    "Create a class for the combined details of the Apollo 11 mission. It should contains lists of the other 3 classes you created above.\n",
    "\n",
    "Feel free to check out the Solution below if you get stuck."
   ]
  },
  {
   "cell_type": "markdown",
   "id": "fec66717-2b7a-414e-ae70-a116fd8cf2e2",
   "metadata": {},
   "source": [
    "### Your Work Here"
   ]
  },
  {
   "cell_type": "code",
   "execution_count": null,
   "id": "48d64b14-5488-4848-90be-26340c978f3b",
   "metadata": {},
   "outputs": [],
   "source": []
  },
  {
   "cell_type": "markdown",
   "id": "8564b2b7-ad30-4e2d-b4e0-c000404b67fa",
   "metadata": {
    "jp-MarkdownHeadingCollapsed": true
   },
   "source": [
    "### Solution"
   ]
  },
  {
   "cell_type": "code",
   "execution_count": null,
   "id": "e806138f-7677-4e5b-a744-84d3cc02115e",
   "metadata": {},
   "outputs": [],
   "source": [
    "class Apollo11Details(BaseModel):\n",
    "    \"\"\"Combined details of the Apollo 11 mission\"\"\"\n",
    "    crew_members: List[CrewMember]\n",
    "    spacecraft_details: List[SpacecraftDetail]\n",
    "    significant_quotes: List[SignificantQuote]"
   ]
  },
  {
   "cell_type": "markdown",
   "id": "ed71d36b-f5df-450d-a25e-0b34036e70f0",
   "metadata": {},
   "source": [
    "### Create the Extraction Chain"
   ]
  },
  {
   "cell_type": "markdown",
   "id": "daddc49e-ea9c-4830-a4f1-a47931eadea4",
   "metadata": {},
   "source": [
    "With all the data classes well defined, now it's time to create a chain, including the use of `JsonOutputParser` to be used in conjunction with our LLM instance to perform the actual extraction and tagging.\n",
    "\n",
    "Feel free to check out the Solution below if you get stuck."
   ]
  },
  {
   "cell_type": "markdown",
   "id": "bd5c6378-040c-4c79-b804-a4da9109f5ef",
   "metadata": {},
   "source": [
    "### Your Work Here"
   ]
  },
  {
   "cell_type": "code",
   "execution_count": null,
   "id": "6ff68497-7bf0-4386-a844-df79f8be2493",
   "metadata": {},
   "outputs": [],
   "source": []
  },
  {
   "cell_type": "markdown",
   "id": "b0c4f876-9c95-4cce-abd2-7a78d1a6bde3",
   "metadata": {
    "jp-MarkdownHeadingCollapsed": true
   },
   "source": [
    "### Solution"
   ]
  },
  {
   "cell_type": "code",
   "execution_count": null,
   "id": "f00f0901-4712-4afe-9b68-00bbe0f4308a",
   "metadata": {},
   "outputs": [],
   "source": [
    "parser = JsonOutputParser(pydantic_object=Apollo11Details)\n",
    "\n",
    "format_instructions = parser.get_format_instructions()\n",
    "\n",
    "template_with_format_instructions = template.partial(format_instructions=format_instructions)\n",
    "\n",
    "chain = template_with_format_instructions | llm | parser"
   ]
  },
  {
   "cell_type": "markdown",
   "id": "b9638513-b09f-440d-87d4-e810cd1e2b1f",
   "metadata": {},
   "source": [
    "### Invoke the Extraction Chain"
   ]
  },
  {
   "cell_type": "markdown",
   "id": "0addd38f-4226-4cf1-9ed8-d7b8791d1e1d",
   "metadata": {},
   "source": [
    "All that's left to do now is invoke your chain with the apollo_story account above.\n",
    "\n",
    "Feel free to check out the Solution below if you get stuck."
   ]
  },
  {
   "cell_type": "markdown",
   "id": "4a60f4ad-74c6-4a52-8865-8e2cc8153d8f",
   "metadata": {},
   "source": [
    "### Your Work Here"
   ]
  },
  {
   "cell_type": "code",
   "execution_count": null,
   "id": "089ea211-3060-4eec-928b-2923c71cf949",
   "metadata": {},
   "outputs": [],
   "source": []
  },
  {
   "cell_type": "markdown",
   "id": "c05218e7-67a7-432f-9a52-928d2c58fb1f",
   "metadata": {
    "jp-MarkdownHeadingCollapsed": true
   },
   "source": [
    "### Solution"
   ]
  },
  {
   "cell_type": "code",
   "execution_count": null,
   "id": "261085af-9190-4609-9b8c-8e3e8b112557",
   "metadata": {},
   "outputs": [],
   "source": [
    "apollo_details = chain.invoke({\"input\": apollo_story})"
   ]
  },
  {
   "cell_type": "code",
   "execution_count": null,
   "id": "6ebd7c07-cf66-4d6e-a4e4-8565939947d6",
   "metadata": {},
   "outputs": [],
   "source": [
    "pprint(apollo_details)"
   ]
  },
  {
   "cell_type": "markdown",
   "id": "8a47992f-8830-4300-afea-51bad10ea6b6",
   "metadata": {},
   "source": [
    "---"
   ]
  },
  {
   "cell_type": "markdown",
   "id": "0e0180ae-c224-41ca-8111-e2e0091e123a",
   "metadata": {},
   "source": [
    "## Summary"
   ]
  },
  {
   "cell_type": "markdown",
   "id": "a5cb5233-a5f4-491c-9db9-ca7d5a31bb95",
   "metadata": {},
   "source": [
    "This notebook concludes this section on structured data generation, which we hope you'll agree is a powerful tool with a great number of applications.\n",
    "\n",
    "Related to their ability to generate structured data, LLMs can generate structured data intended to indicate when and how an application ought to invoke (potentially) non-LLM-related functionality. We call this technique tool use, and in the next section you'll learn how to create tools, and integrate their use with LLM interactions via agents."
   ]
  }
 ],
 "metadata": {
  "kernelspec": {
   "display_name": "Python 3 (ipykernel)",
   "language": "python",
   "name": "python3"
  },
  "language_info": {
   "codemirror_mode": {
    "name": "ipython",
    "version": 3
   },
   "file_extension": ".py",
   "mimetype": "text/x-python",
   "name": "python",
   "nbconvert_exporter": "python",
   "pygments_lexer": "ipython3",
   "version": "3.12.1"
  }
 },
 "nbformat": 4,
 "nbformat_minor": 5
}
