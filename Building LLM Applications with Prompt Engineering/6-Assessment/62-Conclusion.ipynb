{
 "cells": [
  {
   "cell_type": "markdown",
   "id": "43a9cb68-4c93-4de1-836d-753ca766ebe1",
   "metadata": {},
   "source": [
    "![NVIDIA](images/nvidia.png)"
   ]
  },
  {
   "cell_type": "markdown",
   "id": "f4772d59",
   "metadata": {},
   "source": [
    "# Workshop Conclusion"
   ]
  },
  {
   "cell_type": "markdown",
   "id": "614b8746-ba7b-4d96-a3ec-a48567ba8e79",
   "metadata": {},
   "source": [
    "Congratulations on the successful completion of this workshop! You put in a lot of effort and covered a lot of ground. We sincerely hope that you'll be able to take what you've learned today and apply it in many ways to the benefit of your own work."
   ]
  },
  {
   "cell_type": "markdown",
   "id": "ba3f032e-f980-4c87-8759-324fd7ff4869",
   "metadata": {},
   "source": [
    "---"
   ]
  },
  {
   "cell_type": "markdown",
   "id": "992b57f6-6b88-47c6-b300-74c4d0f03bf1",
   "metadata": {},
   "source": [
    "## Summary of Your Efforts Today"
   ]
  },
  {
   "cell_type": "markdown",
   "id": "b63871ac-18ff-4d5b-9e47-d2b2df431e71",
   "metadata": {},
   "source": [
    "You may have started the workshop today having never worked programmatically with LLMs. Throughout the day you progressed through many topics supporting your ability to work programmatically with them, which we will summarize briefly here:\n",
    "\n",
    "- You learned how to send basic prompts and receive generated responses from Chat LLMs, using both the OpenAI API and LangChain, which utilizes the OpenAI API under the hood.\n",
    "- You learned how not only to get responses back from LLMs using LangChain, but also how to stream responses, and perform batch processing.\n",
    "- In many scenarios, you learned the importance of and got hands-on experience with the process of iterative prompt engineering, repeatedly testing and improving prompts to drive LLM responses in the desired direction.\n",
    "- You learned how to abstract out and reuse components of a prompt using a variety of different kinds of prompt templates.\n",
    "- You learned about LangChain Expression Language, and using it to compose modular, reuseable, composable chains of functionality in an elegant way.\n",
    "- You learned how to create and add custom functionality to LCEL chains through the creation of custom runnables.\n",
    "- You learned how to compose chains and even how to link about and compose chains capable of performing work in parallel.\n",
    "- You took a deep dive into the specific message types utilized when working with Chat LLMs.\n",
    "- You leveraged your understanding of Chat message types with techniques such as few-shot prompting, chain-of-thought prompting, and controlling the system message.\n",
    "- You got hands-on experience observing how various message types impact the behavior of LLMs, and extended your iterative prompt development skillset to include thinking about the impact of various message types.\n",
    "- You learned how to store human and AI messages in order to capture conversation history and create chatbot functionality with your LLMs.\n",
    "- You learned how to define the desired structure of LLM output and get the LLM to generate responses adhering to specific structures.\n",
    "- You learned how to utilize collections of structured data to perform a wide variety of analysis and tagging on text, including long-form documents.\n",
    "- You learned how to augment LLM-based applications and go beyond the inherent limitations of LLMs by creating and providing LLMs with custom tools.\n",
    "- You learned how to create agents, capable of reasoning about when tool use is appropriate, and integrating the results of tool use into their response.\n",
    "\n",
    "That's a lot, and again, congratulations! We wouldn't expect anyone to feel fluent in all the topics we covered today after going through the materials just once, so we want to invite and encourage you to return to these materials at your leisure to spend more time with them, especially those topics most relevant to your ideas about what you'd like to build."
   ]
  },
  {
   "cell_type": "markdown",
   "id": "a6f62902-8fa8-40f7-82d3-3c08a428fd4c",
   "metadata": {},
   "source": [
    "---"
   ]
  },
  {
   "cell_type": "markdown",
   "id": "5eaf3049-7a13-41dd-95c2-b748a93d2f27",
   "metadata": {},
   "source": [
    "## Your Valuable Feedback"
   ]
  },
  {
   "cell_type": "markdown",
   "id": "16512b08-b3fa-47a5-ab6b-cf2834283099",
   "metadata": {},
   "source": [
    "As a final request, please complete [our workshop survey](https://learn.nvidia.com/courses/course?course_id=course-v1:DLI+C-FX-11+V1&unit=block-v1:DLI+C-FX-11+V1+type@vertical+block@12aa747ec5e241fabf77d4a893ab315b), which should take you no more than a minute or two to complete. Your feedback **greatly** supports our ability to create training content that is high value to developers like you."
   ]
  },
  {
   "cell_type": "markdown",
   "id": "0069f52b-830d-4f21-92ea-0c4c627fbc65",
   "metadata": {},
   "source": [
    "---"
   ]
  },
  {
   "cell_type": "markdown",
   "id": "32b8c8ef-ff2d-443f-bc8c-81e41a6b312f",
   "metadata": {},
   "source": [
    "## Next Steps"
   ]
  },
  {
   "cell_type": "markdown",
   "id": "306143dd-319c-4d94-8e36-3a96f34e6c34",
   "metadata": {},
   "source": [
    "Today's workshop is only one of many DLI offerings on the subject of generative AI and LLMs. We encourage you to check out [the DLI learning path for Generative AI and Large Language Models](https://nvdam.widen.net/s/brxsxxtskb/dli-learning-journey-2009000-r5-web) and continue to grow your capabilities with us.\n",
    "\n",
    "Additionally, we'd like to remind you that we used an NVIDIA LLM NIM to serve our Llama-3.1-8b-instruct model today. NIM microservices are incredibly powerful and convenient, and we highly encourage you to explore [the NIM catalog](https://build.nvidia.com/explore/discover) not only for additional models you can utilize in the context of what you've learned today, but also for a variety of other GPU-accelerated computing needs for a vast number of applications.\n",
    "\n",
    "Congratulations again, and all the best."
   ]
  }
 ],
 "metadata": {
  "kernelspec": {
   "display_name": "Python 3 (ipykernel)",
   "language": "python",
   "name": "python3"
  },
  "language_info": {
   "codemirror_mode": {
    "name": "ipython",
    "version": 3
   },
   "file_extension": ".py",
   "mimetype": "text/x-python",
   "name": "python",
   "nbconvert_exporter": "python",
   "pygments_lexer": "ipython3",
   "version": "3.12.1"
  }
 },
 "nbformat": 4,
 "nbformat_minor": 5
}
