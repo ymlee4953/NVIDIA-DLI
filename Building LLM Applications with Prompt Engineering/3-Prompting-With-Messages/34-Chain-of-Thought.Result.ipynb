{
 "cells": [
  {
   "cell_type": "markdown",
   "id": "7e977866-17c1-4158-aa61-e2cf61211db6",
   "metadata": {},
   "source": [
    "![NVIDIA](images/nvidia.png)"
   ]
  },
  {
   "cell_type": "markdown",
   "id": "108dd8bb-c86c-40fd-a164-991673b2cc21",
   "metadata": {},
   "source": [
    "# Chain-of-Thought Prompting"
   ]
  },
  {
   "cell_type": "markdown",
   "id": "28013522",
   "metadata": {},
   "source": [
    "In this notebook, you will learn about one of the most famous prompting techniques called Chain-of-Thought prompting."
   ]
  },
  {
   "cell_type": "markdown",
   "id": "69366671-11a4-4439-b6ad-cb89497ef5d4",
   "metadata": {},
   "source": [
    "---"
   ]
  },
  {
   "cell_type": "markdown",
   "id": "c08054f2",
   "metadata": {},
   "source": [
    "## Objectives"
   ]
  },
  {
   "cell_type": "markdown",
   "id": "a023bc7a-47b5-4508-957c-f3354c9fb363",
   "metadata": {},
   "source": [
    "By the time you complete this notebook you will:\n",
    "\n",
    "- Learn Chain-of-Thought prompting\n",
    "- Encounter and appreciate LLM hallucination"
   ]
  },
  {
   "cell_type": "markdown",
   "id": "f4e9ea06-814f-43fd-9f59-ce67dfcb1bbb",
   "metadata": {},
   "source": [
    "---"
   ]
  },
  {
   "cell_type": "markdown",
   "id": "327550d4",
   "metadata": {},
   "source": [
    "## Imports"
   ]
  },
  {
   "cell_type": "code",
   "execution_count": null,
   "id": "75febe51",
   "metadata": {},
   "outputs": [],
   "source": [
    "from langchain_nvidia_ai_endpoints import ChatNVIDIA\n",
    "from langchain_core.prompts import ChatPromptTemplate\n",
    "from langchain_core.output_parsers import StrOutputParser"
   ]
  },
  {
   "cell_type": "markdown",
   "id": "9bc7aca5-1c4a-4cb0-bd28-d8a7636cc96d",
   "metadata": {},
   "source": [
    "---"
   ]
  },
  {
   "cell_type": "markdown",
   "id": "5c0e1244",
   "metadata": {},
   "source": [
    "## Create a Model Instance"
   ]
  },
  {
   "cell_type": "code",
   "execution_count": null,
   "id": "c2c05c82",
   "metadata": {},
   "outputs": [],
   "source": [
    "base_url = 'http://llama:8000/v1'\n",
    "model = 'meta/llama-3.1-8b-instruct'\n",
    "llm = ChatNVIDIA(base_url=base_url, model=model, temperature=0)"
   ]
  },
  {
   "cell_type": "markdown",
   "id": "64d304e5-6bbe-4beb-ba92-fa208fb4c2f4",
   "metadata": {},
   "source": [
    "---"
   ]
  },
  {
   "cell_type": "markdown",
   "id": "157aa370-6733-40d4-8da9-32b80e436d0e",
   "metadata": {},
   "source": [
    "## LLMs Jump to Conclusions"
   ]
  },
  {
   "cell_type": "markdown",
   "id": "ffaf7f22-b362-4dc3-9000-b538c0103f65",
   "metadata": {},
   "source": [
    "Since LLMs are primarily designed to generate what is most likely to come next in a stream of text, it's no surprise that they can often \"jump to conclusions\" in scenarios that actually require complex reasoning.\n",
    "\n",
    "Consider the following example, which challenges the LLM do do some multiplication. Before invoking the LLM, we'll use Python to provide us with the actual answer."
   ]
  },
  {
   "cell_type": "code",
   "execution_count": null,
   "id": "3ea9a1af-5446-4143-8a41-dbf028a6d26b",
   "metadata": {},
   "outputs": [],
   "source": [
    "345*888"
   ]
  },
  {
   "cell_type": "code",
   "execution_count": null,
   "id": "4f47c36d-c80a-4ef4-bce0-8793db3e3ba5",
   "metadata": {},
   "outputs": [],
   "source": [
    "print(llm.invoke('What is 345 * 888?').content)"
   ]
  },
  {
   "cell_type": "markdown",
   "id": "11fe72de-ef60-4d78-82c1-493bb2212f10",
   "metadata": {},
   "source": [
    "This answer is incorrect, but given what we know about LLMs, again, that they are designed primarily to generate the most likely response given the data they were trained on, it may not come as a surprise.\n",
    "\n",
    "Significant changes are likely to occur in coming years, but as it stands, and in spite of the common use of terms like \"Artificial **Intelligence**\", LLMs are not well suited, at least not without additional user support, to deliberate step by step reasoning. Rather, LLMs are, because of their design, well suited to jumping to conclusions."
   ]
  },
  {
   "cell_type": "markdown",
   "id": "0d14ba4c-869d-40cf-b9ba-9d53b73d5d26",
   "metadata": {},
   "source": [
    "---"
   ]
  },
  {
   "cell_type": "markdown",
   "id": "03299ab8-dcfd-41a1-a38f-43567c7b8119",
   "metadata": {},
   "source": [
    "## Hallucination"
   ]
  },
  {
   "cell_type": "markdown",
   "id": "86f701d7-cc99-413c-96ec-1d5285499103",
   "metadata": {},
   "source": [
    "This phenomenon of LLMs generating incorrect information, often with what appears like \"confidence\" to outside observers, is called **hallucination**. Because of their design, an LLM will usually say something incorrect (unbeknownst to the LLM itself) rather than say nothing at all. While it's true that LLMs over time are hallucinating less, and that over time they will continue to improve in this regard, hallucination is an inherent characteristic of LLM generation.\n",
    "\n",
    "Regarding LLM hallucination, you need to commit the following golden rules to memory:\n",
    "1. All LLMs hallucinate.\n",
    "2. You are responsible for what your LLMs generate in your applications."
   ]
  },
  {
   "cell_type": "markdown",
   "id": "eb29b129-107a-4ae2-9a82-5e9739b8738d",
   "metadata": {},
   "source": [
    "---"
   ]
  },
  {
   "cell_type": "markdown",
   "id": "217869aa-1fa1-4bda-9759-174b25352e1d",
   "metadata": {},
   "source": [
    "## Chain-of-Thought Prompting"
   ]
  },
  {
   "cell_type": "markdown",
   "id": "7ffc5b9b-8978-41e4-9376-c69a103629e1",
   "metadata": {},
   "source": [
    "Returning to the main subject matter of this notebook, while LLMs are not well-suited to long-form deliberate reasoning, there are techniques we can utilize to guide LLMs towards taking a more deliberate step by step approach when the task demands it. One such technique is call Chain-of-Thought\n",
    "\n",
    "Introduced in 2023, [Chain-of-Thought(CoT) prompting](https://arxiv.org/pdf/2201.11903) is still one of the most popular prompting techniques. It supports complex reasoning capabilities by encouraging LLMs to break down complex problems into intermediate steps. CoT prompting involves providing examples that demonstrate step-by-step reasoning to solve a problem.\n",
    "\n",
    "Here is the example from the paper that introduced CoT prompting."
   ]
  },
  {
   "cell_type": "markdown",
   "id": "f5645ee2-3f2b-47bd-a0bd-ea1f46d292d7",
   "metadata": {},
   "source": [
    "![Chain-of-Thought](images/Chain.png)"
   ]
  },
  {
   "cell_type": "markdown",
   "id": "f6611e57-cb81-40a3-baef-cd2d0607f216",
   "metadata": {},
   "source": [
    "As you can see in the right-hand-side example, by modeling for the LLM that it ought to break the complex task into smaller subtasks that it is more likely to be able to perform, the model is given \"time to think\" and can do better at tasks requiring complex reasoning."
   ]
  },
  {
   "cell_type": "markdown",
   "id": "4a00ab86-479d-483e-9e27-e9798987fa5d",
   "metadata": {},
   "source": [
    "---"
   ]
  },
  {
   "cell_type": "markdown",
   "id": "60bae099-8ed1-48a9-a664-de723efba2c4",
   "metadata": {},
   "source": [
    "## Chain-of-Though Multiplication"
   ]
  },
  {
   "cell_type": "markdown",
   "id": "f8d3a199-7888-4d21-a254-9d2a65235e31",
   "metadata": {},
   "source": [
    "Let's try a CoT prompt for 3-digit long multiplication. We will start with an example multiplication prompt."
   ]
  },
  {
   "cell_type": "code",
   "execution_count": null,
   "id": "472bc73c-2da9-401a-8fd9-d7528116ddb1",
   "metadata": {},
   "outputs": [],
   "source": [
    "example_problem = 'What is 678 * 789?'"
   ]
  },
  {
   "cell_type": "markdown",
   "id": "4be9625c-7fbe-4388-893e-a0feb875f2fe",
   "metadata": {},
   "source": [
    "Next, we'll supply a chain-of-thought example of working through the problem step by step."
   ]
  },
  {
   "cell_type": "code",
   "execution_count": null,
   "id": "426fec2c-e370-4bb3-9a42-90cd55c6a5bd",
   "metadata": {},
   "outputs": [],
   "source": [
    "example_cot = '''\\\n",
    "Let me break this down into steps. First I'll break down 789 into hundreds, tens, and ones:\n",
    "\n",
    "789 -> 700 + 80 + 9\n",
    "\n",
    "Next I'll multiply 678 by each of these values, storing the intermediate results:\n",
    "\n",
    "678 * 700 -> 678 * 7 * 100 -> 4746 * 100 -> 474600\n",
    "\n",
    "My first intermediate result is 474600.\n",
    "\n",
    "678 * 80 -> 678 * 8 * 10 -> 5424 * 10 -> 54240\n",
    "\n",
    "My second intermediate result is 54240.\n",
    "\n",
    "678 * 9 -> 6102\n",
    "\n",
    "My third intermediate result is 6102.\n",
    "\n",
    "My three intermediate results are 474600, 54240, and 6102.\n",
    "\n",
    "Adding the first two intermediate results I get 474600 + 54240 -> 528840.\n",
    "\n",
    "Adding 528840 to the last intermediate result I get 528840 + 6102 -> 534942\n",
    "\n",
    "The final result is 534942.\n",
    "'''"
   ]
  },
  {
   "cell_type": "markdown",
   "id": "fa4f785f-4a3d-4469-b403-5bafd9bde9b4",
   "metadata": {},
   "source": [
    "With our example problem and example CoT response, we can construct a one-shot prompt template."
   ]
  },
  {
   "cell_type": "code",
   "execution_count": null,
   "id": "467d958d-0f2c-4b41-91e0-deced25c1881",
   "metadata": {},
   "outputs": [],
   "source": [
    "multiplication_template = ChatPromptTemplate.from_messages([\n",
    "    ('human', example_problem),\n",
    "    ('ai', example_cot),\n",
    "    ('human', '{long_multiplication_prompt}')\n",
    "])"
   ]
  },
  {
   "cell_type": "markdown",
   "id": "737776de-d410-4585-8c59-04f52739bc3d",
   "metadata": {},
   "source": [
    "We'll now use this template in a simple chain."
   ]
  },
  {
   "cell_type": "code",
   "execution_count": null,
   "id": "e9ed1e74-8416-4e1a-bbf7-54e9d82a82a1",
   "metadata": {},
   "outputs": [],
   "source": [
    "multiplication_chain = multiplication_template | llm | StrOutputParser()"
   ]
  },
  {
   "cell_type": "markdown",
   "id": "fcb1c87d-7193-431e-839a-27a3ebbebefd",
   "metadata": {},
   "source": [
    "Let's revisit the original multiplication problem we tasked the LLM with to see if it does any better."
   ]
  },
  {
   "cell_type": "code",
   "execution_count": null,
   "id": "003a393a-dc62-495d-ac8a-6dcbe69e950e",
   "metadata": {},
   "outputs": [],
   "source": [
    "print(multiplication_chain.invoke('What is 345 * 888?'))"
   ]
  },
  {
   "cell_type": "code",
   "execution_count": null,
   "id": "b7fee992-0e5a-42e4-a42d-963159909a8c",
   "metadata": {},
   "outputs": [],
   "source": [
    "345*888"
   ]
  },
  {
   "cell_type": "markdown",
   "id": "74b0ea29-d05c-4b1b-930f-5e3305ae4da4",
   "metadata": {},
   "source": [
    "As you can see, the LLM followed the example in our CoT prompt, taking the problem step by step, and in this case, generated the correct response."
   ]
  },
  {
   "cell_type": "markdown",
   "id": "455322ba-3959-44cf-adc9-6ceff5d51a5a",
   "metadata": {},
   "source": [
    "---"
   ]
  },
  {
   "cell_type": "markdown",
   "id": "0fb097c4-6ad5-41b1-85e2-5e918809baf6",
   "metadata": {},
   "source": [
    "## Zero-shot Chain-of-Thought Prompting"
   ]
  },
  {
   "cell_type": "markdown",
   "id": "7ca8aeec-573c-4993-9f96-8234718a3079",
   "metadata": {},
   "source": [
    "CoT prompting can get really verbose, and as we mentioned earlier, you shouldn't be shy about writing long prompts when needed to accomplish your goals.\n",
    "\n",
    "That said, there are more elegant ways to leverage CoT methods with LLMs. One such variant is called [Zero-shot CoT](https://arxiv.org/abs/2205.11916). This prompting technique simply adds \"Let's think step by step\" to the prompt without supplying verbose CoT examples, and it has been shown to work quite well.\n",
    "\n",
    "Let's construct a new prompt template to try Zero-shot CoT on long multiplication, following the example in the paper, simply supplying the language \"Let's think step by step\"."
   ]
  },
  {
   "cell_type": "code",
   "execution_count": null,
   "id": "ecba85dd-915d-4927-a390-bcf0ead2f1a4",
   "metadata": {},
   "outputs": [],
   "source": [
    "zero_shot_cot_prompt = ChatPromptTemplate([\n",
    "    (\"human\", \"{long_multiplication_prompt} Let's think step by step.\")\n",
    "])"
   ]
  },
  {
   "cell_type": "code",
   "execution_count": null,
   "id": "f35755ac-0cb4-455c-aec5-29ab3da6e3c1",
   "metadata": {},
   "outputs": [],
   "source": [
    "zero_shot_multiplication_chain = zero_shot_cot_prompt | llm | StrOutputParser()"
   ]
  },
  {
   "cell_type": "code",
   "execution_count": null,
   "id": "b9f17f75-be32-48be-bdc8-10152b23b1b1",
   "metadata": {},
   "outputs": [],
   "source": [
    "print(zero_shot_multiplication_chain.invoke('What is 345 * 888?'))"
   ]
  },
  {
   "cell_type": "code",
   "execution_count": null,
   "id": "cfdcbe29-99cc-4b04-87c2-f275c1fd5e59",
   "metadata": {},
   "outputs": [],
   "source": [
    "345*888"
   ]
  },
  {
   "cell_type": "markdown",
   "id": "59eb2949-6987-4bf1-957a-cb90b0fb91eb",
   "metadata": {},
   "source": [
    "For our 3-digit long multiplication problem, simply prompting the model to think step by step performed as well as our more verbose CoT prompt."
   ]
  },
  {
   "cell_type": "markdown",
   "id": "4fd1ee67-d62c-47c4-a821-1e2b350b04d2",
   "metadata": {},
   "source": [
    "---"
   ]
  },
  {
   "cell_type": "markdown",
   "id": "62c43a3f-f34a-45ef-ab67-3ce3065046d6",
   "metadata": {},
   "source": [
    "## CoT Prompting In Practice"
   ]
  },
  {
   "cell_type": "markdown",
   "id": "b65dd3ae-8e81-4653-8f35-a961746c47a9",
   "metadata": {},
   "source": [
    "As with many other aspects of prompt engineering, especially given the variety of LLMs available (both now and in the future) it's difficult to give hard and fast rules about when and how exactly to employ CoT prompting. That said, we can offer you some good general guidelines to follow.\n",
    "\n",
    "- Develop your prompts iteratively. Start simple, try zero-shot CoT when you think it might be helpful, and expand to use more verbose example-based CoT prompting when the need arises.\n",
    "- Consider the use of external, non-LLM tools for tasks that LLMs may not be well-suited for (like math). We are going to look at tool use later in the workshop but the general idea is that LLMs are incredible, but not necessarily for every single task. Reflect if you will on the case of long multiplication about how fast, reliable, and effective simple Python is. Don't fall into the old adage _\"If all you have is a hammer, everything looks like a nail.\"_ LLMs are only one of your many tools to use while building LLM-based applications."
   ]
  },
  {
   "cell_type": "markdown",
   "id": "f62774b4-7615-4396-95ad-540b21e43ada",
   "metadata": {},
   "source": [
    "---"
   ]
  },
  {
   "cell_type": "markdown",
   "id": "10350d3b-1346-42cd-a4c0-e3965904f209",
   "metadata": {},
   "source": [
    "## Exercise: Use an LLM to Solve a Word Problem"
   ]
  },
  {
   "cell_type": "markdown",
   "id": "d039a2df-2b88-4310-82dc-ffedfcb35534",
   "metadata": {},
   "source": [
    "For this exercise, use what you've learned in this notebook to a correct response back from our LLM to the following word problem."
   ]
  },
  {
   "cell_type": "code",
   "execution_count": null,
   "id": "dba23cbc-c5ca-49dd-8c00-9419b7638e0a",
   "metadata": {},
   "outputs": [],
   "source": [
    "word_problem = \"\"\"Michael's car travels at 40 miles per hour. He is driving from 1 PM to 4 PM and then \\\n",
    "travels back at a rate of 25 miles per hour due to heavy traffic. How long in \\\n",
    "terms of minutes did it take him to get back?\"\"\""
   ]
  },
  {
   "cell_type": "markdown",
   "id": "78066f89-c399-4dfb-b636-666fd17e8d86",
   "metadata": {},
   "source": [
    "Before beginning your work, here is the actual solution to the word problem.\n",
    "\n",
    "Michael drove 40 miles per hour for 3 hours, which means he drove 120 miles.\n",
    "\n",
    "To come back at a rate of 25 miles per hour, it would have taken him 4.8 hours (120 miles / 25 mph) which is equivalent to **288** minutes (4.8 hours * 60 minutes/hour).\n",
    "\n",
    "The correct answer is **288**.\n",
    "\n",
    "Feel free to check out the *Solution* below if you get stuck."
   ]
  },
  {
   "cell_type": "markdown",
   "id": "e0fa8c75-dfa2-4fd8-9e62-578580ec6c3b",
   "metadata": {},
   "source": [
    "### Your Work Here"
   ]
  },
  {
   "cell_type": "code",
   "execution_count": null,
   "id": "80ec0a86-2df4-41a3-9cf0-721ba822fdd3",
   "metadata": {},
   "outputs": [],
   "source": []
  },
  {
   "cell_type": "markdown",
   "id": "56f0bed7-7db9-424a-b2d4-3e61beb2b5a5",
   "metadata": {
    "jp-MarkdownHeadingCollapsed": true
   },
   "source": [
    "### Solution"
   ]
  },
  {
   "cell_type": "markdown",
   "id": "8cc8b767-2388-4680-a888-0cbea3b3c023",
   "metadata": {},
   "source": [
    "There are lots of ways to solve this, but we opted to include a system message encouring the LLM to always breaking their work into smaller tasks and showing their work, and then, appending the cannonical zero-shot CoT prompt to whatever the human user passes in."
   ]
  },
  {
   "cell_type": "code",
   "execution_count": null,
   "id": "ff0b88dd-52b2-43d2-9432-f5277bd428c3",
   "metadata": {},
   "outputs": [],
   "source": [
    "template = ChatPromptTemplate.from_messages([\n",
    "    ('system', 'You are an expert word problem solver. You always break your problem down into smaller tasks and show your work.'),\n",
    "    ('human', '{prompt}\\n\\nLet\\'s think step by step.')\n",
    "])"
   ]
  },
  {
   "cell_type": "code",
   "execution_count": null,
   "id": "5ba2a883-e203-4aea-8298-1bc1fc70bdd7",
   "metadata": {},
   "outputs": [],
   "source": [
    "chain = template | llm | StrOutputParser()"
   ]
  },
  {
   "cell_type": "code",
   "execution_count": null,
   "id": "e37b688b-8671-454e-b810-0434b8a1b891",
   "metadata": {},
   "outputs": [],
   "source": [
    "print(chain.invoke(word_problem))"
   ]
  },
  {
   "cell_type": "markdown",
   "id": "6cb02e7b-d6fd-410c-9599-57b09e23af85",
   "metadata": {},
   "source": [
    "---"
   ]
  },
  {
   "cell_type": "markdown",
   "id": "0e0180ae-c224-41ca-8111-e2e0091e123a",
   "metadata": {},
   "source": [
    "## Summary"
   ]
  },
  {
   "cell_type": "markdown",
   "id": "a5cb5233-a5f4-491c-9db9-ca7d5a31bb95",
   "metadata": {},
   "source": [
    "In this notebook you experienced LLM hallucination, reflected on LLMs natural inclination to jump to conclusions, and learned several Chain-of-Thought prompting techniques to assist LLMs in performing tasks requiring step by step reasoning.\n",
    "\n",
    "In the next notebook, you are going to learn how to make a chatbot using the prompt engineering techniques you now have at your disposal."
   ]
  }
 ],
 "metadata": {
  "kernelspec": {
   "display_name": "Python 3 (ipykernel)",
   "language": "python",
   "name": "python3"
  },
  "language_info": {
   "codemirror_mode": {
    "name": "ipython",
    "version": 3
   },
   "file_extension": ".py",
   "mimetype": "text/x-python",
   "name": "python",
   "nbconvert_exporter": "python",
   "pygments_lexer": "ipython3",
   "version": "3.12.1"
  }
 },
 "nbformat": 4,
 "nbformat_minor": 5
}
