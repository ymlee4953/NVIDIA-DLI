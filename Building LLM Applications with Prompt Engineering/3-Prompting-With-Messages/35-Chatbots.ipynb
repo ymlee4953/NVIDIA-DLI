{
 "cells": [
  {
   "cell_type": "markdown",
   "id": "7e977866-17c1-4158-aa61-e2cf61211db6",
   "metadata": {},
   "source": [
    "![NVIDIA](images/nvidia.png)"
   ]
  },
  {
   "cell_type": "markdown",
   "id": "108dd8bb-c86c-40fd-a164-991673b2cc21",
   "metadata": {},
   "source": [
    "# Chatbots"
   ]
  },
  {
   "cell_type": "markdown",
   "id": "28013522",
   "metadata": {},
   "source": [
    "In this notebook, you will learn how to store conversation history and thereby enable chatbot functionality in your LLM-based chains."
   ]
  },
  {
   "cell_type": "markdown",
   "id": "69366671-11a4-4439-b6ad-cb89497ef5d4",
   "metadata": {},
   "source": [
    "---"
   ]
  },
  {
   "cell_type": "markdown",
   "id": "c08054f2",
   "metadata": {},
   "source": [
    "## Objectives"
   ]
  },
  {
   "cell_type": "markdown",
   "id": "a023bc7a-47b5-4508-957c-f3354c9fb363",
   "metadata": {},
   "source": [
    "By the time you complete this notebook you will:\n",
    "\n",
    "- Understand the core principles and techniques required to create chatbot applications capable of retaining conversation history.\n",
    "- Create easy-to-use chatbots, capable of assuming a variety of different personas.\n",
    "- Interact with a simple chatbot application interface, well-suited for chatbot application prototyping."
   ]
  },
  {
   "cell_type": "markdown",
   "id": "f4e9ea06-814f-43fd-9f59-ce67dfcb1bbb",
   "metadata": {},
   "source": [
    "---"
   ]
  },
  {
   "cell_type": "markdown",
   "id": "327550d4",
   "metadata": {},
   "source": [
    "## Imports"
   ]
  },
  {
   "cell_type": "code",
   "execution_count": null,
   "id": "75febe51",
   "metadata": {},
   "outputs": [],
   "source": [
    "from langchain_nvidia_ai_endpoints import ChatNVIDIA\n",
    "from langchain_core.prompts import ChatPromptTemplate\n",
    "from langchain_core.output_parsers import StrOutputParser"
   ]
  },
  {
   "cell_type": "markdown",
   "id": "9bc7aca5-1c4a-4cb0-bd28-d8a7636cc96d",
   "metadata": {},
   "source": [
    "---"
   ]
  },
  {
   "cell_type": "markdown",
   "id": "5c0e1244",
   "metadata": {},
   "source": [
    "## Create a Model Instance"
   ]
  },
  {
   "cell_type": "code",
   "execution_count": null,
   "id": "c2c05c82",
   "metadata": {},
   "outputs": [],
   "source": [
    "base_url = 'http://llama:8000/v1'\n",
    "model = 'meta/llama-3.1-8b-instruct'\n",
    "llm = ChatNVIDIA(base_url=base_url, model=model, temperature=0)"
   ]
  },
  {
   "cell_type": "markdown",
   "id": "b2a97370-d9b4-41d4-995e-47d2f80e2b73",
   "metadata": {},
   "source": [
    "---"
   ]
  },
  {
   "cell_type": "markdown",
   "id": "4f694b45-d57d-49bb-aedb-158a34d49997",
   "metadata": {},
   "source": [
    "## Placeholder Messages"
   ]
  },
  {
   "cell_type": "markdown",
   "id": "7b86f9a6-c6ed-4e36-98c3-3bf2333574e5",
   "metadata": {},
   "source": [
    "Before we begin work enabling conversation history and chatbot functionality, we need to introduce a new kind of message that we have not yet covered, **placeholder** messages.\n",
    "\n",
    "Put simply, and as the name suggest, a placeholder message is used in a prompt template to hold the place of a list of other messages."
   ]
  },
  {
   "cell_type": "code",
   "execution_count": null,
   "id": "ed769665-d4fd-4987-871a-103c7820cad8",
   "metadata": {},
   "outputs": [],
   "source": [
    "template_with_placeholder = ChatPromptTemplate.from_messages([\n",
    "    ('placeholder', '{messages}'),\n",
    "    ('human', '{prompt}')\n",
    "])"
   ]
  },
  {
   "cell_type": "code",
   "execution_count": null,
   "id": "b3c746c1-f1fa-41b7-86b0-0bad147c28b0",
   "metadata": {},
   "outputs": [],
   "source": [
    "messages = [\n",
    "    ('human', 'The sun came up today.'),\n",
    "    ('ai', 'That is wonderful!'),\n",
    "    ('human', 'The sun went down today.'),\n",
    "    ('ai', 'That is also wonderful!.')\n",
    "]"
   ]
  },
  {
   "cell_type": "code",
   "execution_count": null,
   "id": "261f7cf8-017d-4028-95b5-37e4da2d4887",
   "metadata": {},
   "outputs": [],
   "source": [
    "prompt = 'What happened today?'"
   ]
  },
  {
   "cell_type": "markdown",
   "id": "ed0b9906-606e-4df8-a4d5-f585ce5f972c",
   "metadata": {},
   "source": [
    "When invoking (or streaming or batching) prompt templates or chains that contain placeholder messages, we provide a value as the template indicates, only in the case of a placeholder message, we provide a list of other messages, rather than a string.\n",
    "\n",
    "Here we invoke `template_with_placeholder`, passing in the `messages` list to fulfil the template's `messages` parameter, and the `prompt` string to fulfil its `prompt` parameter."
   ]
  },
  {
   "cell_type": "code",
   "execution_count": null,
   "id": "597606a8-e779-4008-afce-acda2c5c70c0",
   "metadata": {},
   "outputs": [],
   "source": [
    "template_with_placeholder.invoke({'messages': messages, 'prompt': prompt})"
   ]
  },
  {
   "cell_type": "markdown",
   "id": "a4fca50f-1f15-483c-aa7a-7ced61bb42ac",
   "metadata": {},
   "source": [
    "As you can see, LangChain expanded the `placeholder` message, for which we provided a list, into a list of individual messages that we provided when invoking the prompt template."
   ]
  },
  {
   "cell_type": "markdown",
   "id": "47bf6210-c1b7-48a4-9836-2bfca0cdf4d3",
   "metadata": {},
   "source": [
    "It should come as no surprise that we can use this prompt template in chains just as we would any other."
   ]
  },
  {
   "cell_type": "code",
   "execution_count": null,
   "id": "beaab7c9-4b68-425f-9707-41a5f2fd016b",
   "metadata": {},
   "outputs": [],
   "source": [
    "chain = template_with_placeholder | llm | StrOutputParser()"
   ]
  },
  {
   "cell_type": "code",
   "execution_count": null,
   "id": "da24eef3-f18a-468a-a95f-822fc4c59c37",
   "metadata": {},
   "outputs": [],
   "source": [
    "chain.invoke({'messages': messages, 'prompt': prompt})"
   ]
  },
  {
   "cell_type": "markdown",
   "id": "34516e58-a46d-432f-8d9b-20bb78df575f",
   "metadata": {},
   "source": [
    "---"
   ]
  },
  {
   "cell_type": "markdown",
   "id": "1fa2541e-bd11-4bbe-892c-cd6b1b4b2059",
   "metadata": {},
   "source": [
    "## Rudimentary Conversation History"
   ]
  },
  {
   "cell_type": "markdown",
   "id": "84b7e30f-7e29-4d9b-be66-828a79fa4d31",
   "metadata": {},
   "source": [
    "We can easily construct a rudimentary conversation history mechanism using a message placeholder. First we'll create a prompt template utilizing a placeholder, and use it in a simple chain."
   ]
  },
  {
   "cell_type": "code",
   "execution_count": null,
   "id": "7983475b-98e6-476d-a41b-b6b17441aac8",
   "metadata": {},
   "outputs": [],
   "source": [
    "chat_conversation_template = ChatPromptTemplate.from_messages([\n",
    "    ('placeholder', '{chat_conversation}')\n",
    "])"
   ]
  },
  {
   "cell_type": "code",
   "execution_count": null,
   "id": "65fd62a9-3977-44b7-9e05-748c2a05030b",
   "metadata": {},
   "outputs": [],
   "source": [
    "chat_chain = chat_conversation_template | llm | StrOutputParser()"
   ]
  },
  {
   "cell_type": "markdown",
   "id": "103aa6de-cdbd-4644-a2fd-81eb5a5eee01",
   "metadata": {},
   "source": [
    "Next we'll create a list to store our conversation, which we will add to over time."
   ]
  },
  {
   "cell_type": "code",
   "execution_count": null,
   "id": "439c6420-813f-4a98-8c0e-4c1c76f42d16",
   "metadata": {},
   "outputs": [],
   "source": [
    "chat_conversation = []"
   ]
  },
  {
   "cell_type": "markdown",
   "id": "fc246a3e-aad6-4a72-a018-45998cfc79bd",
   "metadata": {},
   "source": [
    "We will begin by appending our first prompt, as a `user` message to the `chat_conversation` list."
   ]
  },
  {
   "cell_type": "code",
   "execution_count": null,
   "id": "c507c3c5-56b7-4660-a4b2-a05b51b45840",
   "metadata": {},
   "outputs": [],
   "source": [
    "chat_conversation.append(('user', 'Hello, my name is Michael.'))"
   ]
  },
  {
   "cell_type": "markdown",
   "id": "6dcf30b9-44fd-4353-85d3-78d8ddfcedbe",
   "metadata": {},
   "source": [
    "Just to test it out, we can now invoke our `chat_chain` with the current `chat_conversation` list."
   ]
  },
  {
   "cell_type": "code",
   "execution_count": null,
   "id": "2e7d18de-e74d-4641-bc44-24e43fee4107",
   "metadata": {},
   "outputs": [],
   "source": [
    "chat_chain.invoke({'chat_conversation': chat_conversation})"
   ]
  },
  {
   "cell_type": "markdown",
   "id": "8e69e1c6-4ff4-4100-8aa9-2837da5fc191",
   "metadata": {},
   "source": [
    "It looks like the LLM is able to respond just fine. Since we are wanting to keep track of the conversation history, however, let's invoke the chain again, but this time append the response to the `chat_conversation` list as an `ai` message."
   ]
  },
  {
   "cell_type": "code",
   "execution_count": null,
   "id": "bc2a5f46-30f3-4ad6-a1ba-11a44da0d497",
   "metadata": {},
   "outputs": [],
   "source": [
    "response = chat_chain.invoke({'chat_conversation': chat_conversation})\n",
    "chat_conversation.append(('ai', response))"
   ]
  },
  {
   "cell_type": "markdown",
   "id": "7caacfc9-88c0-4245-9162-eba794a6c3cd",
   "metadata": {},
   "source": [
    "Looking at `chat_conversation` we see it now contains a list of the messages thus far."
   ]
  },
  {
   "cell_type": "code",
   "execution_count": null,
   "id": "6a004539-22ad-451f-a117-04082703aeff",
   "metadata": {},
   "outputs": [],
   "source": [
    "chat_conversation"
   ]
  },
  {
   "cell_type": "markdown",
   "id": "7953de91-b8c6-413c-b26a-eb2c956af601",
   "metadata": {},
   "source": [
    "Let's repeat this same process with a new message, and let's pass in a prompt that relies on previous conversation history to answer correctly."
   ]
  },
  {
   "cell_type": "code",
   "execution_count": null,
   "id": "56199c2f-22ea-42cc-bb9f-4c103df645c8",
   "metadata": {},
   "outputs": [],
   "source": [
    "chat_conversation.append(('user', 'Do you remember what my name is?'))"
   ]
  },
  {
   "cell_type": "code",
   "execution_count": null,
   "id": "c9cc2d70-d0d1-4cd6-9236-ca6b2bed4735",
   "metadata": {},
   "outputs": [],
   "source": [
    "response = chat_chain.invoke({'chat_conversation': chat_conversation})\n",
    "chat_conversation.append(('ai', response))\n",
    "chat_conversation"
   ]
  },
  {
   "cell_type": "markdown",
   "id": "298ac6c2-da8e-45ef-87c8-a3f5d4001ec5",
   "metadata": {},
   "source": [
    "As you can see, by appending user prompt and AI responses to `chat_conversation` as `user` and `ai` messages respectively, and then invoking our placeholder-containing `chat_chain` with the entire up-to-date conversation, we now have the ability to converse with the LLM in a way where it retains details from earlier in the conversation.\n",
    "\n",
    "At its most basic level, all chatbot functionality that is capable of retaining conversation history utilizes this method of passing in the conversation prior to new user messages."
   ]
  },
  {
   "cell_type": "markdown",
   "id": "ef6ebe77-7f65-445b-bde2-2180233ced28",
   "metadata": {},
   "source": [
    "---"
   ]
  },
  {
   "cell_type": "markdown",
   "id": "3a24a85b-6bca-4a36-b7f9-5aa32938a239",
   "metadata": {},
   "source": [
    "## Chatbot Class"
   ]
  },
  {
   "cell_type": "markdown",
   "id": "1a25f0cf-ea6e-4e99-b9da-beb6782b4f0a",
   "metadata": {},
   "source": [
    "We can encapsulate the functionality we acheived above into a class that will make interacting with our conversation history-enabled LLM much simpler. Please read following `Chatbot` class definition, including its comments, carefully."
   ]
  },
  {
   "cell_type": "code",
   "execution_count": null,
   "id": "31f5c608-c8ba-4c93-92d2-c55d7f737289",
   "metadata": {},
   "outputs": [],
   "source": [
    "class Chatbot:\n",
    "    def __init__(self, llm):\n",
    "        # This is the same prompt template we used earlier, which a placeholder message for storing conversation history.\n",
    "        chat_conversation_template = ChatPromptTemplate.from_messages([\n",
    "            ('placeholder', '{chat_conversation}')\n",
    "        ])\n",
    "\n",
    "        # This is the same chain we created above, added to `self` for use by the `chat` method below.\n",
    "        self.chat_chain = chat_conversation_template | llm | StrOutputParser()\n",
    "\n",
    "        # Here we instantiate an empty list that will be added to over time.\n",
    "        self.chat_conversation = []\n",
    "\n",
    "    # `chat` expects a simple string prompt.\n",
    "    def chat(self, prompt):\n",
    "        # Append the prompt as a user message to chat conversation.\n",
    "        self.chat_conversation.append(('user', prompt))\n",
    "        \n",
    "        response = self.chat_chain.invoke({'chat_conversation': self.chat_conversation})\n",
    "        # Append the chain response as an `ai` message to chat conversation.\n",
    "        self.chat_conversation.append(('ai', response))\n",
    "        # Return the chain response to the user for viewing.\n",
    "        return response\n",
    "\n",
    "    # Clear conversation history.\n",
    "    def clear(self):\n",
    "        self.chat_conversation = []"
   ]
  },
  {
   "cell_type": "markdown",
   "id": "2c753de7-2db8-4ba0-9459-1afb650edbb9",
   "metadata": {},
   "source": [
    "Let's instantiate a chatbot instance."
   ]
  },
  {
   "cell_type": "code",
   "execution_count": null,
   "id": "1f440020-9798-4138-8293-362355a997ab",
   "metadata": {},
   "outputs": [],
   "source": [
    "chatbot = Chatbot(llm)"
   ]
  },
  {
   "cell_type": "markdown",
   "id": "3acefbb0-75c0-44f7-9199-215987e64166",
   "metadata": {},
   "source": [
    "We can now utilize its `chat` method."
   ]
  },
  {
   "cell_type": "code",
   "execution_count": null,
   "id": "28f252c7-0ed7-4160-8f25-2c6a00cf80b7",
   "metadata": {},
   "outputs": [],
   "source": [
    "print(chatbot.chat('Hi, my name is Michael.'))"
   ]
  },
  {
   "cell_type": "code",
   "execution_count": null,
   "id": "e2bf6b3f-7d5f-4941-96fc-76a6f527669c",
   "metadata": {},
   "outputs": [],
   "source": [
    "print(chatbot.chat('I just want to be reminded of my name please.'))"
   ]
  },
  {
   "cell_type": "code",
   "execution_count": null,
   "id": "a9067544-52a7-4b73-bcd4-d82d2f988fe7",
   "metadata": {},
   "outputs": [],
   "source": [
    "print(chatbot.chat(\"Tell me something interesting I probably don't know about pi.\"))"
   ]
  },
  {
   "cell_type": "code",
   "execution_count": null,
   "id": "19962202-26bf-4a22-9d56-f3a3ff83cf60",
   "metadata": {},
   "outputs": [],
   "source": [
    "print(chatbot.chat(\"That's really cool! Give me another.\")) # Note we are not being specific about what \"another\" refers to...the LLM needs to have previous messages to understand our intent."
   ]
  },
  {
   "cell_type": "markdown",
   "id": "a5d5cd17-fe8b-4258-a5bb-420f75dbd464",
   "metadata": {},
   "source": [
    "---"
   ]
  },
  {
   "cell_type": "markdown",
   "id": "18fc08b7-b2b2-414b-8b1b-2674fd19a9d5",
   "metadata": {},
   "source": [
    "## More Advanced Chatbots"
   ]
  },
  {
   "cell_type": "markdown",
   "id": "02521de6-3d9d-4924-90f2-8256e0a17769",
   "metadata": {},
   "source": [
    "The topic of managing conversation history, and therefore of creating chatbots is actually quite large and there are many more advanced techniques that are outside the scope of this workshop. We do, however, want to provide you with some additional references for further study, should you wish to pursue the topic further.\n",
    "\n",
    "- [Session-based conversation history, and history trimming](https://python.langchain.com/docs/how_to/chatbots_memory/): LangChain ships with tooling for wrapping chains in a way that provides history management, and specifically, managing multiple conversation sessions. This resource introduces the use of LangChain tooling for managing session-based conversation history, and also covers some techniques for managing the length of conversation history via message trimming and summarization, an important topic as chat conversations may grow large, or even too large to continue passing into an LLM.\n",
    "- [Conversational RAG](https://python.langchain.com/docs/tutorials/qa_chat_history/): Retrieval Augmented Generation, or RAG (see [this DLI self-paced course](https://learn.nvidia.com/courses/course-detail?course_id=course-v1:DLI+S-FX-15+V1) for more) is a technique whereby LLMs can be provided real-time context from external data sources in support generating thier response. This resource discusses RAG in the context of chatbots capable of retaining conversation history."
   ]
  },
  {
   "cell_type": "markdown",
   "id": "0cd2d05a-2c82-4760-8aed-87bc9b20c139",
   "metadata": {},
   "source": [
    "---"
   ]
  },
  {
   "cell_type": "markdown",
   "id": "6a4acec2-610d-4c73-9adb-35644d66d02c",
   "metadata": {},
   "source": [
    "## Exercise: Enable Role-based Chatbots"
   ]
  },
  {
   "cell_type": "markdown",
   "id": "1ec8290a-e83a-4f8f-a593-39f8c6cc708d",
   "metadata": {},
   "source": [
    "For this exercise you'll enable your chatbot instances to assume a specific role by leveraging a system message.\n",
    "\n",
    "Below is the class definition for `ChatbotWithRole` which currently is identical to the `Chatbot` class definition above except that we've defined a `system_message` argument (defaulting to an empty string) that be used when instantiating `ChatbotWithRole` instances.\n",
    "\n",
    "Edit the class definition as needed to that you can supply a system message that will create a specific role for your chatbot. Upon completion you should be able to use system messages like the following to create an overarching role for your chatbot to assume.\n",
    "\n",
    "Feel free to check out the *Solution* below if you get stuck."
   ]
  },
  {
   "cell_type": "code",
   "execution_count": null,
   "id": "b2c7da8f-4ae5-4b03-acf0-e0fa189fc8af",
   "metadata": {},
   "outputs": [],
   "source": [
    "brief_chatbot_system_message = \"You always answer as briefly and concisely as possible.\"\n",
    "\n",
    "curious_chatbot_system_message = \"\"\"\\\n",
    "You are incredibly curious, and often respond with reflections and followup questions that lean the conversation in the direction of playfully \\\n",
    "understanding more about the subject matters of the conversation.\"\"\"\n",
    "\n",
    "increased_vocabulary_system_message = \"\"\"\\\n",
    "You always respond using challenging and often under-utilized vocabulary words, even when your response could be made more simply.\"\"\""
   ]
  },
  {
   "cell_type": "markdown",
   "id": "8a3e17f9-87a2-47e3-8870-22ae908713dc",
   "metadata": {},
   "source": [
    "### Your Work Here"
   ]
  },
  {
   "cell_type": "markdown",
   "id": "8607e5fa-e4a3-4b4c-aca7-c733d162970f",
   "metadata": {},
   "source": [
    "Update the following class definition so that the passed-in `system_message` is effectively utilized by chatbot instances."
   ]
  },
  {
   "cell_type": "code",
   "execution_count": null,
   "id": "d5a20c14-9050-47ed-a965-f31d045d3281",
   "metadata": {},
   "outputs": [],
   "source": [
    "class ChatbotWithRole:\n",
    "    def __init__(self, llm, system_message=''):\n",
    "        # This is the same prompt template we used earlier, which a placeholder message for storing conversation history.\n",
    "        chat_conversation_template = ChatPromptTemplate.from_messages([\n",
    "            ('placeholder', '{chat_conversation}')\n",
    "        ])\n",
    "\n",
    "        # This is the same chain we created above, added to `self` for use by the `chat` method below.\n",
    "        self.chat_chain = chat_conversation_template | llm | StrOutputParser()\n",
    "\n",
    "        # Here we instantiate an empty list that will be added to over time.\n",
    "        self.chat_conversation = []\n",
    "\n",
    "    # `chat` expects a simple string prompt.\n",
    "    def chat(self, prompt):\n",
    "        # Append the prompt as a user message to chat conversation.\n",
    "        self.chat_conversation.append(('user', prompt))\n",
    "        \n",
    "        response = self.chat_chain.invoke({'chat_conversation': self.chat_conversation})\n",
    "        # Append the chain response as an `ai` message to chat conversation.\n",
    "        self.chat_conversation.append(('ai', response))\n",
    "        # Return the chain response to the user for viewing.\n",
    "        return response\n",
    "\n",
    "    # Clear conversation history.\n",
    "    def clear(self):\n",
    "        self.chat_conversation = []"
   ]
  },
  {
   "cell_type": "markdown",
   "id": "cd17f1d0-0beb-4504-ab29-dbbab4dc80e8",
   "metadata": {},
   "source": [
    "### Try Out a Chatbot With a Role"
   ]
  },
  {
   "cell_type": "markdown",
   "id": "74ee613b-5a2a-4deb-9090-fa329d681692",
   "metadata": {},
   "source": [
    "After successfully implementing `ChatbotWithRole`, try creating an instance of it with a system message of your choosing and interact with it."
   ]
  },
  {
   "cell_type": "code",
   "execution_count": null,
   "id": "d1773a85-5502-4282-b2f6-303b131073e2",
   "metadata": {},
   "outputs": [],
   "source": []
  },
  {
   "cell_type": "markdown",
   "id": "be727103-a6d3-4f7b-a02d-744832507d4c",
   "metadata": {
    "jp-MarkdownHeadingCollapsed": true
   },
   "source": [
    "### Solution"
   ]
  },
  {
   "cell_type": "markdown",
   "id": "e3b61c08-fc3a-4b96-9bce-99df71a22cd1",
   "metadata": {},
   "source": [
    "The solution is brief. Here we added an additional system message to the `chat_conversation_template` that uses the passed-in `system_message`."
   ]
  },
  {
   "cell_type": "code",
   "execution_count": null,
   "id": "ca74fdd6-00e8-4bc5-8b84-ccddcdae3fa7",
   "metadata": {},
   "outputs": [],
   "source": [
    "class ChatbotWithRole:\n",
    "    def __init__(self, llm, system_message=''):\n",
    "        # This is the same prompt template we used earlier, which a placeholder message for storing conversation history.\n",
    "        chat_conversation_template = ChatPromptTemplate.from_messages([\n",
    "            ('system', system_message),\n",
    "            ('placeholder', '{chat_conversation}')\n",
    "        ])\n",
    "\n",
    "        # This is the same chain we created above, added to `self` for use by the `chat` method below.\n",
    "        self.chat_chain = chat_conversation_template | llm | StrOutputParser()\n",
    "\n",
    "        # Here we instantiate an empty list that will be added to over time.\n",
    "        self.chat_conversation = []\n",
    "\n",
    "    # `chat` expects a simple string prompt.\n",
    "    def chat(self, prompt):\n",
    "        # Append the prompt as a user message to chat conversation.\n",
    "        self.chat_conversation.append(('user', prompt))\n",
    "        \n",
    "        response = self.chat_chain.invoke({'chat_conversation': self.chat_conversation})\n",
    "        # Append the chain response as an `ai` message to chat conversation.\n",
    "        self.chat_conversation.append(('ai', response))\n",
    "        # Return the chain response to the user for viewing.\n",
    "        return response\n",
    "\n",
    "    # Clear conversation history.\n",
    "    def clear(self):\n",
    "        self.chat_conversation = []"
   ]
  },
  {
   "cell_type": "markdown",
   "id": "3a5fe594-f3af-40a7-8375-54fd8b7d545a",
   "metadata": {},
   "source": [
    "Let's try it out with one of the system messages defined above."
   ]
  },
  {
   "cell_type": "code",
   "execution_count": null,
   "id": "d2a019fd-7b29-4e88-b02b-870c2dd52ddb",
   "metadata": {},
   "outputs": [],
   "source": [
    "brief_chatbot = ChatbotWithRole(llm, system_message=brief_chatbot_system_message)\n",
    "curious_chatbot = ChatbotWithRole(llm, system_message=curious_chatbot_system_message)\n",
    "increased_vocabulary_chatbot = ChatbotWithRole(llm, system_message=increased_vocabulary_system_message)"
   ]
  },
  {
   "cell_type": "code",
   "execution_count": null,
   "id": "9c93dacb-2730-45f1-9f7e-c859dd2fa808",
   "metadata": {},
   "outputs": [],
   "source": [
    "print(brief_chatbot.chat(\"What would you consider a good morning routine?\"))"
   ]
  },
  {
   "cell_type": "code",
   "execution_count": null,
   "id": "36ae27fb-6d0c-4a81-8a55-24cafacbc492",
   "metadata": {},
   "outputs": [],
   "source": [
    "print(curious_chatbot.chat(\"What would you consider a good morning routine?\"))"
   ]
  },
  {
   "cell_type": "code",
   "execution_count": null,
   "id": "58954c41-5cd8-43d1-bd81-7382972ec8c9",
   "metadata": {},
   "outputs": [],
   "source": [
    "print(increased_vocabulary_chatbot.chat(\"What would you consider a good morning routine?\"))"
   ]
  },
  {
   "cell_type": "markdown",
   "id": "2cdccb5a-c6a9-4280-9994-9f6e28dd25ac",
   "metadata": {},
   "source": [
    "---"
   ]
  },
  {
   "cell_type": "markdown",
   "id": "a60cf7d2-fab9-4f76-8fce-d479d043e35a",
   "metadata": {},
   "source": [
    "## Gradio"
   ]
  },
  {
   "cell_type": "markdown",
   "id": "1d8d91b2-dd99-4a35-ae29-149e25e7d9fc",
   "metadata": {},
   "source": [
    "_\"Gradio is the fastest way to demo your machine learning model with a friendly web interface so that anyone can use it, anywhere!\"_\n",
    "\n",
    "If you find yourself building chatbots, especially for prototypes or even personal use chatbots, you might consider [Gradio](https://www.gradio.app/), which makes it easy to setup a pleasant chat interface, including in Jupyter environments.\n",
    "\n",
    "Pass a `chatbot` instance (created with either the `Chatbot` class or `ChatbotWithRole` class) into the following `create_chatbot_interface` function and have a conversation. If you're interested, check out [chat_helpers/gradio_interface.py](chat_helpers/gradio_interface.py) for the source code."
   ]
  },
  {
   "cell_type": "code",
   "execution_count": null,
   "id": "ca1c1749-3d41-424f-ae70-f4661ad8964d",
   "metadata": {},
   "outputs": [],
   "source": [
    "from chat_helpers.gradio_interface import create_chatbot_interface"
   ]
  },
  {
   "cell_type": "code",
   "execution_count": null,
   "id": "a6af802b-ef30-4bd8-92e5-61e0b1019153",
   "metadata": {},
   "outputs": [],
   "source": [
    "app = create_chatbot_interface(curious_chatbot)\n",
    "app.launch(share=True)"
   ]
  },
  {
   "cell_type": "markdown",
   "id": "bd931125-607d-4346-9a6a-8359cb64e384",
   "metadata": {},
   "source": [
    "---"
   ]
  },
  {
   "cell_type": "markdown",
   "id": "0e0180ae-c224-41ca-8111-e2e0091e123a",
   "metadata": {},
   "source": [
    "## Summary"
   ]
  },
  {
   "cell_type": "markdown",
   "id": "a5cb5233-a5f4-491c-9db9-ca7d5a31bb95",
   "metadata": {},
   "source": [
    "In this notebook you learned how to leverage a new message type, a placeholder message, to create chatbots capable of retaining conversation history.\n",
    "\n",
    "This was the final notebook in this section focused primarily on the explicit use of chat message types to benefit your LLM-based application code, and you learned a variety of techniques in addition to managing conversation history, like few-shot prompting, utilizing the system message, and performing chain-of-though prompting.\n",
    "\n",
    "In this next section you will focus your attention on using a variety of prompt engineering techniques to enable your LLM-based applications to generated structured data, a powerful capability that unlocks the ability of your LLM-based applications to interact more immediately with downstream code, and opens incredible possibilities for using LLMs to tag and anaylyze large collections of textual data."
   ]
  }
 ],
 "metadata": {
  "kernelspec": {
   "display_name": "Python 3 (ipykernel)",
   "language": "python",
   "name": "python3"
  },
  "language_info": {
   "codemirror_mode": {
    "name": "ipython",
    "version": 3
   },
   "file_extension": ".py",
   "mimetype": "text/x-python",
   "name": "python",
   "nbconvert_exporter": "python",
   "pygments_lexer": "ipython3",
   "version": "3.12.1"
  }
 },
 "nbformat": 4,
 "nbformat_minor": 5
}
