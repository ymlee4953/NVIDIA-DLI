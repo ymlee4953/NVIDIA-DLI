{
 "cells": [
  {
   "cell_type": "markdown",
   "id": "5b6490ca-b3b7-4412-a546-7d6e805716cc",
   "metadata": {},
   "source": [
    "![NVIDIA](images/nvidia.png)"
   ]
  },
  {
   "cell_type": "markdown",
   "id": "cc3c475c-3407-4281-a2ca-1b22dfdb7098",
   "metadata": {},
   "source": [
    "# Few Shot Prompting"
   ]
  },
  {
   "cell_type": "markdown",
   "id": "28013522",
   "metadata": {},
   "source": [
    "In this notebook you'll learn how to provide chat models with instructive examples by way of a technique called few-shot prompting."
   ]
  },
  {
   "cell_type": "markdown",
   "id": "69366671-11a4-4439-b6ad-cb89497ef5d4",
   "metadata": {},
   "source": [
    "---"
   ]
  },
  {
   "cell_type": "markdown",
   "id": "c08054f2",
   "metadata": {},
   "source": [
    "## Objectives"
   ]
  },
  {
   "cell_type": "markdown",
   "id": "a023bc7a-47b5-4508-957c-f3354c9fb363",
   "metadata": {},
   "source": [
    "By the time you complete this notebook you will:\n",
    "\n",
    "- Understand how to perform few-shot prompting.\n",
    "- Observe the effect and limitations of the few-shot prompting technique.\n",
    "- Learn methods for efficiently creating and editing few-shot prompts."
   ]
  },
  {
   "cell_type": "markdown",
   "id": "f4e9ea06-814f-43fd-9f59-ce67dfcb1bbb",
   "metadata": {},
   "source": [
    "---"
   ]
  },
  {
   "cell_type": "markdown",
   "id": "327550d4",
   "metadata": {},
   "source": [
    "## Imports"
   ]
  },
  {
   "cell_type": "code",
   "execution_count": null,
   "id": "75febe51",
   "metadata": {},
   "outputs": [],
   "source": [
    "from langchain_nvidia_ai_endpoints import ChatNVIDIA\n",
    "from langchain_core.prompts import ChatPromptTemplate, FewShotChatMessagePromptTemplate\n",
    "from langchain_core.output_parsers import StrOutputParser"
   ]
  },
  {
   "cell_type": "markdown",
   "id": "9bc7aca5-1c4a-4cb0-bd28-d8a7636cc96d",
   "metadata": {},
   "source": [
    "---"
   ]
  },
  {
   "cell_type": "markdown",
   "id": "5c0e1244",
   "metadata": {},
   "source": [
    "## Create a Model Instance"
   ]
  },
  {
   "cell_type": "code",
   "execution_count": null,
   "id": "c2c05c82",
   "metadata": {},
   "outputs": [],
   "source": [
    "base_url = 'http://llama:8000/v1'\n",
    "model = 'meta/llama-3.1-8b-instruct'\n",
    "llm = ChatNVIDIA(base_url=base_url, model=model, temperature=0)"
   ]
  },
  {
   "cell_type": "markdown",
   "id": "64d304e5-6bbe-4beb-ba92-fa208fb4c2f4",
   "metadata": {},
   "source": [
    "---"
   ]
  },
  {
   "cell_type": "markdown",
   "id": "0fe458d2-e8d0-4c16-9136-b9bf2de2d64b",
   "metadata": {},
   "source": [
    "## Few Shot Prompting"
   ]
  },
  {
   "cell_type": "markdown",
   "id": "25156380-ff17-4804-ba65-1b2884ccbf55",
   "metadata": {},
   "source": [
    "We can provide example human / AI interactions as a part of our prompt to influence the behavior of the model's responses. Let's create a simple chain to begin playing around with this idea."
   ]
  },
  {
   "cell_type": "code",
   "execution_count": null,
   "id": "b604c4a3-5615-4fea-a61a-dbe7d20b7cb9",
   "metadata": {},
   "outputs": [],
   "source": [
    "prompt_template = ChatPromptTemplate.from_messages([\n",
    "    (\"human\", \"{prompt}\")\n",
    "])"
   ]
  },
  {
   "cell_type": "code",
   "execution_count": null,
   "id": "dfbc9643-3932-4b22-b138-bae16d635fa5",
   "metadata": {},
   "outputs": [],
   "source": [
    "parser = StrOutputParser()"
   ]
  },
  {
   "cell_type": "code",
   "execution_count": null,
   "id": "b3e0f02d-4e1f-4099-8d55-5bd0ce27d6b7",
   "metadata": {},
   "outputs": [],
   "source": [
    "chain = prompt_template | llm | parser"
   ]
  },
  {
   "cell_type": "markdown",
   "id": "711e6b44-1003-404a-b0b1-b20dd49f6fce",
   "metadata": {},
   "source": [
    "Let's say, for some reason, we want the model to repeat back to us whatever we say, but in all capital letters. We could do the following."
   ]
  },
  {
   "cell_type": "code",
   "execution_count": null,
   "id": "7b45e773-be80-4824-8b18-1a377efa2fcb",
   "metadata": {},
   "outputs": [],
   "source": [
    "chain.invoke({\"prompt\": \"Repeat back whatever I say to you, but in all capital letters: hello\"})"
   ]
  },
  {
   "cell_type": "markdown",
   "id": "69124f9d-cb9d-4973-bc55-8ffd32f5ac21",
   "metadata": {},
   "source": [
    "The explicit instruction in our prompt did a sufficient job getting the model to respond as we desired. Let's, however, try to get the model to behave in the same way via few-shot prompting. To do this, instead of relying on giving the model explicit instructions, we'll extend our prompt template to contain several human / AI example interactions."
   ]
  },
  {
   "cell_type": "code",
   "execution_count": null,
   "id": "d4175048-c6da-4904-9731-597ed779d7c5",
   "metadata": {},
   "outputs": [],
   "source": [
    "prompt_template = ChatPromptTemplate.from_messages([\n",
    "    (\"human\", \"hello\"),\n",
    "    (\"ai\", \"HELLO\"),\n",
    "    (\"human\", \"red\"),\n",
    "    (\"ai\", \"RED\"),\n",
    "    (\"human\", \"blue\"),\n",
    "    (\"ai\", \"BLUE\"),\n",
    "    (\"human\", \"{prompt}\")\n",
    "])"
   ]
  },
  {
   "cell_type": "code",
   "execution_count": null,
   "id": "9f80411a-5c8e-4854-aca2-f9806cccff54",
   "metadata": {},
   "outputs": [],
   "source": [
    "chain = prompt_template | llm | parser"
   ]
  },
  {
   "cell_type": "markdown",
   "id": "0c41a1b3-19fc-4827-816d-2571097c5985",
   "metadata": {},
   "source": [
    "Having constructed our few shot prompt, we'll send the model a new prompt, but this time we won't provide any explicit instructions about what the model ought to do."
   ]
  },
  {
   "cell_type": "code",
   "execution_count": null,
   "id": "09ef7c3c-8cce-4d66-b753-a89166276b0f",
   "metadata": {},
   "outputs": [],
   "source": [
    "chain.invoke({\"prompt\": \"hi\"})"
   ]
  },
  {
   "cell_type": "code",
   "execution_count": null,
   "id": "4c944f74-090d-431a-ad08-a3e98a098aa4",
   "metadata": {},
   "outputs": [],
   "source": [
    "chain.invoke({\"prompt\": \"orange\"})"
   ]
  },
  {
   "cell_type": "markdown",
   "id": "95c812b8-0580-461d-b650-2f978c3e1677",
   "metadata": {},
   "source": [
    "What's interesting here is that at no point in time have we given any explicit or specific instructions to the model about what it ought to do.\n",
    "\n",
    "So how much will these few-shot prompt examples actually influence the model? The short answer is we have to test and see.\n",
    "\n",
    "Here's an exmaple where we get the correct uppercasing, but not a mirrored response."
   ]
  },
  {
   "cell_type": "code",
   "execution_count": null,
   "id": "eb0bb65b-2c3e-4ce4-8603-e7aa693682f9",
   "metadata": {},
   "outputs": [],
   "source": [
    "chain.invoke({\"prompt\": \"nvidia\"})"
   ]
  },
  {
   "cell_type": "markdown",
   "id": "ac6864cb-68d3-4522-b6de-2a10db75d82c",
   "metadata": {},
   "source": [
    "And given that all of our shots were single word single response examples, we shouldn't be too surprised if prompts that are departures from our examples don't work as expected."
   ]
  },
  {
   "cell_type": "code",
   "execution_count": null,
   "id": "78069d0d-8d27-4807-815c-77daf88b5548",
   "metadata": {},
   "outputs": [],
   "source": [
    "chain.invoke({\"prompt\": \"How's it going today?\"})"
   ]
  },
  {
   "cell_type": "markdown",
   "id": "298b618a-0c2d-4c62-8c66-8d58e81a7cba",
   "metadata": {},
   "source": [
    "---"
   ]
  },
  {
   "cell_type": "markdown",
   "id": "9e916810-cfa6-4644-bffa-c0a4e7b3b7ba",
   "metadata": {},
   "source": [
    "## Aside: Few Shot Prompting Alone"
   ]
  },
  {
   "cell_type": "markdown",
   "id": "867fbab1-7497-47f8-9003-e03cd01d24af",
   "metadata": {},
   "source": [
    "We've introduced few-shot prompting here in isolation for the sake of learning the core concepts, but in practice, few-shot prompting is just one of several tools at your disposal when prompting LLMs, and typically you will be using them in tandem with other techniques like being specific in your main prompt (as we've already covered) and utilizing the system message, which we'll cover in the next notebook.\n",
    "\n",
    "That said, for now we're going to continue exploring the use of few-shot prompts largely in isolation of other techniques, primarily so you can focus on learning how to work with them fluently before being asked to use the technique in concert with others."
   ]
  },
  {
   "cell_type": "markdown",
   "id": "4c12adec-ef7a-43fa-95d0-b4f151afe591",
   "metadata": {},
   "source": [
    "---"
   ]
  },
  {
   "cell_type": "markdown",
   "id": "d1d2c1ed-0d06-493c-96ec-f9df10fc69bc",
   "metadata": {},
   "source": [
    "## Few Shot Prompt Templates"
   ]
  },
  {
   "cell_type": "markdown",
   "id": "65f77466-a02b-49a0-ab75-c0c7714f9dac",
   "metadata": {},
   "source": [
    "Especially when working with just a few example shots that we want to use for all subsequent interactions, there's nothing wrong with just hardcoding our few-shot prompts into a prompt template like we just did.\n",
    "\n",
    "Sometimes, however, we might wish to use (or try out) different combinations of examples with a static base prompt, or, ingest user / AI example interactions from data. In scenarios like these, we can use `FewShotChatMessagePromptTemplate` to assist us.\n",
    "\n",
    "Let's imagine we want to construct a prompt that generates information about a given city, but we want to be very specific about the format of the information that the model generates. This seems like a good use case for few-shot prompting.\n",
    "\n",
    "The end prompt we have in mind might look something like the following, with a human prompt template for a human to invoke with a city name, but also (currently commented out since it is not defined), a `few_shot_prompt` containing examples for how the model ought to format its response."
   ]
  },
  {
   "cell_type": "code",
   "execution_count": null,
   "id": "6741f034-1652-4833-9212-3e77fe6fc833",
   "metadata": {},
   "outputs": [],
   "source": [
    "city_info_prompt_template = ChatPromptTemplate.from_messages([\n",
    "    # few_shot_prompt, # NOTE: we would like to provide several examples here in the form of a few-shot prompt.\n",
    "    (\"human\", \"Provide information about the following city in exactly the same format as you've done in previous responses: City: {city}\")\n",
    "])"
   ]
  },
  {
   "cell_type": "markdown",
   "id": "546e1415-697c-478e-9e16-d8812092ceb8",
   "metadata": {},
   "source": [
    "Whether we author them ourselves, obtain them from a data source, or get an LLM to generate them for us, we can construct a list of the human / AI interaction examples we want to use in our few shot prompt."
   ]
  },
  {
   "cell_type": "code",
   "execution_count": null,
   "id": "a615278d-07eb-40d1-aea6-d9618e96e174",
   "metadata": {},
   "outputs": [],
   "source": [
    "city_examples_location = [\n",
    "    {\"city\": \"Oakland\", \"output\": \"Oakland, USA, North America, Earth\"},\n",
    "    {\"city\": \"Paris\", \"output\": \"Paris, France, Europe, Earth\"},\n",
    "    {\"city\": \"Lima\", \"output\": \"Lima, Peru, South America, Earth\"},\n",
    "    {\"city\": \"Seoul\", \"output\": \"Seoul, South Korea, Asia, Earth\"}\n",
    "]"
   ]
  },
  {
   "cell_type": "markdown",
   "id": "d07e2bc1-d7cb-4a09-90b8-763ee96209ae",
   "metadata": {},
   "source": [
    "Since each item in `city_examples_location` is intended to represent a human message and AI message, it makes sense that next we can construct a prompt template to represent a single example interaction."
   ]
  },
  {
   "cell_type": "code",
   "execution_count": null,
   "id": "bf5590ca-d0a8-492c-a754-9d99184cf54d",
   "metadata": {},
   "outputs": [],
   "source": [
    "prompt_template_for_examples = ChatPromptTemplate.from_messages([\n",
    "    (\"human\", \"{city}\"),\n",
    "    (\"ai\", \"{output}\"),\n",
    "])"
   ]
  },
  {
   "cell_type": "markdown",
   "id": "ccfcea51-8270-47cd-9294-397db270a5e8",
   "metadata": {},
   "source": [
    "And now, with our examples, and with our prompt template for the examples, we can use `FewShotChatMessagePromptTemplate` to construct a few shot prompt out of our examples.\n",
    "\n",
    "`FewShotChatMessagePromptTemplate` expects 2 arguments:\n",
    "1. `examples`: a list of dicts (ostensibly containing our examples)\n",
    "2. `example_prompt`: the prompt template used to render our examples (ostensibly into `human` and `ai` messages)"
   ]
  },
  {
   "cell_type": "code",
   "execution_count": null,
   "id": "1bb1d28f-c3fe-4f28-bd6c-9b7d14f95395",
   "metadata": {},
   "outputs": [],
   "source": [
    "few_shot_prompt = FewShotChatMessagePromptTemplate(\n",
    "    examples=city_examples_location,\n",
    "    example_prompt=prompt_template_for_examples\n",
    ")"
   ]
  },
  {
   "cell_type": "markdown",
   "id": "1ccfabb9-c923-48ef-a3df-212fa2326d6d",
   "metadata": {},
   "source": [
    "`few_shot_prompt` is a runnable, just like any other prompt template, which we can invoke. Here we invoke it and view the messages it is comprised of."
   ]
  },
  {
   "cell_type": "code",
   "execution_count": null,
   "id": "c828c59f-fc8c-4cf2-9418-33b078d42cf4",
   "metadata": {},
   "outputs": [],
   "source": [
    "few_shot_prompt.invoke({}).to_messages()"
   ]
  },
  {
   "cell_type": "markdown",
   "id": "f5c699a7-0499-4537-aa87-ee571270ea1a",
   "metadata": {},
   "source": [
    "With `few_shot_prompt` now defined, we can revisit our main `city_info_prompt_template`, but actually include the `few_shot_prompt` instead of leaving it commented out."
   ]
  },
  {
   "cell_type": "code",
   "execution_count": null,
   "id": "68c80449-3967-4ab6-a326-1720ebcf22b3",
   "metadata": {},
   "outputs": [],
   "source": [
    "city_info_prompt_template = ChatPromptTemplate.from_messages([\n",
    "    few_shot_prompt,\n",
    "    (\"human\", \"Provide information about the following city in exactly the same format as you've done in previous responses: City: {city}\")\n",
    "])"
   ]
  },
  {
   "cell_type": "markdown",
   "id": "910065e7-0779-4475-8502-229de6201c97",
   "metadata": {},
   "source": [
    "Finally we can create a chain and use it, in this case, we'll send in a batch of city names."
   ]
  },
  {
   "cell_type": "code",
   "execution_count": null,
   "id": "cee0451d-5517-478c-a4b4-c22c2823cf6e",
   "metadata": {},
   "outputs": [],
   "source": [
    "chain = city_info_prompt_template | llm | parser"
   ]
  },
  {
   "cell_type": "code",
   "execution_count": null,
   "id": "b2f3fd16-737c-4e04-83ab-7af4ff3c4354",
   "metadata": {},
   "outputs": [],
   "source": [
    "cities = [\n",
    "    \"New York\",\n",
    "    \"London\",\n",
    "    \"Tokyo\",\n",
    "    \"Sydney\",\n",
    "    \"Cape Town\",\n",
    "    \"Toronto\",\n",
    "    \"Berlin\",\n",
    "    \"Buenos Aires\",\n",
    "    \"Dubai\",\n",
    "    \"Singapore\"\n",
    "]"
   ]
  },
  {
   "cell_type": "code",
   "execution_count": null,
   "id": "75fbbbe3-d3e7-4b4b-8dc7-84dbd2286d15",
   "metadata": {},
   "outputs": [],
   "source": [
    "chain.batch(cities)"
   ]
  },
  {
   "cell_type": "markdown",
   "id": "8af7b658-ec7d-4ca2-8c7f-5e83ce58dc41",
   "metadata": {},
   "source": [
    "This might seem like a lot of effort just to include some example shots in your prompt, and many times you will simply want to hardcode your examples into your main prompt. But as we mentioned before, there will be scenarios where you would wish to swap out the examples while keeping the rest of the structure of your main prompt, and this method allows for this quite nicely."
   ]
  },
  {
   "cell_type": "markdown",
   "id": "09a60d4a-0e3b-4ee4-94e8-81ba57a1044b",
   "metadata": {},
   "source": [
    "---"
   ]
  },
  {
   "cell_type": "markdown",
   "id": "1118834f-3669-421f-9bdf-1ceb22228c51",
   "metadata": {},
   "source": [
    "## Exercise: Swap in Different Few Shot Examples"
   ]
  },
  {
   "cell_type": "markdown",
   "id": "271bf70c-d859-4ce6-b6f0-339a7599604c",
   "metadata": {},
   "source": [
    "As an exercise on this very topic, you're going to recreate the chain we just made but with a new set of few-shot examples provided below.\n",
    "\n",
    "We are going to also provide you with the rest of the chain, and your task simply is to **make as little modification as possible to get it to work with the new examples**.\n",
    "\n",
    "Feel free to check out the *Solution* below if you get stuck."
   ]
  },
  {
   "cell_type": "markdown",
   "id": "10bf87ab-e9c4-4209-83b3-b54b7fa52520",
   "metadata": {},
   "source": [
    "### Your Work Here"
   ]
  },
  {
   "cell_type": "code",
   "execution_count": null,
   "id": "df850e86-1a1c-4050-a393-84dd82276dc1",
   "metadata": {},
   "outputs": [],
   "source": [
    "city_examples_slogan = [\n",
    "    {\"city\": \"Oakland\", \"output\": \"Oakland, Bright Side of the Bay\"},\n",
    "    {\"city\": \"Paris\", \"output\": \"Paris, City of Light\"},\n",
    "    {\"city\": \"Lima\", \"output\": \"Lima, City of Kings\"},\n",
    "    {\"city\": \"Seoul\", \"output\": \"Seoul, Heartbeat of Korea\"},\n",
    "]"
   ]
  },
  {
   "cell_type": "code",
   "execution_count": null,
   "id": "99ed8b12-71eb-4b9a-ad2d-f6298e731a05",
   "metadata": {},
   "outputs": [],
   "source": [
    "few_shot_prompt = FewShotChatMessagePromptTemplate(\n",
    "    examples=city_examples_location,\n",
    "    example_prompt=prompt_template_for_examples\n",
    ")"
   ]
  },
  {
   "cell_type": "code",
   "execution_count": null,
   "id": "ceeb387c-ec14-4499-be17-b1fd2ccae229",
   "metadata": {},
   "outputs": [],
   "source": [
    "city_info_prompt_template = ChatPromptTemplate.from_messages([\n",
    "    few_shot_prompt,\n",
    "    (\"human\", \"Provide information about the following city in exactly the same format as you've done in previous responses: City: {city}\")\n",
    "])"
   ]
  },
  {
   "cell_type": "code",
   "execution_count": null,
   "id": "05cc8a60-8882-4ca5-bfb6-82d2cbfd5e2d",
   "metadata": {},
   "outputs": [],
   "source": [
    "chain = city_info_prompt_template | llm | parser"
   ]
  },
  {
   "cell_type": "code",
   "execution_count": null,
   "id": "6a4187a2-acc4-45a5-ba17-0cf58e670c17",
   "metadata": {},
   "outputs": [],
   "source": [
    "chain.batch(cities)"
   ]
  },
  {
   "cell_type": "markdown",
   "id": "cfe9973d-7bba-472f-a00c-2fc82998a300",
   "metadata": {
    "jp-MarkdownHeadingCollapsed": true
   },
   "source": [
    "### Solution"
   ]
  },
  {
   "cell_type": "code",
   "execution_count": null,
   "id": "02c76fb8-679e-46d5-a729-ae211c8a2ea6",
   "metadata": {},
   "outputs": [],
   "source": [
    "city_examples_slogan = [\n",
    "    {\"city\": \"Oakland\", \"output\": \"Oakland, Bright Side of the Bay\"},\n",
    "    {\"city\": \"Paris\", \"output\": \"Paris, City of Light\"},\n",
    "    {\"city\": \"Lima\", \"output\": \"Lima, City of Kings\"},\n",
    "    {\"city\": \"Seoul\", \"output\": \"Seoul, Heartbeat of Korea\"},\n",
    "]"
   ]
  },
  {
   "cell_type": "markdown",
   "id": "9c833344-cdaa-4882-9a9f-5e51aca049e1",
   "metadata": {},
   "source": [
    "**The only change we made to the previous chain is here, where we update the `examples` field to be set to our new `city_examples_slogan` list.**"
   ]
  },
  {
   "cell_type": "code",
   "execution_count": null,
   "id": "0bf9f597-45e2-4ebb-bd0d-86d0bbeb84dc",
   "metadata": {},
   "outputs": [],
   "source": [
    "few_shot_prompt = FewShotChatMessagePromptTemplate(\n",
    "    examples=city_examples_slogan, # Only change made is right here.\n",
    "    example_prompt=prompt_template_for_examples\n",
    ")"
   ]
  },
  {
   "cell_type": "code",
   "execution_count": null,
   "id": "063c407d-5c9d-494f-859b-5748e4150b22",
   "metadata": {},
   "outputs": [],
   "source": [
    "city_info_prompt_template = ChatPromptTemplate.from_messages([\n",
    "    few_shot_prompt,\n",
    "    (\"human\", \"Provide information about the following city in exactly the same format as you've done in previous responses: City: {city}\")\n",
    "])"
   ]
  },
  {
   "cell_type": "code",
   "execution_count": null,
   "id": "5cdf6f7b-b1ac-455a-98a0-c86aa28e60b7",
   "metadata": {},
   "outputs": [],
   "source": [
    "chain = city_info_prompt_template | llm | parser"
   ]
  },
  {
   "cell_type": "code",
   "execution_count": null,
   "id": "af69ba9a-96bf-482a-b514-a844a8f2444b",
   "metadata": {},
   "outputs": [],
   "source": [
    "chain.batch(cities)"
   ]
  },
  {
   "cell_type": "markdown",
   "id": "3f0ec63e-a37a-41de-8f8d-9c4e707f8073",
   "metadata": {},
   "source": [
    "---"
   ]
  },
  {
   "cell_type": "markdown",
   "id": "0e0180ae-c224-41ca-8111-e2e0091e123a",
   "metadata": {},
   "source": [
    "## Summary"
   ]
  },
  {
   "cell_type": "markdown",
   "id": "a5cb5233-a5f4-491c-9db9-ca7d5a31bb95",
   "metadata": {},
   "source": [
    "In this notebook, using human and AI messages you were able to compose example interactions that impacted the behavior of your LLM.\n",
    "\n",
    "In the next notebook, you'll learn about a 3rd message type, the system message, and use it to establish an overarching persona and role for a chat model."
   ]
  }
 ],
 "metadata": {
  "kernelspec": {
   "display_name": "Python 3 (ipykernel)",
   "language": "python",
   "name": "python3"
  },
  "language_info": {
   "codemirror_mode": {
    "name": "ipython",
    "version": 3
   },
   "file_extension": ".py",
   "mimetype": "text/x-python",
   "name": "python",
   "nbconvert_exporter": "python",
   "pygments_lexer": "ipython3",
   "version": "3.12.1"
  }
 },
 "nbformat": 4,
 "nbformat_minor": 5
}
