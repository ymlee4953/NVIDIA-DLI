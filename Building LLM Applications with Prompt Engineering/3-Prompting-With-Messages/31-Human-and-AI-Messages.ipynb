{
 "cells": [
  {
   "cell_type": "markdown",
   "id": "fbe8ef58-074f-4230-88b7-53517bf46385",
   "metadata": {},
   "source": [
    "![NVIDIA](images/nvidia.png)"
   ]
  },
  {
   "cell_type": "markdown",
   "id": "d9c04683-dfa7-42ca-a569-9082e866150b",
   "metadata": {},
   "source": [
    "# Human and AI Messages"
   ]
  },
  {
   "cell_type": "markdown",
   "id": "28013522",
   "metadata": {},
   "source": [
    "In this notebook you'll learn about two of the core chat message types, human and AI messages, and how to use them explictly in application code."
   ]
  },
  {
   "cell_type": "markdown",
   "id": "69366671-11a4-4439-b6ad-cb89497ef5d4",
   "metadata": {},
   "source": [
    "---"
   ]
  },
  {
   "cell_type": "markdown",
   "id": "c08054f2",
   "metadata": {},
   "source": [
    "## Objectives"
   ]
  },
  {
   "cell_type": "markdown",
   "id": "a023bc7a-47b5-4508-957c-f3354c9fb363",
   "metadata": {},
   "source": [
    "By the time you complete this notebook you will:\n",
    "\n",
    "- Make explicit the role-based messaging system utilized by chat variant LLMs.\n",
    "- Learn how to use `ChatPromptTemplate` to create human and AI messages in prompt templates."
   ]
  },
  {
   "cell_type": "markdown",
   "id": "f4e9ea06-814f-43fd-9f59-ce67dfcb1bbb",
   "metadata": {},
   "source": [
    "---"
   ]
  },
  {
   "cell_type": "markdown",
   "id": "327550d4",
   "metadata": {},
   "source": [
    "## Imports"
   ]
  },
  {
   "cell_type": "code",
   "execution_count": null,
   "id": "75febe51",
   "metadata": {},
   "outputs": [],
   "source": [
    "from langchain_nvidia_ai_endpoints import ChatNVIDIA\n",
    "from langchain_core.prompts import ChatPromptTemplate, FewShotChatMessagePromptTemplate\n",
    "from langchain_core.output_parsers import StrOutputParser\n",
    "from langchain_core.messages import HumanMessage, AIMessage"
   ]
  },
  {
   "cell_type": "markdown",
   "id": "9bc7aca5-1c4a-4cb0-bd28-d8a7636cc96d",
   "metadata": {},
   "source": [
    "---"
   ]
  },
  {
   "cell_type": "markdown",
   "id": "5c0e1244",
   "metadata": {},
   "source": [
    "## Create a Model Instance"
   ]
  },
  {
   "cell_type": "code",
   "execution_count": null,
   "id": "c2c05c82",
   "metadata": {},
   "outputs": [],
   "source": [
    "base_url = 'http://llama:8000/v1'\n",
    "model = 'meta/llama-3.1-8b-instruct'\n",
    "llm = ChatNVIDIA(base_url=base_url, model=model, temperature=0)"
   ]
  },
  {
   "cell_type": "markdown",
   "id": "64d304e5-6bbe-4beb-ba92-fa208fb4c2f4",
   "metadata": {},
   "source": [
    "---"
   ]
  },
  {
   "cell_type": "markdown",
   "id": "b90f280c-cb9d-40d2-a6de-72d33308364e",
   "metadata": {},
   "source": [
    "## Chat Messages"
   ]
  },
  {
   "cell_type": "markdown",
   "id": "d5635bed-abfb-4429-8602-115ff8f6f600",
   "metadata": {},
   "source": [
    "As we've mentioned earlier in the workshop, there are important differences working with LLMs that are of the \"chat\" or \"instruction\" variety, versus LLMs that are not. Primarily, we have pointed out that chat models are intended to be used in a conversational manner whereas non-chat models primarily aim to generate whatever ought to come next for a given piece of text.\n",
    "\n",
    "As we have been working with LangChain throughout the workshop, we have been constructing prompts primarily via `ChatPromptTemplate`. As the \"Chat\" in the name implies, prompts constructed with `ChatPromptTemplate` are well-suited to creating prompts that work with the expectations of chat models, namely, role-based conversational interactions.\n",
    "\n",
    "Later in this notebook we are going to learn how to leverage our understanding of the various roles involved in chat model interactions, but to begin, let's revisit some familiar tasks, but take the time to notice how our prompts and our chat model's responses are in fact being structured in a way to indicate that they are in fact a part of a role-based dialogue."
   ]
  },
  {
   "cell_type": "markdown",
   "id": "d5db2a5c-66f5-48f6-ad58-c13714a98740",
   "metadata": {},
   "source": [
    "---"
   ]
  },
  {
   "cell_type": "markdown",
   "id": "f3ab54ec-8b2f-450e-8cc9-dae8520bfe5f",
   "metadata": {},
   "source": [
    "## Human Messages"
   ]
  },
  {
   "cell_type": "markdown",
   "id": "4adc5316-ff4f-4666-850c-79cfa577fd4c",
   "metadata": {},
   "source": [
    "To begin, we'll create an incredibly simple chat prompt template."
   ]
  },
  {
   "cell_type": "code",
   "execution_count": null,
   "id": "d17acda1-9121-469a-8a24-b22291084776",
   "metadata": {},
   "outputs": [],
   "source": [
    "prompt_template = ChatPromptTemplate.from_template(\"{prompt}\")"
   ]
  },
  {
   "cell_type": "markdown",
   "id": "f83e0b36-fc30-4da5-8639-abb5993c9d54",
   "metadata": {},
   "source": [
    "Next we'll instantiate an actual prompt by invoking the prompt template and then print the prompt in its entirety so we can discuss it further in the context of our current exploration."
   ]
  },
  {
   "cell_type": "code",
   "execution_count": null,
   "id": "b26c2236-625e-4e75-bca5-f121644e5eb9",
   "metadata": {},
   "outputs": [],
   "source": [
    "prompt = prompt_template.invoke({\"prompt\": \"hello\"})"
   ]
  },
  {
   "cell_type": "code",
   "execution_count": null,
   "id": "286aa554-b563-4291-9f99-ce792f2e26b5",
   "metadata": {},
   "outputs": [],
   "source": [
    "prompt"
   ]
  },
  {
   "cell_type": "markdown",
   "id": "28abe916-fe70-439b-9897-bacdbff84cab",
   "metadata": {},
   "source": [
    "First, we see that this prompt is a `ChatPromptValue`: this is a prompt intended to be used with chat model.\n",
    "\n",
    "Next, we notice that the message is something called a `HumanMessage`. Messages in a chat dialogue are always associated with a role, and this message is understood to be generated by someone with the role of \"human\".\n",
    "\n",
    "Invoking the `to_messages` method on the prompt makes this even more clear."
   ]
  },
  {
   "cell_type": "code",
   "execution_count": null,
   "id": "25c0539d-5c24-46b4-843e-567c72f84999",
   "metadata": {},
   "outputs": [],
   "source": [
    "prompt.to_messages()"
   ]
  },
  {
   "cell_type": "markdown",
   "id": "125c063d-ec59-46bd-8046-9ce35e93adcd",
   "metadata": {},
   "source": [
    "---"
   ]
  },
  {
   "cell_type": "markdown",
   "id": "823cce03-fbf6-4327-87de-491f4e7d2146",
   "metadata": {},
   "source": [
    "## AI Messages"
   ]
  },
  {
   "cell_type": "markdown",
   "id": "50026651-9adb-4a7d-8d0a-684a711fc399",
   "metadata": {},
   "source": [
    "Let's create a very basic chain so we can send our prompt to our chat model and then take a closer look at the message it sends back to us. Worth noting is that we are not including a parser at the end of our chain because we are interested to explore the entirety of the response from the model."
   ]
  },
  {
   "cell_type": "code",
   "execution_count": null,
   "id": "f4a98af0-b0c8-4a21-a449-7ff0b9cfdc0d",
   "metadata": {},
   "outputs": [],
   "source": [
    "chain = prompt_template | llm"
   ]
  },
  {
   "cell_type": "code",
   "execution_count": null,
   "id": "591f4af6-7b4d-4d78-87c8-b1b607b56d25",
   "metadata": {},
   "outputs": [],
   "source": [
    "response = chain.invoke({\"prompt\": \"hello\"})"
   ]
  },
  {
   "cell_type": "code",
   "execution_count": null,
   "id": "f2237639-93d9-4230-b96e-f81dd9ebc97e",
   "metadata": {},
   "outputs": [],
   "source": [
    "response"
   ]
  },
  {
   "cell_type": "markdown",
   "id": "704f0895-7be6-4e5b-b008-c231791faa2c",
   "metadata": {},
   "source": [
    "Right away we see that the response from the model is an `AIMessage` which we (and the model) can take to understand means that the message was generated by someone with the role of \"AI\"."
   ]
  },
  {
   "cell_type": "markdown",
   "id": "242e2f16-8910-4cc8-9e36-d3e384d6999e",
   "metadata": {},
   "source": [
    "---"
   ]
  },
  {
   "cell_type": "markdown",
   "id": "e3927bfe-32b1-4d9b-9893-fcb97ac8b9a4",
   "metadata": {},
   "source": [
    "## Explicit Role Use in Prompts"
   ]
  },
  {
   "cell_type": "markdown",
   "id": "5a4fa33c-65f4-4548-86f3-3c5b479d5f85",
   "metadata": {},
   "source": [
    "So under the hood LangChain, via `ChatPromptTemplate` has been taking care to manage the roles of both our \"human\" prompts and the \"AI\" chat model responses. However, LangChain also provides us with easy to use mechanisms for explicit role management.\n",
    "\n",
    "One of the most simple ways is by using `ChatPromptTemplate.from_messages`, which takes a list of messages, where each message is a 2-tuple with its first value indicating the role associated with the message, and the second value being the content of the message itself.\n",
    "\n",
    "Here we use `ChatPromptTemplate.from_messages` to recreate the exact same prompt we created above using `from_template`. In this case we are explicitly stating that the prompt will be associated with the \"human\" role."
   ]
  },
  {
   "cell_type": "code",
   "execution_count": null,
   "id": "49e0256d-4dfc-425f-aee6-ee0c70ece5d2",
   "metadata": {},
   "outputs": [],
   "source": [
    "prompt_template = ChatPromptTemplate.from_messages([\n",
    "    (\"human\", \"{prompt}\")\n",
    "])"
   ]
  },
  {
   "cell_type": "markdown",
   "id": "6edfd513-2134-43a8-906f-cf756d11f5e2",
   "metadata": {},
   "source": [
    "Looking at the prompt itself we see that just like what we did above, the the prompt is a `ChatPromptValue` that includes a message of type `HumanMessage`."
   ]
  },
  {
   "cell_type": "code",
   "execution_count": null,
   "id": "cb3003df-1d4c-465a-bff2-e75b7e634c3b",
   "metadata": {},
   "outputs": [],
   "source": [
    "prompt = prompt_template.invoke({\"prompt\": \"hello\"})"
   ]
  },
  {
   "cell_type": "code",
   "execution_count": null,
   "id": "d98b297a-4055-42ca-b646-a5b52886aa16",
   "metadata": {},
   "outputs": [],
   "source": [
    "prompt"
   ]
  },
  {
   "cell_type": "code",
   "execution_count": null,
   "id": "64f30250-eeae-4559-ba1d-b9b7af035659",
   "metadata": {},
   "outputs": [],
   "source": [
    "prompt.to_messages()"
   ]
  },
  {
   "cell_type": "markdown",
   "id": "84efb8f1-0678-4534-8f00-ceafa8f750c4",
   "metadata": {},
   "source": [
    "We can work with this prompt template exactly like we've been doing all this time with prompts created with `from_template`."
   ]
  },
  {
   "cell_type": "code",
   "execution_count": null,
   "id": "36fb0fe7-6941-4ee2-9cd0-545a3f5e668e",
   "metadata": {},
   "outputs": [],
   "source": [
    "chain = prompt_template | llm"
   ]
  },
  {
   "cell_type": "code",
   "execution_count": null,
   "id": "124bdba5-f982-47a4-9bf4-5b4112b511dd",
   "metadata": {},
   "outputs": [],
   "source": [
    "response = chain.invoke({\"prompt\": \"hello\"})"
   ]
  },
  {
   "cell_type": "code",
   "execution_count": null,
   "id": "bb6ef1c0-9e20-40c8-98d8-f97d05c5ff4c",
   "metadata": {},
   "outputs": [],
   "source": [
    "response"
   ]
  },
  {
   "cell_type": "markdown",
   "id": "2df0eaff-dc0e-441a-80d0-4fc0216a2c5f",
   "metadata": {},
   "source": [
    "---"
   ]
  },
  {
   "cell_type": "markdown",
   "id": "60fd2dee-ff51-45fb-9b3d-7ae5ea45b191",
   "metadata": {},
   "source": [
    "## Using ChatPromptMessages Directly"
   ]
  },
  {
   "cell_type": "markdown",
   "id": "dd58ee37-6efa-457b-b4e5-cf50d5ff83ca",
   "metadata": {},
   "source": [
    "As an aside, in more recent versions of LangChain we can use `ChatPromptMessages` directly, which is equivalent to using `ChatPromptTemplate.from_messages`. Thus the following two cells are identical."
   ]
  },
  {
   "cell_type": "code",
   "execution_count": null,
   "id": "cfc8fc62-7d96-468f-ab00-8ae808d93b0f",
   "metadata": {},
   "outputs": [],
   "source": [
    "ChatPromptTemplate.from_messages([\n",
    "    (\"human\", \"{prompt}\")\n",
    "])"
   ]
  },
  {
   "cell_type": "code",
   "execution_count": null,
   "id": "6759b6a3-d6e4-4e7b-8377-46260060870b",
   "metadata": {},
   "outputs": [],
   "source": [
    "ChatPromptTemplate([\n",
    "    (\"human\", \"{prompt}\")\n",
    "])"
   ]
  },
  {
   "cell_type": "markdown",
   "id": "0aef5be0-9e8f-49f2-ae0e-067a14c273bc",
   "metadata": {},
   "source": [
    "We will primarily use `from_messages` in this workshop primarily because we expect you to see it much more frequently in documentation and literature, but feel free to use whichever of the two variations you like."
   ]
  },
  {
   "cell_type": "markdown",
   "id": "35369184-16b6-434e-8991-a46df6f9af88",
   "metadata": {},
   "source": [
    "---"
   ]
  },
  {
   "cell_type": "markdown",
   "id": "57ad04f5-e274-4a20-887f-1d5539403039",
   "metadata": {},
   "source": [
    "## Exercise: Create an Explicit Human Message"
   ]
  },
  {
   "cell_type": "markdown",
   "id": "2ff745b0-1683-414f-af9d-c64f9a004a08",
   "metadata": {},
   "source": [
    "As a very simple exercise, just to get you actively using human messages explicitly, refactor the following chain to use `ChatPromptTemplate.from_messages`."
   ]
  },
  {
   "cell_type": "code",
   "execution_count": null,
   "id": "d6816dad-2520-4f36-a948-09f532b16943",
   "metadata": {},
   "outputs": [],
   "source": [
    "template = ChatPromptTemplate.from_template(\"Give the concise etomology of the following English word: {word}\")"
   ]
  },
  {
   "cell_type": "code",
   "execution_count": null,
   "id": "a22f564a-0d21-47f3-88a0-57486ff3073b",
   "metadata": {},
   "outputs": [],
   "source": [
    "parser = StrOutputParser()"
   ]
  },
  {
   "cell_type": "code",
   "execution_count": null,
   "id": "a35575a1-1a1d-463f-a5ab-bdbf28664037",
   "metadata": {},
   "outputs": [],
   "source": [
    "chain = template | llm | parser"
   ]
  },
  {
   "cell_type": "code",
   "execution_count": null,
   "id": "d906f94f-e07d-4178-9aec-4a9681abdb2b",
   "metadata": {},
   "outputs": [],
   "source": [
    "print(chain.invoke({\"word\": \"learning\"}))"
   ]
  },
  {
   "cell_type": "markdown",
   "id": "dffae3d3-ec8b-4f30-b222-fb0fff3d63d1",
   "metadata": {},
   "source": [
    "### Your Work Here"
   ]
  },
  {
   "cell_type": "code",
   "execution_count": null,
   "id": "c868f335-78f0-413c-bf49-6511458afccf",
   "metadata": {},
   "outputs": [],
   "source": []
  },
  {
   "cell_type": "markdown",
   "id": "4b29c27c-7782-4585-96b3-fde6c2dba1b2",
   "metadata": {
    "jp-MarkdownHeadingCollapsed": true
   },
   "source": [
    "### Solution"
   ]
  },
  {
   "cell_type": "code",
   "execution_count": null,
   "id": "be7869f1-7db5-48da-b1ad-62e5cd4d5659",
   "metadata": {},
   "outputs": [],
   "source": [
    "template = ChatPromptTemplate.from_messages([\n",
    "    (\"human\", \"Give the concise etomology of the following English word: {word}\")\n",
    "])"
   ]
  },
  {
   "cell_type": "code",
   "execution_count": null,
   "id": "c589c564-8362-438d-b857-495ccd3aa1f6",
   "metadata": {},
   "outputs": [],
   "source": [
    "parser = StrOutputParser()"
   ]
  },
  {
   "cell_type": "code",
   "execution_count": null,
   "id": "2e76baf3-a0e5-4a8e-ac6b-35b10683fd22",
   "metadata": {},
   "outputs": [],
   "source": [
    "chain = template | llm | parser"
   ]
  },
  {
   "cell_type": "code",
   "execution_count": null,
   "id": "091b9dda-0b79-422d-86c5-f71c00455958",
   "metadata": {},
   "outputs": [],
   "source": [
    "print(chain.invoke({\"word\": \"learning\"}))"
   ]
  },
  {
   "cell_type": "markdown",
   "id": "798c8da2-72a8-44c4-862f-8f58b5129b7a",
   "metadata": {},
   "source": [
    "---"
   ]
  },
  {
   "cell_type": "markdown",
   "id": "fc20ed87-5c14-49e5-9f18-ce8e530195bd",
   "metadata": {},
   "source": [
    "## Explicit Use of the AI Role"
   ]
  },
  {
   "cell_type": "markdown",
   "id": "9f09f549-a06f-4f18-9f15-0feb092e0f98",
   "metadata": {},
   "source": [
    "In addition to providing \"human\" role message, we can also pass messages to the model associated with the AI role."
   ]
  },
  {
   "cell_type": "code",
   "execution_count": null,
   "id": "221f12f4-b1a9-44c1-8240-52afb8e28c94",
   "metadata": {},
   "outputs": [],
   "source": [
    "prompt_template = ChatPromptTemplate.from_messages([\n",
    "    (\"human\", \"Hello.\"),\n",
    "    (\"ai\", \"Hello, how are you?\"),\n",
    "    (\"human\", \"{prompt}\")\n",
    "])"
   ]
  },
  {
   "cell_type": "markdown",
   "id": "434719bc-1872-4490-b23c-47ef646d1cc4",
   "metadata": {},
   "source": [
    "If we invoke this prompt we can see that unlike prompts we have sent to our chat models in the past, it contains 3 messages, two associated with the human role and one with the AI."
   ]
  },
  {
   "cell_type": "code",
   "execution_count": null,
   "id": "d2d387d7-cbf2-4b4f-8446-2f0559a6e98a",
   "metadata": {},
   "outputs": [],
   "source": [
    "prompt = prompt_template.invoke({\"prompt\": \"I'm well, thanks!\"})"
   ]
  },
  {
   "cell_type": "code",
   "execution_count": null,
   "id": "f936f4b1-60a3-49f8-ae90-884060680a11",
   "metadata": {},
   "outputs": [],
   "source": [
    "prompt.to_messages()"
   ]
  },
  {
   "cell_type": "markdown",
   "id": "54aaaa72-2f8f-45e7-abe1-810f5ed3ae4d",
   "metadata": {},
   "source": [
    "This ability allows us to construct prompts that contain additional context for the model to use when generating its response.\n",
    "\n",
    "From the model's perspective it is seeing what has already happened in the current chat conversation and this context about what has already happened can influence how the model responds in subsequent conversational turns.\n",
    "\n",
    "There are 2 primary ways we tend to utilize this ability.\n",
    "\n",
    "The first is when we want to implement chatbot functionality. After every human / AI interaction, we can add the interaction to our prompt. Thus, whenever we send a message to the chatbot, it is aware of the full context of the conversation up until that point, and is able to respond more appropriately. We will be looking at creating chatbot functionality in detail later in the workshop.\n",
    "\n",
    "The second is by constructing our own fictitious human / AI interactions to serve as examples to the model about how it ought to respond to subsequent human messages. This technique of providing example human / AI interactions by way of our prompt is referred to as few-shot prompting, which we will look at in the next notebook."
   ]
  },
  {
   "cell_type": "markdown",
   "id": "bece5790-b1a3-4d5e-acff-86274dc39d57",
   "metadata": {},
   "source": [
    "---"
   ]
  },
  {
   "cell_type": "markdown",
   "id": "a2dadbb3-99f0-4e3d-b27b-980f8de4cb5e",
   "metadata": {},
   "source": [
    "## Using `HumanMessage` and `AIMessage`"
   ]
  },
  {
   "cell_type": "markdown",
   "id": "024c5f50-b381-4565-b9f7-e3c979f8cc1d",
   "metadata": {},
   "source": [
    "It's often the case with LangChain that we have multiple ways to do the same thing, and this is true in the case of creating role-specific messages. Up until now we have been using the 2-tuple syntax to create a message explicitly associated with a role."
   ]
  },
  {
   "cell_type": "code",
   "execution_count": null,
   "id": "cfbd3981-b699-4b60-bc27-570242521f48",
   "metadata": {},
   "outputs": [],
   "source": [
    "prompt_template = ChatPromptTemplate.from_messages([\n",
    "    (\"human\", \"Hello.\"),\n",
    "    (\"ai\", \"Hello, how are you?\"),\n",
    "    (\"human\", \"{prompt}\")\n",
    "])"
   ]
  },
  {
   "cell_type": "markdown",
   "id": "61a9ccb8-afc1-4c3c-b08e-a36a2cc5697e",
   "metadata": {},
   "source": [
    "As an alternative to the 2-tuple syntax above, we can also use LangChain's `HumanMessage` and `AIMessage` classes."
   ]
  },
  {
   "cell_type": "code",
   "execution_count": null,
   "id": "6fe6886d-bf76-47bd-a6c5-1fc9cd88e479",
   "metadata": {},
   "outputs": [],
   "source": [
    "from langchain_core.messages import HumanMessage, AIMessage"
   ]
  },
  {
   "cell_type": "markdown",
   "id": "8c8ad5bd-6d7b-4695-97a7-aecb03d09edd",
   "metadata": {},
   "source": [
    "The following is identical to the 2-tuple implementation above."
   ]
  },
  {
   "cell_type": "code",
   "execution_count": null,
   "id": "38d8ba67-695e-46e2-bb29-6719183a0c1f",
   "metadata": {},
   "outputs": [],
   "source": [
    "prompt_template = ChatPromptTemplate.from_messages([\n",
    "    HumanMessage(content=\"Hello\"),\n",
    "    AIMessage(content=\"Hello, how are you?\"),\n",
    "    HumanMessage(content=\"{prompt}\")\n",
    "])"
   ]
  },
  {
   "cell_type": "markdown",
   "id": "34fade01-a754-47a1-ba56-893282aa79f3",
   "metadata": {},
   "source": [
    "It really is just a matter of choice which of these you might prefer to use in your applications, and you should feel free to use either in this workshop. Most importantly is to be able to recognize and understand each of them, as you're likely to see them both in documentation and examples."
   ]
  },
  {
   "cell_type": "markdown",
   "id": "0e0180ae-c224-41ca-8111-e2e0091e123a",
   "metadata": {},
   "source": [
    "## Summary"
   ]
  },
  {
   "cell_type": "markdown",
   "id": "a5cb5233-a5f4-491c-9db9-ca7d5a31bb95",
   "metadata": {},
   "source": [
    "Now that you're familiar with human and AI messages, including how to author them in chat prompt templates, in the next notebook you'll learn a powerful and popular technique called few-shot prompting that will leverage your message authoring skills to provide chat models with examples capable of impacting their behavior."
   ]
  }
 ],
 "metadata": {
  "kernelspec": {
   "display_name": "Python 3 (ipykernel)",
   "language": "python",
   "name": "python3"
  },
  "language_info": {
   "codemirror_mode": {
    "name": "ipython",
    "version": 3
   },
   "file_extension": ".py",
   "mimetype": "text/x-python",
   "name": "python",
   "nbconvert_exporter": "python",
   "pygments_lexer": "ipython3",
   "version": "3.12.1"
  }
 },
 "nbformat": 4,
 "nbformat_minor": 5
}
