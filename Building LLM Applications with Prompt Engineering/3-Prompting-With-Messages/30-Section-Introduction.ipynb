{
 "cells": [
  {
   "cell_type": "markdown",
   "id": "744d0a4f-6751-4683-91ed-b6639447a018",
   "metadata": {},
   "source": [
    "![NVIDIA](images/nvidia.png)"
   ]
  },
  {
   "cell_type": "markdown",
   "id": "688ebc37-2bdc-4094-9bad-671bd6d4faa5",
   "metadata": {},
   "source": [
    "# Section 3: Prompting With Messages"
   ]
  },
  {
   "cell_type": "markdown",
   "id": "c67fadf7-f01e-439d-b592-9980dd44364d",
   "metadata": {},
   "source": [
    "Thus far our interactions with our chat model have been text in text out. In this section we'll begin by exposing that behind the text are indications of the role of who is providing the text (human or AI) and will learn how to author prompts that explicitly use these and other available roles to great effect.\n",
    "\n",
    "By the time you complete this section you will be able to employ few-shot prompting, utilize the system message to define the overarching role or persona of a chatbot, and be able to get your chat model to tackle tasks that may have otherwise been too complex for it by using a technique called chain-of-thought prompting."
   ]
  },
  {
   "cell_type": "markdown",
   "id": "4bf92848-0eda-4fdf-8226-c48c017969f4",
   "metadata": {},
   "source": [
    "---"
   ]
  },
  {
   "cell_type": "markdown",
   "id": "10016277-0c6a-4de3-b7ca-aec1a8949228",
   "metadata": {},
   "source": [
    "## Section Table of Contents"
   ]
  },
  {
   "cell_type": "markdown",
   "id": "c7f938cd-c20c-4c6a-a09b-33b2437661fd",
   "metadata": {},
   "source": [
    "1. **Human and AI Messages:** In this notebook you'll learn about two of the core chat message types, human and AI messages, and how to use them explictly in application code.\n",
    "2. **Few-Shot Prompting:** In this notebook you'll learn how to provide chat models with instructive examples by way of a technique called few-shot prompting.\n",
    "3. **System Message:** In this notebook you'll learn about the system message, which will allow you to define an overarching persona and role for your chat models.\n",
    "4. **Chain-of-Thought Prompting:** In this notebook, you will learn about one of the most famous prompting techniques called Chain-of-Thought prompting.\n",
    "5. **Chatbots:** In this notebook, you will learn how to manage messages to retain conversation history and enable chatbot functionality."
   ]
  }
 ],
 "metadata": {
  "kernelspec": {
   "display_name": "Python 3 (ipykernel)",
   "language": "python",
   "name": "python3"
  },
  "language_info": {
   "codemirror_mode": {
    "name": "ipython",
    "version": 3
   },
   "file_extension": ".py",
   "mimetype": "text/x-python",
   "name": "python",
   "nbconvert_exporter": "python",
   "pygments_lexer": "ipython3",
   "version": "3.12.1"
  }
 },
 "nbformat": 4,
 "nbformat_minor": 5
}
