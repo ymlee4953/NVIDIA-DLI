{
 "cells": [
  {
   "cell_type": "markdown",
   "id": "38a05624-e1c7-43a1-aa8e-95d9c70a95ec",
   "metadata": {},
   "source": [
    "![NVIDIA Logo](1-Intro-to-Prompting/images/nvidia.png)"
   ]
  },
  {
   "cell_type": "markdown",
   "id": "5abedeb1-1de6-445a-aad2-b9bb3b46a742",
   "metadata": {},
   "source": [
    "# Building LLM Applications With Prompt Engineering"
   ]
  },
  {
   "cell_type": "markdown",
   "id": "492cb091-25e7-41c8-8d4e-d2a309a17788",
   "metadata": {},
   "source": [
    "Welcome.\n",
    "\n",
    "In this workshop you will learn a powerful assortment of techniques for working programmatically with LLMs via prompt engineering. By the time you complete this workshop you will be ready to write application code using LLMs for a wide variety of language related tasks."
   ]
  },
  {
   "cell_type": "markdown",
   "id": "fb98b53a-bb11-4979-b24e-0d2eb49bd80b",
   "metadata": {},
   "source": [
    "---"
   ]
  },
  {
   "cell_type": "markdown",
   "id": "897f8063-b99a-4c1b-b36c-dc55f8f35425",
   "metadata": {},
   "source": [
    "## Workshop Outline"
   ]
  },
  {
   "cell_type": "markdown",
   "id": "d47ec259-db2e-4632-b0e5-fd921ca0f4fe",
   "metadata": {},
   "source": [
    "This workshop is comprised of 5 sections, accessible via the file viewer on the left-hand side of your JupyterLab window. To help orient you to the work you'll be performing today in the workshop, here is a brief description of each section."
   ]
  },
  {
   "cell_type": "markdown",
   "id": "c55f6d23-cb13-4576-86a5-ffc86376a288",
   "metadata": {},
   "source": [
    "---"
   ]
  },
  {
   "cell_type": "markdown",
   "id": "35bdf214-dd80-4937-bbac-c31161e136f9",
   "metadata": {},
   "source": [
    "### Section 1: Introduction to Prompting"
   ]
  },
  {
   "cell_type": "markdown",
   "id": "e08d6a8f-3510-4094-878e-0de2111bb086",
   "metadata": {},
   "source": [
    "In this section you'll orient to the workshop environment, including the Llama-3.1-8b-instruct large language model that you'll be using throughout the workshop. You'll begin with the \"hello world\" of programmatically prompting an LLM and viewing its response and will progress into some of the core prompting techiques, using LangChain, that will support your work for the remainder of the workshop.\n",
    "\n",
    "This section concludes with a mini project where you will perform a combination of analysis and generative tasks on a batch of inputs."
   ]
  },
  {
   "cell_type": "markdown",
   "id": "116a7772-a6df-4830-a992-057f7c2c0e0c",
   "metadata": {},
   "source": [
    "---"
   ]
  },
  {
   "cell_type": "markdown",
   "id": "bd2c61b3-57c8-4517-ab16-c2a581970716",
   "metadata": {},
   "source": [
    "### Section 2: LangChain Expression Language (LCEL), Runnables, and Chains"
   ]
  },
  {
   "cell_type": "markdown",
   "id": "47eaef68-c18e-4351-b080-7d57bf67e55c",
   "metadata": {},
   "source": [
    "In this section you'll learn how to create modular, reusable, and composable units of LLM-based work called chains using LangChain expression language, or LCEL. In the service of creating and working with LCEL chains you'll learn how to create custom chain components and compose chains, including in parallel.\n",
    "\n",
    "This section concludes with a mini project where you'll revisit the section 1 mini-project, but this time will simplify your code by utilizing LCEL chains and also perform some of the project's subtasks in parallel."
   ]
  },
  {
   "cell_type": "markdown",
   "id": "b0421443-d2e4-4242-be54-2fb7b81a4afe",
   "metadata": {},
   "source": [
    "---"
   ]
  },
  {
   "cell_type": "markdown",
   "id": "c8c9e3eb-f6ac-4b56-a7ea-d64c030b773c",
   "metadata": {},
   "source": [
    "### Section 3: Prompting With Messages"
   ]
  },
  {
   "cell_type": "markdown",
   "id": "d230c70c-ce55-45b6-a1ce-2857ffc685db",
   "metadata": {},
   "source": [
    "In this section you'll learn how to explicity control the kinds of messages we send to and receive from chat models, and leverage them to perform a variety of powerful prompt engineering techniques including few-shot prompting, system message updating and chain-of-thought prompting.\n",
    "\n",
    "This section concludes by your managing messages to create a chatbot capable of retaining conversation history and assuming a variety of personas that you can specify."
   ]
  },
  {
   "cell_type": "markdown",
   "id": "54813958-bcc9-427d-b179-8f0fec0c76bc",
   "metadata": {},
   "source": [
    "---"
   ]
  },
  {
   "cell_type": "markdown",
   "id": "a7b528ec-5b62-4f92-bff9-cb0362a5a43b",
   "metadata": {},
   "source": [
    "### Section 4: Structured Output"
   ]
  },
  {
   "cell_type": "markdown",
   "id": "4c9eeba4-fe1b-4851-a2bc-6f338dedd3ec",
   "metadata": {},
   "source": [
    "In this section you'll learn how to define precise data structure definitions and provide them to LLMs in order to get the LLM to generate structured data capable of being used directly in code.\n",
    "\n",
    "This section concludes with a mini-project where you use structured data generation techniques to perform data extraction and document tagging on an unstructured text document."
   ]
  },
  {
   "cell_type": "markdown",
   "id": "245004ba-91ea-4855-afbe-871c6368ec3e",
   "metadata": {},
   "source": [
    "---"
   ]
  },
  {
   "cell_type": "markdown",
   "id": "2c6a4888-c2d3-423c-ae6e-c2bd4f63c7b6",
   "metadata": {},
   "source": [
    "### Section 5: Tool Use and Agents"
   ]
  },
  {
   "cell_type": "markdown",
   "id": "bcd85769-710f-4a2f-b68b-025bbd29d872",
   "metadata": {},
   "source": [
    "In this section you'll learn how to create units of functionality external to the LLM called tools, and augment LLMs to be able to utilize tools and include the results of their work in the responses they generate.\n",
    "\n",
    "In this section you'll conduct a mini-project where you create an LLM agent capable of utilizing external API calls to augment its responses with real-time data."
   ]
  },
  {
   "cell_type": "markdown",
   "id": "e345f5ff-9277-4d4b-bba1-5bcbaf3d0643",
   "metadata": {},
   "source": [
    "---"
   ]
  },
  {
   "cell_type": "markdown",
   "id": "72c64727-76fc-4e75-9fc4-2f9741068898",
   "metadata": {},
   "source": [
    "### Section 6: Assessment"
   ]
  },
  {
   "cell_type": "markdown",
   "id": "3b3225ec-0290-45e0-b012-bc97fdcbfb2d",
   "metadata": {},
   "source": [
    "In this section you'll put what you've learned to the test and earn a certificate of competency in the course by completing an assessment project where you build a LangChain application capable of identifying the main sources of customer complaints out of a collection of customer emails.\n",
    "\n",
    "This section concludes with a workshop summary and an opportunity to provide feedback to us about the workshop."
   ]
  },
  {
   "cell_type": "markdown",
   "id": "a0192820-5e83-42cb-91de-69bad2f2a0c6",
   "metadata": {},
   "source": [
    "##"
   ]
  }
 ],
 "metadata": {
  "kernelspec": {
   "display_name": "Python 3 (ipykernel)",
   "language": "python",
   "name": "python3"
  },
  "language_info": {
   "codemirror_mode": {
    "name": "ipython",
    "version": 3
   },
   "file_extension": ".py",
   "mimetype": "text/x-python",
   "name": "python",
   "nbconvert_exporter": "python",
   "pygments_lexer": "ipython3",
   "version": "3.12.1"
  }
 },
 "nbformat": 4,
 "nbformat_minor": 5
}
