{
 "cells": [
  {
   "cell_type": "markdown",
   "id": "16c29c30-e2ca-47d8-9454-f302f55cdbd9",
   "metadata": {},
   "source": [
    "![nvidia](images/nvidia.png)"
   ]
  },
  {
   "cell_type": "markdown",
   "id": "c8067ff8-c55f-4186-afcf-029b45e7406f",
   "metadata": {},
   "source": [
    "# LangChain Expression Language and Chains"
   ]
  },
  {
   "cell_type": "markdown",
   "id": "28013522",
   "metadata": {},
   "source": [
    "In this notebook you will learn about LangChain runnables, and the ability to compose them into chains using LangChain Expression Language (LCEL)."
   ]
  },
  {
   "cell_type": "markdown",
   "id": "69366671-11a4-4439-b6ad-cb89497ef5d4",
   "metadata": {},
   "source": [
    "---"
   ]
  },
  {
   "cell_type": "markdown",
   "id": "c08054f2",
   "metadata": {},
   "source": [
    "## Objectives"
   ]
  },
  {
   "cell_type": "markdown",
   "id": "a023bc7a-47b5-4508-957c-f3354c9fb363",
   "metadata": {},
   "source": [
    "By the time you complete this notebook you will:\n",
    "\n",
    "- Understand LangChain runnables as units of work in LangChain.\n",
    "- Intentionally use LLM instances and prompt templates as runnables.\n",
    "- Create and use runnable output parsers.\n",
    "- Compose runnables into LangChain chains using LCEL pipe syntax."
   ]
  },
  {
   "cell_type": "markdown",
   "id": "f4e9ea06-814f-43fd-9f59-ce67dfcb1bbb",
   "metadata": {},
   "source": [
    "---"
   ]
  },
  {
   "cell_type": "markdown",
   "id": "327550d4",
   "metadata": {},
   "source": [
    "## Imports"
   ]
  },
  {
   "cell_type": "code",
   "execution_count": null,
   "id": "75febe51",
   "metadata": {},
   "outputs": [],
   "source": [
    "from langchain_nvidia_ai_endpoints import ChatNVIDIA\n",
    "from langchain_core.prompts import ChatPromptTemplate\n",
    "from langchain_core.output_parsers import StrOutputParser"
   ]
  },
  {
   "cell_type": "markdown",
   "id": "9bc7aca5-1c4a-4cb0-bd28-d8a7636cc96d",
   "metadata": {},
   "source": [
    "---"
   ]
  },
  {
   "cell_type": "markdown",
   "id": "5c0e1244",
   "metadata": {},
   "source": [
    "## Create a Model Instance"
   ]
  },
  {
   "cell_type": "code",
   "execution_count": null,
   "id": "c2c05c82",
   "metadata": {},
   "outputs": [],
   "source": [
    "base_url = 'http://llama:8000/v1'\n",
    "model = 'meta/llama-3.1-8b-instruct'\n",
    "llm = ChatNVIDIA(base_url=base_url, model=model, temperature=0)"
   ]
  },
  {
   "cell_type": "markdown",
   "id": "64d304e5-6bbe-4beb-ba92-fa208fb4c2f4",
   "metadata": {},
   "source": [
    "---"
   ]
  },
  {
   "cell_type": "markdown",
   "id": "a7255020-07f1-402a-98dd-5489d153b9c6",
   "metadata": {},
   "source": [
    "## LangChain Runnables"
   ]
  },
  {
   "cell_type": "markdown",
   "id": "84af1c42-fa16-4cfb-b6d1-d8997cbd07e8",
   "metadata": {},
   "source": [
    "In the previous notebook you learned to create simple LangChain prompt templates, and to instantiate them with specific values for their template placeholders with the `invoke` method."
   ]
  },
  {
   "cell_type": "code",
   "execution_count": null,
   "id": "70d017e6-fdc4-49e8-b261-7aad5a2c4cf4",
   "metadata": {},
   "outputs": [],
   "source": [
    "template = ChatPromptTemplate.from_template(\"Answer the following question: {question}\")\n",
    "prompt = template.invoke({\"question\": \"In what city is NVIDIA world headquarters?\"})"
   ]
  },
  {
   "cell_type": "markdown",
   "id": "fdffbbf7-9867-4989-ab88-13ec696519b7",
   "metadata": {},
   "source": [
    "You also know, that when sending a prompt to an LLM instance that we have created in LangChain (in our case the LangChain component `ChatNVIDIA`), that we use the model instances's `invoke` method."
   ]
  },
  {
   "cell_type": "code",
   "execution_count": null,
   "id": "3cecc7c8-cb9f-484e-ad4b-4f96bf738d1c",
   "metadata": {},
   "outputs": [],
   "source": [
    "response = llm.invoke(prompt)"
   ]
  },
  {
   "cell_type": "code",
   "execution_count": null,
   "id": "b4040531-44e5-4bae-85a8-0d5a29436ee2",
   "metadata": {},
   "outputs": [],
   "source": [
    "print(response.content)"
   ]
  },
  {
   "cell_type": "markdown",
   "id": "a0f52c24-8bf1-421b-a43c-7b6f8dc71765",
   "metadata": {},
   "source": [
    "The presence of the `invoke` method on both LLM instances, and on prompt templates is not coincidental, they are both LangChain **runnables**.\n",
    "\n",
    "In LangChain, a **runnable** is a unit of work that can be invoked (as we've done with both LLM instances and prompt templates), batched and streamed (as we have done with LLM instances) and also transformed and composed (which have not done yet).\n",
    "\n",
    "Just to sanity check this, let's try the `batch` method, which we've used with LLM instances, but not on our prompt templates. Since prompt templates are runnables, like LLM instances, and since runnables can be batched, the following ought to work."
   ]
  },
  {
   "cell_type": "code",
   "execution_count": null,
   "id": "21a5d236-6bad-4c8a-b0c1-d6a2243edb25",
   "metadata": {},
   "outputs": [],
   "source": [
    "questions = [\n",
    "    {\"question\": \"In what city is NVIDIA world headquarters?\"},\n",
    "    {\"question\": \"When was NVIDIA founded?\"},\n",
    "    {\"question\": \"Who is the CEO of NVIDIA?\"},\n",
    "]"
   ]
  },
  {
   "cell_type": "code",
   "execution_count": null,
   "id": "7604cf22-1d01-4872-bea0-75765f4a1969",
   "metadata": {},
   "outputs": [],
   "source": [
    "prompts = template.batch(questions)"
   ]
  },
  {
   "cell_type": "code",
   "execution_count": null,
   "id": "3f662654-38be-4bab-aeab-8349addb41f0",
   "metadata": {},
   "outputs": [],
   "source": [
    "prompts"
   ]
  },
  {
   "cell_type": "markdown",
   "id": "54b56ebf-bca5-4677-aa9d-3dfcdada3240",
   "metadata": {},
   "source": [
    "---"
   ]
  },
  {
   "cell_type": "markdown",
   "id": "54a8d73c-afe3-491a-a204-a7f2cc58a87b",
   "metadata": {},
   "source": [
    "## LangChain Expression Language (LCEL)"
   ]
  },
  {
   "cell_type": "markdown",
   "id": "abdb34ce-2eb9-440a-b8ca-46a2c502ea3f",
   "metadata": {},
   "source": [
    "LCEL is a declaritive way to compose runnables into **chains**: reusable compositions of functionality. We chain runnables together through LCEL's pipe `|` operator, which at a high level, will pipe the output of one runnable to the next.\n",
    "\n",
    "For those of you who have worked with the Unix command line, you'll be familar with the `|` operator as a way to chain together the functionality of various programs in service of a larger goal.\n",
    "\n",
    "If you don't know any Bash, don't worry too much about the following cell, but for those of you who do, you'll see we create a chain via the pipe operator to print \"hello pipes\" with `echo`, reverse the string with `rev` and then uppercase the reversed string with `tr`."
   ]
  },
  {
   "cell_type": "code",
   "execution_count": null,
   "id": "5f79f32a-43fe-42d3-8ef2-990d8301e1d9",
   "metadata": {},
   "outputs": [],
   "source": [
    "%%bash\n",
    "echo hello pipes | rev | tr 'a-z' 'A-Z'"
   ]
  },
  {
   "cell_type": "markdown",
   "id": "279292de-2938-4e47-9c77-4ccda357ecf2",
   "metadata": {},
   "source": [
    "Similarly, and just as conveniently and powerfully, we can pipe together a great deal of LangChain functionality using LCEL's pipe operator."
   ]
  },
  {
   "cell_type": "markdown",
   "id": "9a41d3f0-a868-47a0-9540-eb682a2099f6",
   "metadata": {},
   "source": [
    "---"
   ]
  },
  {
   "cell_type": "markdown",
   "id": "45a8546b-7394-4346-8443-142b17f8619f",
   "metadata": {},
   "source": [
    "## A Simple Chain"
   ]
  },
  {
   "cell_type": "markdown",
   "id": "11e074e8-6a11-46f9-b8a5-310194a7a4ff",
   "metadata": {},
   "source": [
    "Let's begin with a simple chain, relevant to the work you've already been doing. Just to keep everything where we can see it we will define here again our LLM instance and a prompt template."
   ]
  },
  {
   "cell_type": "code",
   "execution_count": null,
   "id": "e27df471-5d1e-43ea-9e8e-1b22d3505a77",
   "metadata": {},
   "outputs": [],
   "source": [
    "llm = ChatNVIDIA(base_url=base_url, model=model, temperature=0)\n",
    "template = ChatPromptTemplate.from_template(\"Answer the following question: {question}\")"
   ]
  },
  {
   "cell_type": "markdown",
   "id": "91b8d15d-4db4-4999-92f8-5670e0581d79",
   "metadata": {},
   "source": [
    "Now we'll create our first LCEL chain by composing these 2 together with a pipe. It makes sense intuitively that we'll want to utilize the prompt template first, and then send the resulting prompt to the LLM, so in our pipe we will put the template first."
   ]
  },
  {
   "cell_type": "code",
   "execution_count": null,
   "id": "2c27fd51-bac6-4187-a386-b7eabef0328b",
   "metadata": {},
   "outputs": [],
   "source": [
    "chain = template | llm"
   ]
  },
  {
   "cell_type": "markdown",
   "id": "189a6e3f-76f3-4a4f-8d6e-374f96b72f34",
   "metadata": {},
   "source": [
    "We can visualize the computational graph represented by `chain` using the following helper method on the chain."
   ]
  },
  {
   "cell_type": "code",
   "execution_count": null,
   "id": "b06f85cd-cd02-425e-8110-719deb38c720",
   "metadata": {},
   "outputs": [],
   "source": [
    "print(chain.get_graph().draw_ascii())"
   ]
  },
  {
   "cell_type": "markdown",
   "id": "aaba768b-60f7-4708-9a6f-041be552fd0d",
   "metadata": {},
   "source": [
    "As you can see, the chain will expect a `PromptInput` which be piped into our `ChatPromptTemplate` which will then be piped into our `ChatNVIDIA` model which will finally produce the `ChatNVIDIAOutput`.\n",
    "\n",
    "Additionally, we can ascertain what kinds of inputs our chain expects, this time using a different helper method."
   ]
  },
  {
   "cell_type": "code",
   "execution_count": null,
   "id": "0c581d4d-78af-46dc-8e09-d3f895c209c7",
   "metadata": {},
   "outputs": [],
   "source": [
    "chain.input_schema.schema()"
   ]
  },
  {
   "cell_type": "markdown",
   "id": "262baa27-37ce-4eb4-8e89-3eafe878aa77",
   "metadata": {},
   "source": [
    "The above is a [Pydantic](https://docs.pydantic.dev/latest/) object, which we're not going to cover in depth right now, but you'll notice immediately its `required` field states explicitly the name of any properties we are required to pass into `chain`."
   ]
  },
  {
   "cell_type": "markdown",
   "id": "844e9fb8-9e89-47f5-8f00-5b7383148f32",
   "metadata": {},
   "source": [
    "Chains are composed of runnables, but are also runnables themselves. Thus, just like we would with any other runnable, we can use its `invoke` method.\n",
    "\n",
    "We know the beginning of our chain expects a prompt input, and that the prompt template expects us to supply a value for `question`, so we'll invoke the chain while providing the expected value."
   ]
  },
  {
   "cell_type": "code",
   "execution_count": null,
   "id": "fb6588bb-2886-43cd-ae0c-400f1836af4c",
   "metadata": {},
   "outputs": [],
   "source": [
    "chain.invoke({\"question\": \"Who founded NVIDIA?\"})"
   ]
  },
  {
   "cell_type": "markdown",
   "id": "d845ac6f-4553-4e9b-85ec-11b0ebbda437",
   "metadata": {},
   "source": [
    "It looks like we received a message from the model just like we have when invoking the model instance directly. Let's save the response and see if we view its `content` field as we've been able to do previously."
   ]
  },
  {
   "cell_type": "code",
   "execution_count": null,
   "id": "a4acdc6d-a35f-4c5d-b110-20ed1b02031b",
   "metadata": {},
   "outputs": [],
   "source": [
    "answer = chain.invoke({\"question\": \"Who founded NVIDIA?\"})"
   ]
  },
  {
   "cell_type": "code",
   "execution_count": null,
   "id": "9c5adb2f-876f-4fff-8f18-85b669f5dc4a",
   "metadata": {},
   "outputs": [],
   "source": [
    "print(answer.content)"
   ]
  },
  {
   "cell_type": "markdown",
   "id": "2a70e4ce-6567-4ff2-ae4f-8cbcae1d3466",
   "metadata": {},
   "source": [
    "---"
   ]
  },
  {
   "cell_type": "markdown",
   "id": "e5b3fdeb-ce2d-4892-b90e-c05b35105d4a",
   "metadata": {},
   "source": [
    "## Output Parsers"
   ]
  },
  {
   "cell_type": "markdown",
   "id": "f0a5b509-40ab-485f-a333-9ed25d9a1fe4",
   "metadata": {},
   "source": [
    "Another core LangChain component is **output parsers**, which are classes to help structure LLM responses. Output parsers are, like LLM instances and prompt templates, runnables, which means we can use them in chains.\n",
    "\n",
    "Let's begin with perhaps the most straightforward output parser, `StrOutputParser`, which is going to save us all the repetitive boilerplate of fishing the `content` field out of our model responses.\n",
    "\n",
    "First we import the `StrOutputParser` class."
   ]
  },
  {
   "cell_type": "code",
   "execution_count": null,
   "id": "6922ac5c-2a99-417b-a921-69bbda8b5c83",
   "metadata": {},
   "outputs": [],
   "source": [
    "from langchain_core.output_parsers import StrOutputParser"
   ]
  },
  {
   "cell_type": "markdown",
   "id": "f620b737-fac1-4b1d-964d-33bd4446fa1e",
   "metadata": {},
   "source": [
    "Next we create an instance of the parser. For more advanced parsing techniques, some of which we'll see later, we can instantiate the parser with a variety of arguments, but for this simple parser we don't need to pass in any arguments when instantiating it."
   ]
  },
  {
   "cell_type": "code",
   "execution_count": null,
   "id": "2d169dfc-fce2-4677-bcc8-f6a20a7deb03",
   "metadata": {},
   "outputs": [],
   "source": [
    "parser = StrOutputParser()"
   ]
  },
  {
   "cell_type": "markdown",
   "id": "128e1748-4e53-45c3-9f7d-5d7b2507ad14",
   "metadata": {},
   "source": [
    "Given our claims above about all runnables having `invoke`, `batch` and `stream` methods, we would expect to be able to call them on `parser`."
   ]
  },
  {
   "cell_type": "code",
   "execution_count": null,
   "id": "e25a173d-ab7e-47ce-b722-8a8108389589",
   "metadata": {},
   "outputs": [],
   "source": [
    "parser.invoke('parse this string')"
   ]
  },
  {
   "cell_type": "code",
   "execution_count": null,
   "id": "1c076244-834f-4a24-98de-c014c3fb9bd8",
   "metadata": {},
   "outputs": [],
   "source": [
    "parser.batch(['parse this string', 'and this string too'])"
   ]
  },
  {
   "cell_type": "markdown",
   "id": "0e2d7735-3884-4626-baa9-cb621c462558",
   "metadata": {},
   "source": [
    "Additionally, and most importantly, we would also expect to be able to use `parser` in a chain. Let's recreate the chain from earlier but extend it by piping the model ouput into the output parser."
   ]
  },
  {
   "cell_type": "code",
   "execution_count": null,
   "id": "5fc5037d-69bd-4e74-beaa-56b7496faf62",
   "metadata": {},
   "outputs": [],
   "source": [
    "chain = template | llm | parser"
   ]
  },
  {
   "cell_type": "markdown",
   "id": "2bd483e1-b284-43bc-ae2a-b06371668fa9",
   "metadata": {},
   "source": [
    "Again, we can visualize the computational graph represented by `chain` using the following helper method on the chain."
   ]
  },
  {
   "cell_type": "code",
   "execution_count": null,
   "id": "a17febaa-f8c2-479d-9751-a328d50348f2",
   "metadata": {},
   "outputs": [],
   "source": [
    "print(chain.get_graph().draw_ascii())"
   ]
  },
  {
   "cell_type": "markdown",
   "id": "e64fe4c1-c608-4eb6-84b2-6867e0e624cd",
   "metadata": {},
   "source": [
    "And now let's invoke the chain, passing in the expected arguments."
   ]
  },
  {
   "cell_type": "code",
   "execution_count": null,
   "id": "c32470b0-65bc-4d1d-8e01-0a29887a2902",
   "metadata": {},
   "outputs": [],
   "source": [
    "chain.invoke({\"question\": \"Who invented the use of the pipe symbol in Unix systems?\"})"
   ]
  },
  {
   "cell_type": "markdown",
   "id": "49362859-300f-475c-84df-1d6cea66e355",
   "metadata": {},
   "source": [
    "We hope you'll agree that being able to create declarative chains like this is a huge improvement over our previous methods."
   ]
  },
  {
   "cell_type": "markdown",
   "id": "552b14ef-5a32-4bf0-b212-a6836c72ae35",
   "metadata": {},
   "source": [
    "---"
   ]
  },
  {
   "cell_type": "markdown",
   "id": "935c5c73-d0c4-468e-b59f-5ccd71ca2e44",
   "metadata": {},
   "source": [
    "## Exercise: Translation Revisited"
   ]
  },
  {
   "cell_type": "markdown",
   "id": "1d2beea7-f91f-46ed-9977-85916f74bc28",
   "metadata": {},
   "source": [
    "Create a chain that is able to translate a given statement, source language, and target languages you specify.\n",
    "\n",
    "If you get stuck, check out the _Solution_ below."
   ]
  },
  {
   "cell_type": "markdown",
   "id": "4ce32867-d017-4610-8b53-29d35ce75915",
   "metadata": {},
   "source": [
    "### Your Work Here"
   ]
  },
  {
   "cell_type": "code",
   "execution_count": null,
   "id": "6767b5e4-faef-4273-9d3b-fdc9093873ae",
   "metadata": {},
   "outputs": [],
   "source": []
  },
  {
   "cell_type": "markdown",
   "id": "89b76682-3b4b-4b63-a8aa-a437d65994f8",
   "metadata": {
    "jp-MarkdownHeadingCollapsed": true
   },
   "source": [
    "### Solution"
   ]
  },
  {
   "cell_type": "code",
   "execution_count": null,
   "id": "d3dd817a-1525-435f-8d4a-72d4cb2f0529",
   "metadata": {},
   "outputs": [],
   "source": [
    "translate_template = ChatPromptTemplate.from_template(\"\"\"Translate the following statement from {from_language} to {to_language}. \\\n",
    "Provide only the translated text: {statement}\"\"\")"
   ]
  },
  {
   "cell_type": "code",
   "execution_count": null,
   "id": "282648fb-0a35-429f-8400-491850b91c7a",
   "metadata": {},
   "outputs": [],
   "source": [
    "translation_chain = translate_template | llm | parser"
   ]
  },
  {
   "cell_type": "code",
   "execution_count": null,
   "id": "f4efe1b4-dda1-483a-9df8-e1de42953255",
   "metadata": {},
   "outputs": [],
   "source": [
    "print(translation_chain.get_graph().draw_ascii())"
   ]
  },
  {
   "cell_type": "code",
   "execution_count": null,
   "id": "0fcba0cd-19c5-4210-96e2-fe2e4b0daed8",
   "metadata": {},
   "outputs": [],
   "source": [
    "translation_chain.input_schema.schema()"
   ]
  },
  {
   "cell_type": "code",
   "execution_count": null,
   "id": "f14ca60a-9a3e-4cac-a193-f1f9c71452a2",
   "metadata": {},
   "outputs": [],
   "source": [
    "translation_chain.invoke({\n",
    "    \"from_language\": \"English\",\n",
    "    \"to_language\": \"German\",\n",
    "    \"statement\": \"No matter who you are it's fun to learn new things.\"\n",
    "})"
   ]
  },
  {
   "cell_type": "markdown",
   "id": "db6f7b38-4ff7-402b-878f-85de44bb7bf8",
   "metadata": {},
   "source": [
    "---"
   ]
  },
  {
   "cell_type": "markdown",
   "id": "0e0180ae-c224-41ca-8111-e2e0091e123a",
   "metadata": {},
   "source": [
    "## Summary"
   ]
  },
  {
   "cell_type": "markdown",
   "id": "a5cb5233-a5f4-491c-9db9-ca7d5a31bb95",
   "metadata": {},
   "source": [
    "In this notebook you learned how to work with runnables, and in particular, 3 of the core LangChain runnables: LLM instances, prompt templates, and output parsers.\n",
    "\n",
    "In the next notebook we will continue our focus on creating and composing runnables by introducing the ability to create custom runnables."
   ]
  }
 ],
 "metadata": {
  "kernelspec": {
   "display_name": "Python 3 (ipykernel)",
   "language": "python",
   "name": "python3"
  },
  "language_info": {
   "codemirror_mode": {
    "name": "ipython",
    "version": 3
   },
   "file_extension": ".py",
   "mimetype": "text/x-python",
   "name": "python",
   "nbconvert_exporter": "python",
   "pygments_lexer": "ipython3",
   "version": "3.12.1"
  }
 },
 "nbformat": 4,
 "nbformat_minor": 5
}
