{
 "cells": [
  {
   "cell_type": "markdown",
   "id": "79f985ee-862f-411e-a4d6-9ea6730eb290",
   "metadata": {},
   "source": [
    "![nvidia](images/nvidia.png)"
   ]
  },
  {
   "cell_type": "markdown",
   "id": "df62afaf-4235-431d-94b3-664e14386422",
   "metadata": {},
   "source": [
    "# Runnable Functions"
   ]
  },
  {
   "cell_type": "markdown",
   "id": "28013522",
   "metadata": {},
   "source": [
    "In this notebook you will learn how to convert custom functions into runnables that can be included in LangChain chains."
   ]
  },
  {
   "cell_type": "markdown",
   "id": "69366671-11a4-4439-b6ad-cb89497ef5d4",
   "metadata": {},
   "source": [
    "---"
   ]
  },
  {
   "cell_type": "markdown",
   "id": "c08054f2",
   "metadata": {},
   "source": [
    "## Objectives"
   ]
  },
  {
   "cell_type": "markdown",
   "id": "a023bc7a-47b5-4508-957c-f3354c9fb363",
   "metadata": {},
   "source": [
    "By the time you complete this notebook you will:\n",
    "\n",
    "- Understand how to create custom runnable functions and include them in your LangChain chains.\n",
    "- Use custom runnable functions to preprocess data before sending it to an LLM.\n",
    "- Use custom functions to batch translate raw text into prompt templates.\n",
    "- Create a LangChain sentiment analysis chain utilizing multiple custom runnable functions."
   ]
  },
  {
   "cell_type": "markdown",
   "id": "f4e9ea06-814f-43fd-9f59-ce67dfcb1bbb",
   "metadata": {},
   "source": [
    "---"
   ]
  },
  {
   "cell_type": "markdown",
   "id": "327550d4",
   "metadata": {},
   "source": [
    "## Imports"
   ]
  },
  {
   "cell_type": "code",
   "execution_count": null,
   "id": "75febe51",
   "metadata": {},
   "outputs": [],
   "source": [
    "from langchain_nvidia_ai_endpoints import ChatNVIDIA\n",
    "from langchain_core.prompts import ChatPromptTemplate\n",
    "from langchain_core.output_parsers import StrOutputParser\n",
    "from langchain_core.runnables import RunnableLambda"
   ]
  },
  {
   "cell_type": "markdown",
   "id": "9bc7aca5-1c4a-4cb0-bd28-d8a7636cc96d",
   "metadata": {},
   "source": [
    "---"
   ]
  },
  {
   "cell_type": "markdown",
   "id": "5c0e1244",
   "metadata": {},
   "source": [
    "## Create a Model Instance"
   ]
  },
  {
   "cell_type": "code",
   "execution_count": null,
   "id": "c2c05c82",
   "metadata": {},
   "outputs": [],
   "source": [
    "base_url = 'http://llama:8000/v1'\n",
    "model = 'meta/llama-3.1-8b-instruct'\n",
    "llm = ChatNVIDIA(base_url=base_url, model=model, temperature=0)"
   ]
  },
  {
   "cell_type": "markdown",
   "id": "64d304e5-6bbe-4beb-ba92-fa208fb4c2f4",
   "metadata": {},
   "source": [
    "---"
   ]
  },
  {
   "cell_type": "markdown",
   "id": "b90f280c-cb9d-40d2-a6de-72d33308364e",
   "metadata": {},
   "source": [
    "## Using `RunnableLambda` to Create Custom Runnable Functions"
   ]
  },
  {
   "cell_type": "markdown",
   "id": "2c2519e1-99e4-4a1a-a624-a56b102f3a7f",
   "metadata": {},
   "source": [
    "We have already seen that LangChain provides composable runnables in the forms of LLM instances, prompt templates, and output parsers. Another powerful tool that LangChain provides is the ability to convert arbitrary functions into runnables with `RunnableLambda`."
   ]
  },
  {
   "cell_type": "code",
   "execution_count": null,
   "id": "1be3fc6e-0ccd-4196-80a5-00be9a8b3ed5",
   "metadata": {},
   "outputs": [],
   "source": [
    "from langchain_core.runnables import RunnableLambda"
   ]
  },
  {
   "cell_type": "markdown",
   "id": "fd8086a8-a01f-4e4a-ad6b-2206e741ddd4",
   "metadata": {},
   "source": [
    "We will begin exploring custom runnable functions with a simply math function."
   ]
  },
  {
   "cell_type": "code",
   "execution_count": null,
   "id": "dd5425cd-8452-4742-96dd-73b31d299751",
   "metadata": {},
   "outputs": [],
   "source": [
    "def double(x):\n",
    "    return 2*x"
   ]
  },
  {
   "cell_type": "markdown",
   "id": "8565182a-d323-4466-b3d9-db49192acd0c",
   "metadata": {},
   "source": [
    "It should come as no surprise that this simple Python function does not have a LangChain runnable's `invoke` (or `batch` or `stream`) method."
   ]
  },
  {
   "cell_type": "code",
   "execution_count": null,
   "id": "d923ffb1-19d0-45d2-88b2-d0beaeabf1ed",
   "metadata": {},
   "outputs": [],
   "source": [
    "try:\n",
    "    double.invoke(2)\n",
    "except AttributeError:\n",
    "    print('`double` is a Python function and does not have an `invoke` method.')"
   ]
  },
  {
   "cell_type": "markdown",
   "id": "6734fd4d-abfd-459f-b05d-9555a10837cb",
   "metadata": {},
   "source": [
    "However, we can easily convert it into a LangChain runnable by passing it into `RunnableLambda`."
   ]
  },
  {
   "cell_type": "code",
   "execution_count": null,
   "id": "658f876f-d02d-461c-b872-a69e818f0299",
   "metadata": {},
   "outputs": [],
   "source": [
    "runnable_double = RunnableLambda(double)"
   ]
  },
  {
   "cell_type": "code",
   "execution_count": null,
   "id": "87ebd04c-b23f-44c6-aa98-eae261002b3f",
   "metadata": {},
   "outputs": [],
   "source": [
    "runnable_double.invoke(6)"
   ]
  },
  {
   "cell_type": "code",
   "execution_count": null,
   "id": "09c8df39-eacd-429b-a980-5e2a9709782d",
   "metadata": {},
   "outputs": [],
   "source": [
    "runnable_double.batch([2, 4, 6, 8])"
   ]
  },
  {
   "cell_type": "markdown",
   "id": "78e70712-178a-41e7-8b9b-9253caff962f",
   "metadata": {},
   "source": [
    "Like other runnables, custom function runnables like `runnable_double` can be composed into chains."
   ]
  },
  {
   "cell_type": "code",
   "execution_count": null,
   "id": "a5fcfc25-0818-4689-b2a7-117bf8adbd37",
   "metadata": {},
   "outputs": [],
   "source": [
    "multiply_by_eight = runnable_double | runnable_double | runnable_double"
   ]
  },
  {
   "cell_type": "code",
   "execution_count": null,
   "id": "4147ffbd-10d8-415d-b551-f48ab7f51fb1",
   "metadata": {},
   "outputs": [],
   "source": [
    "multiply_by_eight.invoke(11)"
   ]
  },
  {
   "cell_type": "markdown",
   "id": "0c6bf3df-574a-45de-8e51-adc34a80b4ab",
   "metadata": {},
   "source": [
    "Your own creativity is the only limit as to how you might utilize custom functions in your chains, but for the remainder of this notebook we'll explore a couple common use cases for custom runnable functions in chains."
   ]
  },
  {
   "cell_type": "markdown",
   "id": "ff82e3be-4609-4958-b43b-c914cedec9cf",
   "metadata": {},
   "source": [
    "---"
   ]
  },
  {
   "cell_type": "markdown",
   "id": "b8f2d7b2-ddfb-4e66-b439-57a04974902f",
   "metadata": {},
   "source": [
    "## Data Management"
   ]
  },
  {
   "cell_type": "markdown",
   "id": "03742ff8-8fd7-465d-9279-e1b55bda569a",
   "metadata": {},
   "source": [
    "Whether for formatting, correction, or validation, you may wish to perform some work on data passing through your chains either before or after interacting with an LLM.\n",
    "\n",
    "As an example, suppose you are building a sentiment analysis application where user reviews are analyzed for their sentiment. User reviews can contain various inconsistencies like mixed capitalization, extra whitespace, and contractions. Normalizing this text before sending it to the LLM can improve the accuracy of the sentiment analysis.\n",
    "\n",
    "The following `normalize_text` function will normalize text by converting it to lowercase, expanding contractions, and removing extra whitespace."
   ]
  },
  {
   "cell_type": "code",
   "execution_count": null,
   "id": "8498202f-8fdc-47cc-b9a7-42e62f2bd189",
   "metadata": {},
   "outputs": [],
   "source": [
    "import re\n",
    "import contractions # pip install contractions\n",
    "\n",
    "def normalize_text(text):\n",
    "    # Convert text to lowercase\n",
    "    text = text.lower()\n",
    "    \n",
    "    # Expand contractions\n",
    "    text = contractions.fix(text)\n",
    "    \n",
    "    # Remove extra whitespace\n",
    "    text = re.sub(r'\\s+', ' ', text).strip()\n",
    "    \n",
    "    return text"
   ]
  },
  {
   "cell_type": "markdown",
   "id": "974065b0-1873-40ae-be08-793fa4c9377a",
   "metadata": {},
   "source": [
    "---"
   ]
  },
  {
   "cell_type": "markdown",
   "id": "1908927e-7edd-43ed-ad53-90d55e3a2d7a",
   "metadata": {},
   "source": [
    "## Exercise: Create Runnable Function to Normalize Text"
   ]
  },
  {
   "cell_type": "markdown",
   "id": "f2a9e142-cbaf-4511-bf5b-b3b0600833ee",
   "metadata": {},
   "source": [
    "Use what you've learned so far about creating runnable functions to create one out of the `normalize_text` function provided above.\n",
    "\n",
    "Upon successful implementation, you should be able to use it to batch process the following toy list of reviews.\n",
    "\n",
    "Feel free to check out the *Solution* below if you get stuck."
   ]
  },
  {
   "cell_type": "code",
   "execution_count": null,
   "id": "e8b77455-a259-4123-803b-0b246da74031",
   "metadata": {},
   "outputs": [],
   "source": [
    "reviews = [\n",
    "    \"I LOVE this product! It's absolutely amazing.   \",\n",
    "    \"Not bad, but could be better. I've seen worse.\",\n",
    "    \"Terrible experience... I'm never buying again!!\",\n",
    "    \"Pretty good, isn't it? Will buy again!\",\n",
    "    \"Excellent value for the money!!! Highly recommend.\"\n",
    "]"
   ]
  },
  {
   "cell_type": "markdown",
   "id": "0df532f6-e639-4754-91a2-9da37302268c",
   "metadata": {},
   "source": [
    "### Your Work Here"
   ]
  },
  {
   "cell_type": "code",
   "execution_count": null,
   "id": "a58513c8-9b00-47a9-8708-a367f25f4228",
   "metadata": {},
   "outputs": [],
   "source": []
  },
  {
   "cell_type": "markdown",
   "id": "16bbd0d0-f7e1-43ed-83e3-b5dbdacb8a87",
   "metadata": {
    "jp-MarkdownHeadingCollapsed": true
   },
   "source": [
    "### Solution"
   ]
  },
  {
   "cell_type": "code",
   "execution_count": null,
   "id": "1f668360-e36d-415a-a948-8c50e26a947f",
   "metadata": {},
   "outputs": [],
   "source": [
    "RunnableLambda(normalize_text).batch(reviews)"
   ]
  },
  {
   "cell_type": "markdown",
   "id": "ba7c2bba-1309-445e-a377-0c831a4c165a",
   "metadata": {},
   "source": [
    "---"
   ]
  },
  {
   "cell_type": "markdown",
   "id": "97ddc32a-01bf-4e2e-96ac-f77f9d3bc256",
   "metadata": {},
   "source": [
    "## Formatting Text for Prompt Templates"
   ]
  },
  {
   "cell_type": "markdown",
   "id": "6edc9d93-0cb9-4465-91ba-b0b5ef24cad3",
   "metadata": {},
   "source": [
    "In the previous exercise you ended up with a list of normalized reviews like the following."
   ]
  },
  {
   "cell_type": "code",
   "execution_count": null,
   "id": "8868b24d-40df-446b-9b86-33f770716239",
   "metadata": {},
   "outputs": [],
   "source": [
    "normalized_reviews = [\n",
    "    'i love this product! it is absolutely amazing.',\n",
    "    'not bad, but could be better. i have seen worse.',\n",
    "    'terrible experience... i am never buying again!!',\n",
    "    'pretty good, is not it? will buy again!',\n",
    "    'excellent value for the money!!! highly recommend.'\n",
    "]"
   ]
  },
  {
   "cell_type": "markdown",
   "id": "2bfd3110-7b3f-4329-97ff-87d3c23a56e0",
   "metadata": {},
   "source": [
    "Let us assume now that we would like to pipe these normalized reviews in to a prompt template for sentiment analysis like the following `sentiment_template`."
   ]
  },
  {
   "cell_type": "code",
   "execution_count": null,
   "id": "5df2c06d-a289-415e-8026-f4cac697b1b6",
   "metadata": {},
   "outputs": [],
   "source": [
    "sentiment_template = ChatPromptTemplate.from_template(\"\"\"In a single word, either 'positive' or 'negative', \\\n",
    "provide the overall sentiment of the following piece of text: {text}\"\"\")"
   ]
  },
  {
   "cell_type": "markdown",
   "id": "8cff615d-c39f-47cc-b79d-0b5e1d5ec2dd",
   "metadata": {},
   "source": [
    "We know from the previous notebook that to invoke the above template, we need to pass in a dictionary that contains keys for its placeholders (`{text}` in the above template), for example:"
   ]
  },
  {
   "cell_type": "code",
   "execution_count": null,
   "id": "ca532b43-40ba-4df9-ae52-294e32372858",
   "metadata": {},
   "outputs": [],
   "source": [
    "sentiment_template.invoke({\"text\": 'i love this product! it is absolutely amazing.'})"
   ]
  },
  {
   "cell_type": "markdown",
   "id": "7203321c-f7f3-4d16-9353-9df777a02d27",
   "metadata": {},
   "source": [
    "Therefore, in order to prepare the items in `normalized_review` for being piped into `sentiment_template`, we need to convert each line of text into a dictionary with the key `\"text\"` and the value the actual line of text.\n",
    "\n",
    "Let's create a runnable lambda to accomplish this. For this function we'll use an actual lambda function since the work we need to do is so minimal and define the runnable lambda straightaway."
   ]
  },
  {
   "cell_type": "code",
   "execution_count": null,
   "id": "a29aac6c-bb4d-479b-ba74-730a3bf0399f",
   "metadata": {},
   "outputs": [],
   "source": [
    "prep_for_sentiment_template = RunnableLambda(lambda text: {\"text\": text})"
   ]
  },
  {
   "cell_type": "markdown",
   "id": "67c08427-59d9-40b1-8a97-b1dd18fa0856",
   "metadata": {},
   "source": [
    "We can now use `prep_for_sentiment_template` to prep `normalized_reviews` for `sentiment_template`."
   ]
  },
  {
   "cell_type": "code",
   "execution_count": null,
   "id": "af47bec7-faae-439d-a872-c3e0d74cd30f",
   "metadata": {},
   "outputs": [],
   "source": [
    "prep_for_sentiment_template.batch(normalized_reviews)"
   ]
  },
  {
   "cell_type": "markdown",
   "id": "9d771328-a2d2-4a24-aee9-24d2bc305af3",
   "metadata": {},
   "source": [
    "---"
   ]
  },
  {
   "cell_type": "markdown",
   "id": "eee11871-ef0c-4a37-8ced-791409ffa687",
   "metadata": {},
   "source": [
    "## Exercise: Create a Sentiment Analysis Chain"
   ]
  },
  {
   "cell_type": "markdown",
   "id": "7e06ad31-5cb4-4889-a41a-4a65f8df05e5",
   "metadata": {},
   "source": [
    "For this exercise, create a sentiment analysis chain that you can pass the original `reviews` list above into as a batch.\n",
    "\n",
    "Your chain should:\n",
    "- Normalize the raw reviews.\n",
    "- Prepare the normalized reviews for use in `sentiment_template` (defined above).\n",
    "- Pipe the prepared normalized reviews through the `sentiment_template`.\n",
    "- Pipe the prompt templates to `llm` (already defined above).\n",
    "- Conclude by parsing the LLM outputs with an instance of `StrOutputParser`, which you will need to instantiate.\n",
    "\n",
    "Feel free to check out the solution below if you get stuck."
   ]
  },
  {
   "cell_type": "markdown",
   "id": "6b6f7036-dcc6-4eb0-88f9-8fb9f2869bc8",
   "metadata": {},
   "source": [
    "### Your Work"
   ]
  },
  {
   "cell_type": "code",
   "execution_count": null,
   "id": "e65f7deb-7b16-41f1-867e-e755f88c822e",
   "metadata": {},
   "outputs": [],
   "source": []
  },
  {
   "cell_type": "markdown",
   "id": "683e966d-42a7-46fd-805e-d0ea15cd09cf",
   "metadata": {
    "jp-MarkdownHeadingCollapsed": true
   },
   "source": [
    "### Solution"
   ]
  },
  {
   "cell_type": "markdown",
   "id": "0091a3c6-b025-4cd0-b53e-bf7474e625c4",
   "metadata": {},
   "source": [
    "The only component of the chain we haven't created yet is the output parser, so we create it here."
   ]
  },
  {
   "cell_type": "code",
   "execution_count": null,
   "id": "47a6af59-469c-45b2-8c2a-e3f2cb0bae33",
   "metadata": {},
   "outputs": [],
   "source": [
    "parser = StrOutputParser()"
   ]
  },
  {
   "cell_type": "markdown",
   "id": "d146bbd1-7898-48f0-8791-981ee092f865",
   "metadata": {},
   "source": [
    "With all the runnables created, we can compose our chain."
   ]
  },
  {
   "cell_type": "code",
   "execution_count": null,
   "id": "3ed50d95-b020-44f7-b374-1452ca47bec2",
   "metadata": {},
   "outputs": [],
   "source": [
    "sentiment_chain = RunnableLambda(normalize_text) | prep_for_sentiment_template | sentiment_template | llm | parser"
   ]
  },
  {
   "cell_type": "markdown",
   "id": "16ff589e-4721-4661-b922-fb80fee0e8d3",
   "metadata": {},
   "source": [
    "Now we can batch our raw reviews through the chain."
   ]
  },
  {
   "cell_type": "code",
   "execution_count": null,
   "id": "721563ea-9dba-4b76-87ec-ed0f00055952",
   "metadata": {},
   "outputs": [],
   "source": [
    "sentiment_chain.batch(reviews)"
   ]
  },
  {
   "cell_type": "markdown",
   "id": "b4865f24-5d8a-4185-a526-efed0fb4e518",
   "metadata": {},
   "source": [
    "---"
   ]
  },
  {
   "cell_type": "markdown",
   "id": "0e0180ae-c224-41ca-8111-e2e0091e123a",
   "metadata": {},
   "source": [
    "## Summary"
   ]
  },
  {
   "cell_type": "markdown",
   "id": "a5cb5233-a5f4-491c-9db9-ca7d5a31bb95",
   "metadata": {},
   "source": [
    "In this notebook you learned how to create custom runnables to include in your chains. As it turns out, chains themselves are runnables, and in the next notebook you'll begin learning how to chain together chains."
   ]
  }
 ],
 "metadata": {
  "kernelspec": {
   "display_name": "Python 3 (ipykernel)",
   "language": "python",
   "name": "python3"
  },
  "language_info": {
   "codemirror_mode": {
    "name": "ipython",
    "version": 3
   },
   "file_extension": ".py",
   "mimetype": "text/x-python",
   "name": "python",
   "nbconvert_exporter": "python",
   "pygments_lexer": "ipython3",
   "version": "3.12.1"
  }
 },
 "nbformat": 4,
 "nbformat_minor": 5
}
